{
 "cells": [
  {
   "cell_type": "markdown",
   "metadata": {},
   "source": [
    "### ESMA 3016\n",
    "### Edgar Acuna\n",
    "### Lab15: Distribuciones Continuas:  Uniforme y Exponencial\n",
    "### Octubre 2020\n",
    "### La Distribucion Uniforme y su aplicacion a simulacion."
   ]
  },
  {
   "cell_type": "markdown",
   "metadata": {},
   "source": [
    "$$f(x)=\\frac{1}{b-a},$$\n",
    "\n",
    "para $a<x<b$"
   ]
  },
  {
   "cell_type": "code",
   "execution_count": 1,
   "metadata": {},
   "outputs": [],
   "source": [
    "from scipy.stats  import uniform,expon,binom\n",
    "from scipy.integrate import quad\n",
    "import numpy as np\n",
    "import matplotlib.pyplot as plt\n",
    "%matplotlib inline"
   ]
  },
  {
   "cell_type": "code",
   "execution_count": 2,
   "metadata": {},
   "outputs": [
    {
     "data": {
      "text/plain": [
       "1.0"
      ]
     },
     "execution_count": 2,
     "metadata": {},
     "output_type": "execute_result"
    }
   ],
   "source": [
    "#El valor de la funcion de densidad uniforme (0,1) en el punto .1\n",
    "uniform.pdf(.1) "
   ]
  },
  {
   "cell_type": "code",
   "execution_count": 3,
   "metadata": {},
   "outputs": [
    {
     "data": {
      "text/plain": [
       "0.1"
      ]
     },
     "execution_count": 3,
     "metadata": {},
     "output_type": "execute_result"
    }
   ],
   "source": [
    "#La probabilidad acumulada de la Uniforme U(0,1) hasta .1\n",
    "uniform.cdf(.1)"
   ]
  },
  {
   "cell_type": "code",
   "execution_count": 4,
   "metadata": {},
   "outputs": [
    {
     "data": {
      "text/plain": [
       "0.09999999999999998"
      ]
     },
     "execution_count": 4,
     "metadata": {},
     "output_type": "execute_result"
    }
   ],
   "source": [
    "#La probabilidad de una Uniforme U(0,1) entre .4 y .5 es\n",
    "uniform.cdf(.5)-uniform.cdf(.4)"
   ]
  },
  {
   "cell_type": "code",
   "execution_count": 5,
   "metadata": {},
   "outputs": [
    {
     "data": {
      "text/plain": [
       "(array([0.99831073, 1.00106073, 0.99891073, 1.00599073, 1.00341073,\n",
       "        0.99503072, 0.99682073, 0.99877073, 0.99809073, 1.00361073]),\n",
       " array([1.70423565e-07, 1.00000098e-01, 2.00000025e-01, 2.99999952e-01,\n",
       "        3.99999879e-01, 4.99999806e-01, 5.99999733e-01, 6.99999660e-01,\n",
       "        7.99999588e-01, 8.99999515e-01, 9.99999442e-01]),\n",
       " <a list of 10 Patch objects>)"
      ]
     },
     "execution_count": 5,
     "metadata": {},
     "output_type": "execute_result"
    },
    {
     "data": {
      "image/png": "[encoded data removed]",
      "text/plain": [
       "<Figure size 432x288 with 1 Axes>"
      ]
     },
     "metadata": {
      "needs_background": "light"
     },
     "output_type": "display_data"
    }
   ],
   "source": [
    "#Simulando 10,000 uniformes (0,1) y haciendo su histograma\n",
    "plt.hist(uniform.rvs(0,1,1000000),density=True)"
   ]
  },
  {
   "cell_type": "code",
   "execution_count": 6,
   "metadata": {},
   "outputs": [
    {
     "data": {
      "text/plain": [
       "0.125"
      ]
     },
     "execution_count": 6,
     "metadata": {},
     "output_type": "execute_result"
    }
   ],
   "source": [
    "#Distribucion Uniforme en un intervalo (a,b)=(2,10)\n",
    "#Hay que usar los parametros loc=a y scale=b-a\n",
    "#Hallando la funcion de densidad de la uniforme U(2,10) en el punto x=2.5\n",
    "uniform.pdf(2.5,loc=2,scale=8)"
   ]
  },
  {
   "cell_type": "code",
   "execution_count": 7,
   "metadata": {},
   "outputs": [
    {
     "data": {
      "text/plain": [
       "<matplotlib.legend.Legend at 0x1c2b5233388>"
      ]
     },
     "execution_count": 7,
     "metadata": {},
     "output_type": "execute_result"
    },
    {
     "data": {
      "image/png": "[encoded data removed]",
      "text/plain": [
       "<Figure size 432x288 with 1 Axes>"
      ]
     },
     "metadata": {
      "needs_background": "light"
     },
     "output_type": "display_data"
    }
   ],
   "source": [
    "#Grafica de una uniforme U(2,10)\n",
    "x=np.arange(2,10,.5)\n",
    "plt.plot(x, uniform.pdf(x,2,8), 'k-', lw=1, label='densidad uniforme')\n",
    "plt.legend(loc='best', frameon=False)"
   ]
  },
  {
   "cell_type": "code",
   "execution_count": 8,
   "metadata": {},
   "outputs": [
    {
     "data": {
      "text/plain": [
       "0.5"
      ]
     },
     "execution_count": 8,
     "metadata": {},
     "output_type": "execute_result"
    }
   ],
   "source": [
    "#Hallando la probabilidad acumulada de la U(2,10) hasta el valor x=6. O sea P(X<6)\n",
    "uniform.cdf(6,loc=2,scale=8)"
   ]
  },
  {
   "cell_type": "code",
   "execution_count": 9,
   "metadata": {},
   "outputs": [
    {
     "data": {
      "text/plain": [
       "9.2"
      ]
     },
     "execution_count": 9,
     "metadata": {},
     "output_type": "execute_result"
    }
   ],
   "source": [
    "#Hallando el percentil correspondiente a una probabilidad de .9\n",
    "uniform.ppf(.9,loc=2,scale=8)"
   ]
  },
  {
   "cell_type": "code",
   "execution_count": 10,
   "metadata": {},
   "outputs": [
    {
     "data": {
      "text/plain": [
       "<matplotlib.legend.Legend at 0x1c2b52e7e88>"
      ]
     },
     "execution_count": 10,
     "metadata": {},
     "output_type": "execute_result"
    },
    {
     "data": {
      "image/png": "[encoded data removed]",
      "text/plain": [
       "<Figure size 432x288 with 1 Axes>"
      ]
     },
     "metadata": {
      "needs_background": "light"
     },
     "output_type": "display_data"
    }
   ],
   "source": [
    "#ejemplo 5.11.  X es U(0,2) se pide calcular P(1<X<3/2)\n",
    "plt.fill_between(x=np.arange(0,1,0.01), y1= uniform.pdf(np.arange(0,1,0.01),0,2),facecolor='red',alpha=0.35)\n",
    "plt.fill_between(x=np.arange(1,1.5,0.01), y1= uniform.pdf(np.arange(1,1.5,0.01),0,2),facecolor='blue',alpha=0.35,label='Probability')\n",
    "plt.fill_between(x=np.arange(1.5,2,0.01), y1= uniform.pdf(np.arange(1.5,2,0.01),0,2),facecolor='red',alpha=0.35)\n",
    "plt.legend(loc='best',frameon=False)"
   ]
  },
  {
   "cell_type": "code",
   "execution_count": 11,
   "metadata": {},
   "outputs": [
    {
     "name": "stdout",
     "output_type": "stream",
     "text": [
      "the probability is 0.25\n"
     ]
    }
   ],
   "source": [
    "prob=uniform.cdf(1.5,0,2)-uniform.cdf(1,0,2)\n",
    "print(\"the probability is\",prob)"
   ]
  },
  {
   "cell_type": "markdown",
   "metadata": {},
   "source": [
    "### Generando al azar n valores de una Bernoulli con parametro p"
   ]
  },
  {
   "cell_type": "code",
   "execution_count": 12,
   "metadata": {},
   "outputs": [],
   "source": [
    "#**********************************************************\n",
    "#Generando al azar n valores de una bernoulli con parametro p\n",
    "#*********************************************************\n",
    "def bernoulli(p,m):\n",
    "    x=[0]*m\n",
    "    for i in range(m):\n",
    "        if uniform.rvs(0,1,1)<p:\n",
    "            x[i]=1 \n",
    "    return x"
   ]
  },
  {
   "cell_type": "code",
   "execution_count": 13,
   "metadata": {},
   "outputs": [
    {
     "data": {
      "text/plain": [
       "[0, 0, 0, 0, 1, 0, 1, 1, 0, 0, 1, 0, 1, 0, 0, 1, 0, 1, 1, 0]"
      ]
     },
     "execution_count": 13,
     "metadata": {},
     "output_type": "execute_result"
    }
   ],
   "source": [
    "bernoulli(.3,20)"
   ]
  },
  {
   "cell_type": "code",
   "execution_count": 14,
   "metadata": {},
   "outputs": [],
   "source": [
    "#Otra forma\n",
    "def bernoulli1(p,m):\n",
    "    b=[uniform.rvs(0,1,1)<p for _ in range(0,m)]\n",
    "    return [int(x) for x in b]"
   ]
  },
  {
   "cell_type": "code",
   "execution_count": 15,
   "metadata": {},
   "outputs": [
    {
     "data": {
      "text/plain": [
       "[1, 1, 0, 1, 0, 0, 1, 1, 0, 0, 1, 0, 1, 0, 0, 0, 0, 0, 1, 0]"
      ]
     },
     "execution_count": 15,
     "metadata": {},
     "output_type": "execute_result"
    }
   ],
   "source": [
    "bernoulli1(.3,20)"
   ]
  },
  {
   "cell_type": "markdown",
   "metadata": {},
   "source": [
    "### Generando al azar m valores de una binomial con parametros n y p"
   ]
  },
  {
   "cell_type": "code",
   "execution_count": 16,
   "metadata": {},
   "outputs": [],
   "source": [
    "#************************************************************\n",
    "#Generando al azar m valores de una binomial con parametros n y p\n",
    "#************************************************************\n",
    "#La suma de n Bernoulli's da una binomial(n,p)\n",
    "def rbinomial(p,n,m):\n",
    "    x=[0]*m\n",
    "    for i in range(m): \n",
    "        y=0\n",
    "        for j in range(n):\n",
    "            y+=sum(bernoulli(p,1))\n",
    "        x[i]=y    \n",
    "    return x"
   ]
  },
  {
   "cell_type": "code",
   "execution_count": 17,
   "metadata": {},
   "outputs": [
    {
     "name": "stdout",
     "output_type": "stream",
     "text": [
      "--- 2.122196674346924 seconds ---\n"
     ]
    },
    {
     "data": {
      "text/plain": [
       "[3, 1, 5, 4, 2, 3, 6, 6, 3, 4, 3, 3, 5, 5, 3, 5, 3, 2, 2, 1]"
      ]
     },
     "execution_count": 17,
     "metadata": {},
     "output_type": "execute_result"
    }
   ],
   "source": [
    "import time\n",
    "start_time = time.time()\n",
    "rbinomial(.5,6,10000)\n",
    "print(\"--- %s seconds ---\" % (time.time() - start_time))\n",
    "rbinomial(.5,6,20)"
   ]
  },
  {
   "cell_type": "code",
   "execution_count": 18,
   "metadata": {},
   "outputs": [],
   "source": [
    "#Otra forma\n",
    "def rbinom1(p,n,m):\n",
    "    b=[bernoulli1(p,n) for _ in range(0,m)]\n",
    "    return np.sum(b,axis=1)"
   ]
  },
  {
   "cell_type": "code",
   "execution_count": 19,
   "metadata": {},
   "outputs": [
    {
     "name": "stdout",
     "output_type": "stream",
     "text": [
      "--- 2.0863685607910156 seconds ---\n"
     ]
    },
    {
     "data": {
      "text/plain": [
       "array([2, 3, 5, 3, 4, 2, 5, 2, 4, 1, 1, 2, 4, 4, 2, 3, 2, 2, 1, 1])"
      ]
     },
     "execution_count": 19,
     "metadata": {},
     "output_type": "execute_result"
    }
   ],
   "source": [
    "start_time = time.time()\n",
    "rbinom1(.5,6,10000)\n",
    "print(\"--- %s seconds ---\" % (time.time() - start_time))\n",
    "rbinom1(.5,6,20)"
   ]
  },
  {
   "cell_type": "code",
   "execution_count": 20,
   "metadata": {},
   "outputs": [
    {
     "name": "stdout",
     "output_type": "stream",
     "text": [
      "--- 0.0010311603546142578 seconds ---\n"
     ]
    },
    {
     "data": {
      "text/plain": [
       "array([4, 5, 3, 3, 3, 3, 4, 2, 6, 3, 4, 4, 2, 1, 3, 5, 3, 4, 3, 5])"
      ]
     },
     "execution_count": 20,
     "metadata": {},
     "output_type": "execute_result"
    }
   ],
   "source": [
    "start_time = time.time()\n",
    "binom.rvs(6,.5,size=10000)\n",
    "print(\"--- %s seconds ---\" % (time.time() - start_time))\n",
    "binom.rvs(6,.5,size=20)"
   ]
  },
  {
   "cell_type": "markdown",
   "metadata": {},
   "source": [
    "### Distribucion exponencial\n",
    "$$f(x)=\\frac{1}{\\theta}e^{-\\frac{x}{\\theta}},$$\n",
    "\n",
    "para $x>0$, tambien $\\theta>0$"
   ]
  },
  {
   "cell_type": "code",
   "execution_count": 21,
   "metadata": {},
   "outputs": [],
   "source": [
    "#***************************************************************************\n",
    "#simulando una muestra de 200 tiempos de espera en un banco\n",
    "#se esta considerando que el tiempo de espera promedio es 10 minutos\n",
    "#los tiempos estan dados en minutos\n",
    "#******************************************************************************* \n",
    "tiempos=expon.rvs(scale=10,size=200)"
   ]
  },
  {
   "cell_type": "code",
   "execution_count": 22,
   "metadata": {},
   "outputs": [
    {
     "data": {
      "text/plain": [
       "array([9.57301824e-01, 1.64851066e+01, 6.83620064e+00, 1.43967173e+01,\n",
       "       1.53632883e+01, 2.71401295e+00, 9.20946976e+00, 1.78031888e+01,\n",
       "       2.15173805e+00, 1.20305724e+01, 7.78432513e+00, 2.28449666e+00,\n",
       "       9.81430227e+00, 6.24830139e-01, 7.68658586e-01, 1.56751005e+00,\n",
       "       3.82242577e+00, 3.74596985e+01, 1.02345573e+01, 7.94685134e-01,\n",
       "       1.04139547e+01, 6.14934067e+00, 1.86637653e+00, 4.57607843e+00,\n",
       "       2.42000334e+00, 2.78079398e+00, 4.13356055e-01, 5.25776163e+00,\n",
       "       1.31369244e+01, 4.75302095e+00, 1.66706890e+01, 2.12422511e-01,\n",
       "       9.54242918e-01, 1.43721101e+01, 1.02040999e+00, 5.80358615e+00,\n",
       "       3.50540741e+01, 2.88845767e+00, 3.52320450e+00, 5.78320042e+00,\n",
       "       1.74351174e+00, 1.59891973e+00, 1.90629368e+01, 1.42467254e+01,\n",
       "       3.51396905e+00, 1.24160433e+01, 9.17221080e+00, 1.47159703e+01,\n",
       "       1.80594183e+00, 6.27255657e-01, 2.63113944e+00, 5.98532142e-01,\n",
       "       4.07308083e+00, 4.64047972e-01, 5.24141120e+00, 2.25010042e+00,\n",
       "       2.28975550e+00, 1.53947166e+01, 4.00308394e+00, 1.60307564e+00,\n",
       "       4.70606689e+01, 6.41172433e+00, 1.13137107e+00, 1.72415863e+01,\n",
       "       1.42626767e+01, 3.22412424e-01, 4.24940497e+00, 1.28105794e+01,\n",
       "       3.93994200e+00, 3.79667168e+00, 1.10214781e+01, 3.24703748e+00,\n",
       "       5.77958410e+00, 5.81066613e-01, 1.85407003e+00, 3.70123044e+00,\n",
       "       8.26454977e-01, 6.62578493e+00, 2.35214249e+00, 6.85855137e+00,\n",
       "       2.35759323e+01, 2.25414526e+01, 1.69170579e-01, 3.55481026e+00,\n",
       "       6.65363641e-01, 2.97873727e+00, 7.01110236e+00, 4.83397712e-01,\n",
       "       2.70501299e+00, 6.71309524e+00, 7.26966869e+00, 3.20744261e+00,\n",
       "       5.50277073e-01, 4.22550377e+00, 3.52738459e+00, 5.19881457e+00,\n",
       "       7.94577653e+00, 4.27883712e+01, 8.99731196e+00, 9.39905381e+00,\n",
       "       5.36646628e+01, 9.54741323e+00, 6.26598304e+01, 5.46471300e+00,\n",
       "       6.65967942e+00, 5.43220328e-01, 7.21151740e+00, 1.67841563e-01,\n",
       "       9.84431419e-01, 4.42375694e+00, 1.02511301e+01, 2.45456236e+01,\n",
       "       4.07242654e+00, 7.35852161e+00, 3.44876124e+00, 7.36729810e+00,\n",
       "       4.42273775e+00, 2.95191278e-01, 3.56225686e+00, 1.70107430e+00,\n",
       "       1.24505092e+01, 5.52822196e+00, 8.81927934e+00, 1.61185692e+01,\n",
       "       5.83956368e+00, 4.85814246e-01, 3.60942057e+01, 2.32852394e-01,\n",
       "       1.99628713e+00, 1.30099892e+00, 8.07190916e+00, 1.67648242e+01,\n",
       "       9.25566880e+00, 9.76890025e+00, 4.55984894e+01, 8.45721439e+00,\n",
       "       1.60890534e-01, 3.95975786e-01, 1.99785723e+01, 2.13527391e+01,\n",
       "       5.99572610e+00, 5.10905378e+00, 2.06778459e+00, 9.04984160e-01,\n",
       "       3.92504974e+00, 8.53437434e-01, 2.04956457e+01, 8.28890256e+00,\n",
       "       8.26454682e+00, 1.22884427e+01, 2.70954617e+01, 3.63109839e-01,\n",
       "       2.17575465e-01, 2.38865001e+00, 2.27665664e+01, 2.10627525e-01,\n",
       "       2.94773083e+01, 6.17359563e+00, 5.45713612e+00, 1.16546662e+01,\n",
       "       7.87004091e+00, 1.69741611e-01, 1.43759000e+00, 2.63220747e-01,\n",
       "       8.94491327e-01, 2.79492274e+01, 7.17783391e+00, 4.96788271e+00,\n",
       "       1.47695175e-02, 3.73443581e+00, 2.64136082e+01, 1.88501198e+01,\n",
       "       7.60669230e+00, 2.11034553e-01, 8.50891087e+00, 1.79860520e+01,\n",
       "       4.57231793e+00, 4.64132288e-01, 9.55239952e+00, 2.43014928e+00,\n",
       "       2.21526147e+01, 4.00864042e+01, 8.46775691e+00, 6.44603810e+00,\n",
       "       1.32546578e+01, 1.06738238e+01, 2.09649924e+01, 1.45533561e+01,\n",
       "       1.11621739e+00, 4.69272509e-01, 6.68357369e+00, 4.48648269e+01,\n",
       "       1.48084392e+01, 4.66182640e-02, 2.84362768e+00, 4.86086470e+00,\n",
       "       1.84581732e+01, 3.76025108e+01, 9.69638823e+00, 1.52672147e+01])"
      ]
     },
     "execution_count": 22,
     "metadata": {},
     "output_type": "execute_result"
    }
   ],
   "source": [
    "tiempos"
   ]
  },
  {
   "cell_type": "code",
   "execution_count": 23,
   "metadata": {
    "scrolled": false
   },
   "outputs": [
    {
     "data": {
      "text/plain": [
       "<matplotlib.legend.Legend at 0x1c2b532d348>"
      ]
     },
     "execution_count": 23,
     "metadata": {},
     "output_type": "execute_result"
    },
    {
     "data": {
      "image/png": "[encoded data removed]",
      "text/plain": [
       "<Figure size 432x288 with 1 Axes>"
      ]
     },
     "metadata": {
      "needs_background": "light"
     },
     "output_type": "display_data"
    }
   ],
   "source": [
    "#Generando un histograma de los datos pero de tal manera que el area total sea 1\n",
    "x=np.arange(0,100,.5)\n",
    "#Haciendo una comparacion grafica\n",
    "fig, ax = plt.subplots(1, 1)\n",
    "ax.hist(tiempos, density = True,alpha=.7)\n",
    "ax.plot(x, expon.pdf(x,scale=10), 'k-', lw=1, label='densidad exponencial')\n",
    "ax.legend(loc='best', frameon=False)"
   ]
  },
  {
   "cell_type": "markdown",
   "metadata": {},
   "source": [
    "Cual es la probabilidad de que se tenga que esperar mas de 15 minutos para ser atendido?\n",
    "Area bajo la curva mas alla de 15"
   ]
  },
  {
   "cell_type": "markdown",
   "metadata": {},
   "source": [
    "$$P(x>15)=\\int_{15}^{\\infty}\\frac{1}{10}e^{-\\frac{x}{10}}dx$$"
   ]
  },
  {
   "cell_type": "code",
   "execution_count": 24,
   "metadata": {
    "scrolled": true
   },
   "outputs": [
    {
     "data": {
      "text/plain": [
       "<matplotlib.legend.Legend at 0x1c2b52f0588>"
      ]
     },
     "execution_count": 24,
     "metadata": {},
     "output_type": "execute_result"
    },
    {
     "data": {
      "image/png": "[encoded data removed]",
      "text/plain": [
       "<Figure size 432x288 with 1 Axes>"
      ]
     },
     "metadata": {
      "needs_background": "light"
     },
     "output_type": "display_data"
    }
   ],
   "source": [
    "plt.fill_between(x=np.arange(0,30,0.01), y1= expon.pdf(np.arange(0,30,0.01),scale=10),facecolor='red',alpha=0.35)\n",
    "plt.fill_between(x=np.arange(15,30,0.01), y1= expon.pdf(np.arange(15,30,0.01),scale=10),facecolor='blue',alpha=0.35,label='Probability')\n",
    "plt.legend(loc='best', frameon=False)"
   ]
  },
  {
   "cell_type": "code",
   "execution_count": 25,
   "metadata": {},
   "outputs": [
    {
     "data": {
      "text/plain": [
       "(0.22313016014842987, 2.2730397098404664e-10)"
      ]
     },
     "execution_count": 25,
     "metadata": {},
     "output_type": "execute_result"
    }
   ],
   "source": [
    "#Calculando aproximadamente la integral\n",
    "def integrando(x):\n",
    "    return np.exp(-x/10)/10\n",
    "quad(integrando,15,np.Inf)"
   ]
  },
  {
   "cell_type": "markdown",
   "metadata": {},
   "source": [
    "#### El primer valor es el resultado de la integral y el segundo es el error del resultado"
   ]
  },
  {
   "cell_type": "code",
   "execution_count": 26,
   "metadata": {},
   "outputs": [
    {
     "data": {
      "text/plain": [
       "0.2231301601484298"
      ]
     },
     "execution_count": 26,
     "metadata": {},
     "output_type": "execute_result"
    }
   ],
   "source": [
    "#Haciendolo por complemento=1-area hasta 15 y usando la densidad exponencial\n",
    "1-expon.cdf(15,scale=10)"
   ]
  },
  {
   "cell_type": "code",
   "execution_count": 27,
   "metadata": {},
   "outputs": [
    {
     "data": {
      "text/plain": [
       "0.185"
      ]
     },
     "execution_count": 27,
     "metadata": {},
     "output_type": "execute_result"
    }
   ],
   "source": [
    "#Estimando la probabilidad\n",
    "probest=len(tiempos[tiempos>15])/float(200)\n",
    "probest"
   ]
  },
  {
   "cell_type": "code",
   "execution_count": 28,
   "metadata": {},
   "outputs": [],
   "source": [
    "#X=Tiempo de la duracion de la compoente , que es una Exponencial con parametro 100\n",
    "#P(50<X<100)"
   ]
  },
  {
   "cell_type": "code",
   "execution_count": 29,
   "metadata": {},
   "outputs": [
    {
     "data": {
      "text/plain": [
       "<matplotlib.legend.Legend at 0x1c2b5425f48>"
      ]
     },
     "execution_count": 29,
     "metadata": {},
     "output_type": "execute_result"
    },
    {
     "data": {
      "image/png": "[encoded data removed]",
      "text/plain": [
       "<Figure size 432x288 with 1 Axes>"
      ]
     },
     "metadata": {
      "needs_background": "light"
     },
     "output_type": "display_data"
    }
   ],
   "source": [
    "plt.fill_between(x=np.arange(0,50,0.01), y1= expon.pdf(np.arange(0,50,0.01),scale=100),facecolor='red',alpha=0.35)\n",
    "plt.fill_between(x=np.arange(50,100,0.01), y1= expon.pdf(np.arange(50,100,0.01),scale=100),facecolor='blue',alpha=0.35,label='Probability')\n",
    "plt.fill_between(x=np.arange(100,500,0.01), y1= expon.pdf(np.arange(100,500,0.01),scale=100),facecolor='red',alpha=0.35)\n",
    "plt.legend(loc='best', frameon=False)"
   ]
  },
  {
   "cell_type": "code",
   "execution_count": 30,
   "metadata": {},
   "outputs": [
    {
     "data": {
      "text/plain": [
       "0.2386512185411911"
      ]
     },
     "execution_count": 30,
     "metadata": {},
     "output_type": "execute_result"
    }
   ],
   "source": [
    "proba=expon.cdf(100,scale=100)-expon.cdf(50,scale=100)\n",
    "proba"
   ]
  },
  {
   "cell_type": "code",
   "execution_count": null,
   "metadata": {},
   "outputs": [],
   "source": []
  }
 ],
 "metadata": {
  "kernelspec": {
   "display_name": "Python 3",
   "language": "python",
   "name": "python3"
  },
  "language_info": {
   "codemirror_mode": {
    "name": "ipython",
    "version": 3
   },
   "file_extension": ".py",
   "mimetype": "text/x-python",
   "name": "python",
   "nbconvert_exporter": "python",
   "pygments_lexer": "ipython3",
   "version": "3.7.6"
  }
 },
 "nbformat": 4,
 "nbformat_minor": 2
}
