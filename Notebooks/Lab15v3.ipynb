{
 "cells": [
  {
   "cell_type": "markdown",
   "metadata": {},
   "source": [
    "### ESMA 3016\n",
    "### Edgar Acuna\n",
    "### Lab15: Distribuciones Continuas:  Uniforme y Exponencial\n",
    "### La Distribucion Uniforme y su aplicacion a simulacion."
   ]
  },
  {
   "cell_type": "markdown",
   "metadata": {},
   "source": [
    "$$f(x)=\\frac{1}{b-a},$$\n",
    "\n",
    "para $a<x<b$"
   ]
  },
  {
   "cell_type": "code",
   "execution_count": 1,
   "metadata": {},
   "outputs": [],
   "source": [
    "from scipy.stats  import uniform,expon,binom\n",
    "from scipy.integrate import quad\n",
    "import numpy as np\n",
    "import matplotlib.pyplot as plt\n",
    "%matplotlib inline"
   ]
  },
  {
   "cell_type": "code",
   "execution_count": 2,
   "metadata": {},
   "outputs": [
    {
     "data": {
      "text/plain": [
       "1.0"
      ]
     },
     "execution_count": 2,
     "metadata": {},
     "output_type": "execute_result"
    }
   ],
   "source": [
    "#El valor de la funcion de densidad uniforme (0,1) en el punto .1\n",
    "uniform.pdf(.1) "
   ]
  },
  {
   "cell_type": "code",
   "execution_count": 3,
   "metadata": {},
   "outputs": [
    {
     "data": {
      "text/plain": [
       "0.1"
      ]
     },
     "execution_count": 3,
     "metadata": {},
     "output_type": "execute_result"
    }
   ],
   "source": [
    "#La probabilidad acumulada de la Uniforme (0,1) hasta .1\n",
    "uniform.cdf(.1)"
   ]
  },
  {
   "cell_type": "code",
   "execution_count": 4,
   "metadata": {},
   "outputs": [
    {
     "data": {
      "text/plain": [
       "0.09999999999999998"
      ]
     },
     "execution_count": 4,
     "metadata": {},
     "output_type": "execute_result"
    }
   ],
   "source": [
    "#La probabilidad de una Uniforme entre .4 y .5 es\n",
    "uniform.cdf(.5)-uniform.cdf(.4)"
   ]
  },
  {
   "cell_type": "code",
   "execution_count": null,
   "metadata": {},
   "outputs": [
    {
     "name": "stderr",
     "output_type": "stream",
     "text": [
      "C:\\Users\\edgar2017\\Anaconda2\\envs\\ipykernel_py3\\lib\\site-packages\\matplotlib\\axes\\_axes.py:6510: MatplotlibDeprecationWarning: \n",
      "The 'normed' kwarg was deprecated in Matplotlib 2.1 and will be removed in 3.1. Use 'density' instead.\n",
      "  alternative=\"'density'\", removal=\"3.1\")\n"
     ]
    },
    {
     "data": {
      "text/plain": [
       "(array([1.02404377, 1.00004275, 1.03504424, 0.98304202, 1.00804309,\n",
       "        1.02104365, 0.99404249, 0.99404249, 0.95104065, 0.99004232]),\n",
       " array([3.48611280e-06, 9.99992115e-02, 1.99994937e-01, 2.99990662e-01,\n",
       "        3.99986388e-01, 4.99982113e-01, 5.99977838e-01, 6.99973564e-01,\n",
       "        7.99969289e-01, 8.99965014e-01, 9.99960740e-01]),\n",
       " <a list of 10 Patch objects>)"
      ]
     },
     "execution_count": 5,
     "metadata": {},
     "output_type": "execute_result"
    },
    {
     "data": {
      "image/png": "[encoded data removed]",
      "text/plain": [
       "<Figure size 432x288 with 1 Axes>"
      ]
     },
     "metadata": {
      "needs_background": "light"
     },
     "output_type": "display_data"
    }
   ],
   "source": [
    "#Simulando 10,000 uniformes (0,1) y haciendo su histograma\n",
    "plt.hist(uniform.rvs(0,1,10000),normed=True)"
   ]
  },
  {
   "cell_type": "code",
   "execution_count": null,
   "metadata": {},
   "outputs": [
    {
     "data": {
      "text/plain": [
       "0.125"
      ]
     },
     "execution_count": 6,
     "metadata": {},
     "output_type": "execute_result"
    }
   ],
   "source": [
    "#Distribucion Uniforme en un intervalo (a,b)=(2,10)\n",
    "#Hay que usar los parametros loc=a y scale=b-a\n",
    "#Hallando la funcion de densidad de la uniforme U(2,10) en el punto x=2.5\n",
    "uniform.pdf(2.5,loc=2,scale=8)"
   ]
  },
  {
   "cell_type": "code",
   "execution_count": null,
   "metadata": {},
   "outputs": [
    {
     "data": {
      "text/plain": [
       "0.5"
      ]
     },
     "execution_count": 7,
     "metadata": {},
     "output_type": "execute_result"
    }
   ],
   "source": [
    "#Hallando la probabilidad acumulada de la U(2,10) hasta el valor x=6. O sea P(X<6)\n",
    "uniform.cdf(6,loc=2,scale=8)"
   ]
  },
  {
   "cell_type": "code",
   "execution_count": null,
   "metadata": {},
   "outputs": [
    {
     "data": {
      "text/plain": [
       "9.2"
      ]
     },
     "execution_count": 8,
     "metadata": {},
     "output_type": "execute_result"
    }
   ],
   "source": [
    "#Hallando el percentil correspondiente a una probabilidad de .9\n",
    "uniform.ppf(.9,loc=2,scale=8)"
   ]
  },
  {
   "cell_type": "code",
   "execution_count": null,
   "metadata": {},
   "outputs": [],
   "source": [
    "#**********************************************************\n",
    "#Generando al azar n valores de una bernoulli con parametro p\n",
    "#*********************************************************\n",
    "def bernoulli(p,m):\n",
    "    x=[0]*m\n",
    "    for i in range(m):\n",
    "        if uniform.rvs(0,1,1)<p:\n",
    "            x[i]=1 \n",
    "    return x"
   ]
  },
  {
   "cell_type": "code",
   "execution_count": null,
   "metadata": {},
   "outputs": [
    {
     "data": {
      "text/plain": [
       "[0, 0, 0, 0, 0, 0, 1, 0, 0, 0, 1, 0, 1, 1, 1, 0, 0, 0, 0, 1]"
      ]
     },
     "execution_count": 10,
     "metadata": {},
     "output_type": "execute_result"
    }
   ],
   "source": [
    "bernoulli(.3,20)"
   ]
  },
  {
   "cell_type": "code",
   "execution_count": null,
   "metadata": {},
   "outputs": [],
   "source": [
    "#Otra forma\n",
    "def bernoulli1(p,m):\n",
    "    b=[uniform.rvs(0,1,1)<p for _ in range(0,m)]\n",
    "    return [int(x) for x in b]"
   ]
  },
  {
   "cell_type": "code",
   "execution_count": null,
   "metadata": {},
   "outputs": [
    {
     "data": {
      "text/plain": [
       "[0, 0, 0, 1, 0, 1, 1, 1, 0, 0, 0, 1, 0, 0, 1, 0, 0, 0, 0, 1]"
      ]
     },
     "execution_count": 12,
     "metadata": {},
     "output_type": "execute_result"
    }
   ],
   "source": [
    "bernoulli1(.3,20)"
   ]
  },
  {
   "cell_type": "code",
   "execution_count": null,
   "metadata": {},
   "outputs": [],
   "source": [
    "#************************************************************\n",
    "#Generando al azar m valores de una binomial con parametros n y p\n",
    "#************************************************************\n",
    "#La suma de n Bernoulli's da una binomial(n,p)\n",
    "def rbinomial(p,n,m):\n",
    "    x=[0]*m\n",
    "    for i in range(m): \n",
    "        y=0\n",
    "        for j in range(n):\n",
    "            y+=sum(bernoulli(p,1))\n",
    "        x[i]=y    \n",
    "    return x"
   ]
  },
  {
   "cell_type": "code",
   "execution_count": null,
   "metadata": {},
   "outputs": [
    {
     "name": "stdout",
     "output_type": "stream",
     "text": [
      "--- 3.2385947704315186 seconds ---\n"
     ]
    },
    {
     "data": {
      "text/plain": [
       "[1, 3, 4, 2, 6, 4, 4, 3, 4, 5, 5, 3, 2, 5, 4, 5, 6, 4, 3, 4]"
      ]
     },
     "execution_count": 14,
     "metadata": {},
     "output_type": "execute_result"
    }
   ],
   "source": [
    "import time\n",
    "start_time = time.time()\n",
    "rbinomial(.5,6,10000)\n",
    "print(\"--- %s seconds ---\" % (time.time() - start_time))\n",
    "rbinomial(.5,6,20)"
   ]
  },
  {
   "cell_type": "code",
   "execution_count": null,
   "metadata": {},
   "outputs": [],
   "source": [
    "#Otra forma\n",
    "def rbinom1(p,n,m):\n",
    "    b=[bernoulli1(p,n) for _ in range(0,m)]\n",
    "    return np.sum(b,axis=1)"
   ]
  },
  {
   "cell_type": "code",
   "execution_count": null,
   "metadata": {},
   "outputs": [],
   "source": [
    "start_time = time.time()\n",
    "rbinom1(.5,6,10000)\n",
    "print(\"--- %s seconds ---\" % (time.time() - start_time))\n",
    "rbinom1(.5,6,20)"
   ]
  },
  {
   "cell_type": "code",
   "execution_count": null,
   "metadata": {},
   "outputs": [],
   "source": [
    "start_time = time.time()\n",
    "binom.rvs(6,.5,size=10000)\n",
    "print(\"--- %s seconds ---\" % (time.time() - start_time))\n",
    "binom.rvs(6,.5,size=20)"
   ]
  },
  {
   "cell_type": "markdown",
   "metadata": {},
   "source": [
    "### Distribucion exponencial\n",
    "$$f(x)=\\frac{1}{\\theta}e^{-\\frac{x}{\\theta}},$$\n",
    "\n",
    "para $x>0$, tambien $\\theta>0$"
   ]
  },
  {
   "cell_type": "code",
   "execution_count": null,
   "metadata": {},
   "outputs": [],
   "source": [
    "#***************************************************************************\n",
    "#simulando una muestra de 200 tiempos de espera en un banco\n",
    "#se esta considerando que el tiempo de espera promedio es 10 minutos\n",
    "#los tiempos estan dados en minutos\n",
    "#******************************************************************************* \n",
    "tiempos=expon.rvs(scale=10,size=200)"
   ]
  },
  {
   "cell_type": "code",
   "execution_count": null,
   "metadata": {
    "scrolled": false
   },
   "outputs": [],
   "source": [
    "#Generando un histograma de los datos pero de tal manera que el area total sea 1\n",
    "x=np.arange(0,100,.5)\n",
    "#Haciendo una comparacion grafica\n",
    "fig, ax = plt.subplots(1, 1)\n",
    "ax.hist(tiempos, normed = True,alpha=.7)\n",
    "ax.plot(x, expon.pdf(x,scale=10), 'k-', lw=1, label='densidad exponencial')\n",
    "ax.legend(loc='best', frameon=False)"
   ]
  },
  {
   "cell_type": "markdown",
   "metadata": {},
   "source": [
    "Cual es la probabilidad de que se tenga que esperar mas de 15 minutos para ser atendido?\n",
    "Area bajo la curva mas alla de 15"
   ]
  },
  {
   "cell_type": "markdown",
   "metadata": {},
   "source": [
    "$$P(x>15)=\\int_{15}^{\\infty}\\frac{1}{10}e^{-\\frac{x}{10}}dx$$"
   ]
  },
  {
   "cell_type": "code",
   "execution_count": null,
   "metadata": {},
   "outputs": [],
   "source": [
    "#Calculando aproximadamente la integral\n",
    "def integrando(x):\n",
    "    return np.exp(-x/10)/10\n",
    "quad(integrando,15,np.Inf)"
   ]
  },
  {
   "cell_type": "markdown",
   "metadata": {},
   "source": [
    "#### El primer valor es el resultado de la integral y el segundo es el error del resultado"
   ]
  },
  {
   "cell_type": "code",
   "execution_count": null,
   "metadata": {},
   "outputs": [],
   "source": [
    "#Haciendolo por complemento=1-area hasta 15 y usando la densidad exponencial\n",
    "1-expon.cdf(15,scale=10)"
   ]
  },
  {
   "cell_type": "code",
   "execution_count": null,
   "metadata": {},
   "outputs": [],
   "source": [
    "#Estimando la probabilidad\n",
    "probest=len(tiempos[tiempos>15])/float(200)\n",
    "probest"
   ]
  },
  {
   "cell_type": "code",
   "execution_count": null,
   "metadata": {},
   "outputs": [],
   "source": []
  }
 ],
 "metadata": {
  "kernelspec": {
   "display_name": "Python 3",
   "language": "python",
   "name": "python3"
  },
  "language_info": {
   "codemirror_mode": {
    "name": "ipython",
    "version": 3
   },
   "file_extension": ".py",
   "mimetype": "text/x-python",
   "name": "python",
   "nbconvert_exporter": "python",
   "pygments_lexer": "ipython3",
   "version": "3.5.5"
  }
 },
 "nbformat": 4,
 "nbformat_minor": 2
}
