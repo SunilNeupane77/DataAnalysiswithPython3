{
 "cells": [
  {
   "cell_type": "markdown",
   "metadata": {},
   "source": [
    "### ESMA 3016\n",
    "### Edgar Acuna\n",
    "### Lab18: Distribucion de la Media Muestral y el Teorema del Limte Central (Liapunov, 1901)\n",
    "### Octubre del 2020"
   ]
  },
  {
   "cell_type": "code",
   "execution_count": 4,
   "metadata": {},
   "outputs": [],
   "source": [
    "from scipy.stats  import norm\n",
    "import numpy as np\n",
    "import matplotlib.pyplot as plt\n",
    "from math import sqrt,factorial,pi\n",
    "%matplotlib inline"
   ]
  },
  {
   "cell_type": "code",
   "execution_count": 5,
   "metadata": {
    "scrolled": false
   },
   "outputs": [],
   "source": [
    "#Poblacion\n",
    "x=[3, 4, 6, 8, 10, 11, 12, 15, 20]"
   ]
  },
  {
   "cell_type": "markdown",
   "metadata": {},
   "source": [
    "Calculando la media $\\mu$ y la desviacion estandar $\\sigma$ poblacionales"
   ]
  },
  {
   "cell_type": "code",
   "execution_count": 6,
   "metadata": {},
   "outputs": [
    {
     "name": "stdout",
     "output_type": "stream",
     "text": [
      "media= 9.88888888888889 Desviacion Estandar= 5.1086950811433995\n"
     ]
    }
   ],
   "source": [
    "print('media=', np.mean(x), 'Desviacion Estandar=', np.std(x))"
   ]
  },
  {
   "cell_type": "code",
   "execution_count": 7,
   "metadata": {},
   "outputs": [
    {
     "name": "stdout",
     "output_type": "stream",
     "text": [
      "[[12  6  8 ... 15 15  8]\n",
      " [ 8  8 20 ... 12 10  8]\n",
      " [10 11 15 ... 12  4  3]\n",
      " ...\n",
      " [11 20 11 ... 10 20 15]\n",
      " [11 15  3 ...  6  4 10]\n",
      " [ 6 12 15 ...  3  8 10]]\n"
     ]
    }
   ],
   "source": [
    "#Simulando 50 muestras de tamano 30 de dicha poblacion\n",
    "a=np.random.choice(x, 1500, replace=True)\n",
    "b=a.reshape(50,30)\n",
    "print(b)"
   ]
  },
  {
   "cell_type": "code",
   "execution_count": 8,
   "metadata": {},
   "outputs": [
    {
     "name": "stdout",
     "output_type": "stream",
     "text": [
      "[11.3         8.         11.53333333 11.2         8.9        10.2\n",
      "  8.83333333  9.3         7.8         9.5        10.26666667 10.73333333\n",
      "  9.23333333 10.          9.13333333 11.06666667  9.96666667 10.4\n",
      " 10.56666667 12.63333333 10.          9.86666667  9.03333333  9.7\n",
      "  9.73333333  9.03333333  9.23333333 10.          8.7        10.1\n",
      "  8.66666667  9.5        10.83333333 10.23333333  9.96666667 10.06666667\n",
      " 10.26666667  9.4        11.23333333 10.         10.5         9.86666667\n",
      "  9.1         9.6         9.76666667  9.36666667 10.         10.3\n",
      "  9.96666667 10.63333333]\n"
     ]
    }
   ],
   "source": [
    "#Calculando las medias de la 50 muestras\n",
    "medias1=b.mean(axis=1)\n",
    "print(medias1)"
   ]
  },
  {
   "cell_type": "code",
   "execution_count": 9,
   "metadata": {
    "scrolled": true
   },
   "outputs": [
    {
     "name": "stdout",
     "output_type": "stream",
     "text": [
      "media de las medias muestrals= 9.904666666666666 desviacion estandar de la media muestral= 0.8918631927871707\n"
     ]
    }
   ],
   "source": [
    "#Calculando la media y estandar desviacion de las 50 medias\n",
    "mean2=np.mean(medias1)\n",
    "sd2=np.std(medias1,ddof=1)\n",
    "print('media de las medias muestrals=', mean2,'desviacion estandar de la media muestral=',sd2)"
   ]
  },
  {
   "cell_type": "code",
   "execution_count": 10,
   "metadata": {
    "scrolled": true
   },
   "outputs": [
    {
     "data": {
      "text/plain": [
       "0.9327158451193083"
      ]
     },
     "execution_count": 10,
     "metadata": {},
     "output_type": "execute_result"
    }
   ],
   "source": [
    "#Calculando sigma/sqrt(n)\n",
    "np.std(x)/sqrt(30)"
   ]
  },
  {
   "cell_type": "markdown",
   "metadata": {},
   "source": [
    "Se puede notar que las medias de las medias muestrales es aprox igual a la media poblacional y que la desviacion estandar de las medias muestrales es aprox $\\frac{\\sigma}{\\sqrt{n}}$"
   ]
  },
  {
   "cell_type": "code",
   "execution_count": 11,
   "metadata": {},
   "outputs": [
    {
     "data": {
      "text/plain": [
       "<matplotlib.legend.Legend at 0x1e81338fe88>"
      ]
     },
     "execution_count": 11,
     "metadata": {},
     "output_type": "execute_result"
    },
    {
     "data": {
      "image/png": "[encoded data removed]",
      "text/plain": [
       "<Figure size 432x288 with 1 Axes>"
      ]
     },
     "metadata": {
      "needs_background": "light"
     },
     "output_type": "display_data"
    }
   ],
   "source": [
    "x=np.arange(7.1,12.7,.01)\n",
    "fig, ax = plt.subplots(1, 1)\n",
    "ax.hist(medias1,bins=9,density = True,alpha=.5)\n",
    "ax.plot(x, norm.pdf(x,loc=9.88,scale=.93), 'k-', lw=1, label='Densidad Gaussiana')\n",
    "ax.legend(loc='best', frameon=False)"
   ]
  },
  {
   "cell_type": "markdown",
   "metadata": {},
   "source": [
    "Ejemplo 1. Un Banco afirma la cantidad semanal que extraen sus clientes de los cajero automaticos tiene una distribucion con media 80 dolares y desviacion estandar 20.\n",
    " Se elige al azar una muestra de la cantidad de dinero extraida por 12 individuos.\n",
    " \n",
    "    a) Cual es  la probabilidad de que la cantidad promedio extraida por los indivudos de la muestra sea menor que 90?\n",
    "    "
   ]
  },
  {
   "cell_type": "markdown",
   "metadata": {},
   "source": [
    "Sol: Hay que hallar $P(\\bar{X}<90)$"
   ]
  },
  {
   "cell_type": "markdown",
   "metadata": {},
   "source": [
    " $\\bar{X}$ se distribuye como una normal con media $\\mu=80$ y desviacion estandar $\\frac{20}{\\sqrt{12}}$"
   ]
  },
  {
   "cell_type": "code",
   "execution_count": 26,
   "metadata": {},
   "outputs": [
    {
     "data": {
      "text/plain": [
       "0.9583677416682248"
      ]
     },
     "execution_count": 26,
     "metadata": {},
     "output_type": "execute_result"
    }
   ],
   "source": [
    "prob=norm.cdf(90,80,20/sqrt(12))\n",
    "prob"
   ]
  },
  {
   "cell_type": "markdown",
   "metadata": {},
   "source": [
    "b) Cual es la probabilidad de que a cantidad promedio extraida por las 12 personas exceda a 70 pero sea menor que 85"
   ]
  },
  {
   "cell_type": "code",
   "execution_count": 27,
   "metadata": {},
   "outputs": [
    {
     "data": {
      "text/plain": [
       "0.7651296262826084"
      ]
     },
     "execution_count": 27,
     "metadata": {},
     "output_type": "execute_result"
    }
   ],
   "source": [
    "prob1=norm.cdf(85,80,20/sqrt(12))-norm.cdf(70,80,20/sqrt(12))\n",
    "prob1"
   ]
  },
  {
   "cell_type": "markdown",
   "metadata": {},
   "source": [
    "Ejemplo 2. Según reportes del centro nacional para estadísticas de salud, alrededor del 20 % de la población masculina adulta de los Estados Unidos es obesa.  Se elige al azar una muestra de 150 hombres adultos en los Estados Unidos. ¿Cuál es la probabilidad de que:\n",
    "\n",
    "\ta) Haya a lo más 25 personas obesas?\n",
    "\tb) Haya más de 22 pero menos de 35 obesos?\n",
    "\tc) Haya por lo menos un  25% de obesos en la muestra?"
   ]
  },
  {
   "cell_type": "code",
   "execution_count": 28,
   "metadata": {},
   "outputs": [],
   "source": [
    "from scipy.stats  import binom\n",
    "p1=binom.cdf(25,150,.20)"
   ]
  },
  {
   "cell_type": "code",
   "execution_count": 29,
   "metadata": {},
   "outputs": [
    {
     "data": {
      "text/plain": [
       "0.1799257342392581"
      ]
     },
     "execution_count": 29,
     "metadata": {},
     "output_type": "execute_result"
    }
   ],
   "source": [
    "p1"
   ]
  },
  {
   "cell_type": "code",
   "execution_count": 30,
   "metadata": {},
   "outputs": [],
   "source": [
    "from math import sqrt\n",
    "media=150*.2;\n",
    "stdev=sqrt(150*.2*.8)"
   ]
  },
  {
   "cell_type": "code",
   "execution_count": 31,
   "metadata": {},
   "outputs": [
    {
     "data": {
      "text/plain": [
       "0.17916323337444012"
      ]
     },
     "execution_count": 31,
     "metadata": {},
     "output_type": "execute_result"
    }
   ],
   "source": [
    "p1approx=norm.cdf(25.5,media,stdev)\n",
    "p1approx"
   ]
  },
  {
   "cell_type": "code",
   "execution_count": 32,
   "metadata": {},
   "outputs": [
    {
     "data": {
      "text/plain": [
       "0.7627679367830503"
      ]
     },
     "execution_count": 32,
     "metadata": {},
     "output_type": "execute_result"
    }
   ],
   "source": [
    "p2=binom.cdf(34,150,.2)-binom.cdf(22,150,.2)\n",
    "p2"
   ]
  },
  {
   "cell_type": "code",
   "execution_count": 33,
   "metadata": {},
   "outputs": [
    {
     "data": {
      "text/plain": [
       "0.7579435543060898"
      ]
     },
     "execution_count": 33,
     "metadata": {},
     "output_type": "execute_result"
    }
   ],
   "source": [
    "p2_approx=norm.cdf(34.5,media,stdev)-norm.cdf(22.5,media,stdev)\n",
    "p2_approx"
   ]
  },
  {
   "cell_type": "code",
   "execution_count": 34,
   "metadata": {},
   "outputs": [
    {
     "data": {
      "text/plain": [
       "0.0628932123194701"
      ]
     },
     "execution_count": 34,
     "metadata": {},
     "output_type": "execute_result"
    }
   ],
   "source": [
    "p3=1-norm.cdf(.25,.20,sqrt(.2*.8/150))\n",
    "p3"
   ]
  },
  {
   "cell_type": "code",
   "execution_count": 35,
   "metadata": {},
   "outputs": [
    {
     "data": {
      "text/plain": [
       "0.9587731666628363"
      ]
     },
     "execution_count": 35,
     "metadata": {},
     "output_type": "execute_result"
    }
   ],
   "source": [
    "norm.cdf(.35,.30,sqrt(.3*.7/350))-norm.cdf(.25,.30,sqrt(.3*.7/350))"
   ]
  }
 ],
 "metadata": {
  "kernelspec": {
   "display_name": "Python 3",
   "language": "python",
   "name": "python3"
  },
  "language_info": {
   "codemirror_mode": {
    "name": "ipython",
    "version": 3
   },
   "file_extension": ".py",
   "mimetype": "text/x-python",
   "name": "python",
   "nbconvert_exporter": "python",
   "pygments_lexer": "ipython3",
   "version": "3.7.6"
  }
 },
 "nbformat": 4,
 "nbformat_minor": 2
}
