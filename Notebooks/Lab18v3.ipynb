{
 "cells": [
  {
   "cell_type": "markdown",
   "metadata": {},
   "source": [
    "### ESMA 3016\n",
    "### Edgar Acuna\n",
    "### Lab18: Distribucion de la Media Muestral y el Teorema del Limte Central"
   ]
  },
  {
   "cell_type": "code",
   "execution_count": 12,
   "metadata": {},
   "outputs": [],
   "source": [
    "from scipy.stats  import norm\n",
    "import numpy as np\n",
    "import matplotlib.pyplot as plt\n",
    "from math import sqrt,factorial,pi\n",
    "%matplotlib inline"
   ]
  },
  {
   "cell_type": "code",
   "execution_count": 13,
   "metadata": {
    "scrolled": false
   },
   "outputs": [],
   "source": [
    "#Poblacion\n",
    "x=[3, 4, 6, 8, 10, 11, 12, 15, 20]"
   ]
  },
  {
   "cell_type": "markdown",
   "metadata": {},
   "source": [
    "Calculando la media $\\mu$ y la desviacion estandar $\\sigma$ poblacionales"
   ]
  },
  {
   "cell_type": "code",
   "execution_count": 14,
   "metadata": {},
   "outputs": [
    {
     "name": "stdout",
     "output_type": "stream",
     "text": [
      "media= 9.88888888888889 Desviacion Estandar= 5.1086950811433995\n"
     ]
    }
   ],
   "source": [
    "print('media=', np.mean(x), 'Desviacion Estandar=', np.std(x))"
   ]
  },
  {
   "cell_type": "code",
   "execution_count": 15,
   "metadata": {},
   "outputs": [],
   "source": [
    "#Simulando 50 muestras de tamano 30 de dicha poblacion\n",
    "a=np.random.choice(x, 1500, replace=True)\n",
    "b=a.reshape(50,-1)"
   ]
  },
  {
   "cell_type": "code",
   "execution_count": 16,
   "metadata": {},
   "outputs": [
    {
     "name": "stdout",
     "output_type": "stream",
     "text": [
      "[11.36666667  9.86666667  8.13333333  8.13333333 10.86666667 11.26666667\n",
      " 10.36666667 10.1         9.16666667 10.73333333  9.96666667 10.66666667\n",
      " 12.83333333 10.06666667  9.4         9.06666667 10.53333333  9.86666667\n",
      "  9.53333333  8.86666667 11.2         9.6         9.4         9.36666667\n",
      " 11.1         9.56666667 10.86666667 11.26666667  9.03333333 10.26666667\n",
      "  9.43333333  7.46666667 10.13333333  9.46666667  7.96666667  9.5\n",
      " 11.3         8.56666667 11.63333333 10.13333333  9.56666667 10.23333333\n",
      "  9.76666667 11.2         9.96666667  9.93333333 10.06666667 11.36666667\n",
      "  9.33333333  9.63333333]\n"
     ]
    }
   ],
   "source": [
    "#Calculando las medias de la 50 muestras\n",
    "medias1=b.mean(axis=1)\n",
    "print(medias1)"
   ]
  },
  {
   "cell_type": "code",
   "execution_count": 17,
   "metadata": {
    "scrolled": true
   },
   "outputs": [
    {
     "name": "stdout",
     "output_type": "stream",
     "text": [
      "media de las medias muestrals= 9.982666666666665 desviacion estandar de la media muestral= 1.042503527784044\n"
     ]
    }
   ],
   "source": [
    "#Calculando la media y estandar desviacion de las 50 medias\n",
    "mean2=np.mean(medias1)\n",
    "sd2=np.std(medias1,ddof=1)\n",
    "print('media de las medias muestrals=', mean2,'desviacion estandar de la media muestral=',sd2)"
   ]
  },
  {
   "cell_type": "code",
   "execution_count": 18,
   "metadata": {
    "scrolled": true
   },
   "outputs": [
    {
     "data": {
      "text/plain": [
       "0.9327158451193083"
      ]
     },
     "execution_count": 18,
     "metadata": {},
     "output_type": "execute_result"
    }
   ],
   "source": [
    "#Calculando sigma/sqrt(n)\n",
    "np.std(x)/sqrt(30)"
   ]
  },
  {
   "cell_type": "markdown",
   "metadata": {},
   "source": [
    "Se puede notar que las medias de las medias muestrales es aprox igual a la media poblacional y que la desviacion estandar de las medias muestrales es aprox $\\frac{\\sigma}{\\sqrt{n}}$"
   ]
  },
  {
   "cell_type": "code",
   "execution_count": 19,
   "metadata": {},
   "outputs": [
    {
     "data": {
      "text/plain": [
       "<matplotlib.legend.Legend at 0x21f58469048>"
      ]
     },
     "execution_count": 19,
     "metadata": {},
     "output_type": "execute_result"
    },
    {
     "data": {
      "image/png": "[encoded data removed]",
      "text/plain": [
       "<Figure size 432x288 with 1 Axes>"
      ]
     },
     "metadata": {
      "needs_background": "light"
     },
     "output_type": "display_data"
    }
   ],
   "source": [
    "x=np.arange(7.1,12.7,.01)\n",
    "fig, ax = plt.subplots(1, 1)\n",
    "ax.hist(medias1,bins=9,density = True,alpha=.5)\n",
    "ax.plot(x, norm.pdf(x,loc=9.88,scale=.93), 'k-', lw=1, label='Densidad Gaussiana')\n",
    "ax.legend(loc='best', frameon=False)"
   ]
  }
 ],
 "metadata": {
  "kernelspec": {
   "display_name": "Python 3",
   "language": "python",
   "name": "python3"
  },
  "language_info": {
   "codemirror_mode": {
    "name": "ipython",
    "version": 3
   },
   "file_extension": ".py",
   "mimetype": "text/x-python",
   "name": "python",
   "nbconvert_exporter": "python",
   "pygments_lexer": "ipython3",
   "version": "3.5.5"
  }
 },
 "nbformat": 4,
 "nbformat_minor": 2
}
