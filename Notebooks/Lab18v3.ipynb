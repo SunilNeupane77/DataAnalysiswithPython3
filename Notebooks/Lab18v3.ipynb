{
 "cells": [
  {
   "cell_type": "markdown",
   "metadata": {},
   "source": [
    "### ESMA 3016\n",
    "### Edgar Acuna\n",
    "### Lab18: Distribucion de la Media Muestral y el Teorema del Limte Central (Liapunov, 1901)\n",
    "### Octubre del 2020"
   ]
  },
  {
   "cell_type": "code",
   "execution_count": 20,
   "metadata": {},
   "outputs": [],
   "source": [
    "from scipy.stats  import norm\n",
    "import numpy as np\n",
    "import matplotlib.pyplot as plt\n",
    "from math import sqrt,factorial,pi\n",
    "%matplotlib inline"
   ]
  },
  {
   "cell_type": "code",
   "execution_count": 21,
   "metadata": {
    "scrolled": false
   },
   "outputs": [],
   "source": [
    "#Poblacion\n",
    "x=[3, 4, 6, 8, 10, 11, 12, 15, 20]"
   ]
  },
  {
   "cell_type": "markdown",
   "metadata": {},
   "source": [
    "Calculando la media $\\mu$ y la desviacion estandar $\\sigma$ poblacionales"
   ]
  },
  {
   "cell_type": "code",
   "execution_count": 22,
   "metadata": {},
   "outputs": [
    {
     "name": "stdout",
     "output_type": "stream",
     "text": [
      "media= 9.88888888888889 Desviacion Estandar= 5.1086950811433995\n"
     ]
    }
   ],
   "source": [
    "print('media=', np.mean(x), 'Desviacion Estandar=', np.std(x))"
   ]
  },
  {
   "cell_type": "code",
   "execution_count": 23,
   "metadata": {},
   "outputs": [
    {
     "name": "stdout",
     "output_type": "stream",
     "text": [
      "[[12  3  3 ... 20  8 20]\n",
      " [ 6 10 11 ... 11 11 11]\n",
      " [20 20  3 ...  6  3 10]\n",
      " ...\n",
      " [11  8  6 ...  6 20  6]\n",
      " [10  6  8 ...  8  6 11]\n",
      " [ 3 15 11 ...  3  6  6]]\n"
     ]
    }
   ],
   "source": [
    "#Simulando 50 muestras de tamano 30 de dicha poblacion\n",
    "a=np.random.choice(x, 1500, replace=True)\n",
    "b=a.reshape(50,30)\n",
    "print(b)"
   ]
  },
  {
   "cell_type": "code",
   "execution_count": 24,
   "metadata": {},
   "outputs": [
    {
     "name": "stdout",
     "output_type": "stream",
     "text": [
      "[10.33333333 11.86666667 10.76666667 10.1        11.16666667 10.93333333\n",
      " 10.66666667 11.26666667 11.26666667  9.3         8.53333333  9.9\n",
      " 11.5         8.06666667  9.73333333  9.63333333 11.06666667 10.86666667\n",
      " 10.36666667  8.8        11.3        10.3         8.83333333  9.43333333\n",
      "  8.53333333 11.4        10.73333333 11.26666667 10.         10.4\n",
      "  9.13333333 11.9         9.2        10.36666667 10.46666667  9.9\n",
      "  8.93333333  9.93333333 10.         10.2        10.13333333 10.06666667\n",
      "  9.66666667 11.06666667 10.1         9.3        10.43333333 10.03333333\n",
      " 10.3         8.1       ]\n"
     ]
    }
   ],
   "source": [
    "#Calculando las medias de la 50 muestras\n",
    "medias1=b.mean(axis=1)\n",
    "print(medias1)"
   ]
  },
  {
   "cell_type": "code",
   "execution_count": 25,
   "metadata": {
    "scrolled": true
   },
   "outputs": [
    {
     "name": "stdout",
     "output_type": "stream",
     "text": [
      "media de las medias muestrals= 10.151333333333334 desviacion estandar de la media muestral= 0.9402853332560858\n"
     ]
    }
   ],
   "source": [
    "#Calculando la media y estandar desviacion de las 50 medias\n",
    "mean2=np.mean(medias1)\n",
    "sd2=np.std(medias1,ddof=1)\n",
    "print('media de las medias muestrals=', mean2,'desviacion estandar de la media muestral=',sd2)"
   ]
  },
  {
   "cell_type": "code",
   "execution_count": 26,
   "metadata": {
    "scrolled": true
   },
   "outputs": [
    {
     "data": {
      "text/plain": [
       "0.9327158451193083"
      ]
     },
     "execution_count": 26,
     "metadata": {},
     "output_type": "execute_result"
    }
   ],
   "source": [
    "#Calculando sigma/sqrt(n)\n",
    "np.std(x)/sqrt(30)"
   ]
  },
  {
   "cell_type": "markdown",
   "metadata": {},
   "source": [
    "Se puede notar que las medias de las medias muestrales es aprox igual a la media poblacional y que la desviacion estandar de las medias muestrales es aprox $\\frac{\\sigma}{\\sqrt{n}}$"
   ]
  },
  {
   "cell_type": "code",
   "execution_count": 27,
   "metadata": {},
   "outputs": [
    {
     "data": {
      "text/plain": [
       "<matplotlib.legend.Legend at 0x17f180e7588>"
      ]
     },
     "execution_count": 27,
     "metadata": {},
     "output_type": "execute_result"
    },
    {
     "data": {
      "image/png": "[encoded data removed]",
      "text/plain": [
       "<Figure size 432x288 with 1 Axes>"
      ]
     },
     "metadata": {
      "needs_background": "light"
     },
     "output_type": "display_data"
    }
   ],
   "source": [
    "x=np.arange(7.1,12.7,.01)\n",
    "fig, ax = plt.subplots(1, 1)\n",
    "ax.hist(medias1,bins=9,density = True,alpha=.5)\n",
    "ax.plot(x, norm.pdf(x,loc=9.88,scale=.93), 'k-', lw=1, label='Densidad Gaussiana')\n",
    "ax.legend(loc='best', frameon=False)"
   ]
  },
  {
   "cell_type": "markdown",
   "metadata": {},
   "source": [
    "Según reportes del centro nacional para estadísticas de salud, alrededor del 20 % de la población masculina adulta de los Estados Unidos es obesa.  Se elige al azar una muestra de 150 hombres adultos en los Estados Unidos. ¿Cuál es la probabilidad de que:\n",
    "\n",
    "\ta) Haya a lo más 25 personas obesas?\n",
    "\tb) Haya más de 22 pero menos de 35 obesos?\n",
    "\tc) Haya por lo menos un  25% de obesos en la muestra?"
   ]
  },
  {
   "cell_type": "code",
   "execution_count": 28,
   "metadata": {},
   "outputs": [],
   "source": [
    "from scipy.stats  import binom\n",
    "p1=binom.cdf(25,150,.20)"
   ]
  },
  {
   "cell_type": "code",
   "execution_count": 29,
   "metadata": {},
   "outputs": [
    {
     "data": {
      "text/plain": [
       "0.1799257342392581"
      ]
     },
     "execution_count": 29,
     "metadata": {},
     "output_type": "execute_result"
    }
   ],
   "source": [
    "p1"
   ]
  },
  {
   "cell_type": "code",
   "execution_count": 30,
   "metadata": {},
   "outputs": [],
   "source": [
    "from math import sqrt\n",
    "media=150*.2;\n",
    "stdev=sqrt(150*.2*.8)"
   ]
  },
  {
   "cell_type": "code",
   "execution_count": 31,
   "metadata": {},
   "outputs": [
    {
     "data": {
      "text/plain": [
       "0.17916323337444012"
      ]
     },
     "execution_count": 31,
     "metadata": {},
     "output_type": "execute_result"
    }
   ],
   "source": [
    "p1approx=norm.cdf(25.5,media,stdev)\n",
    "p1approx"
   ]
  },
  {
   "cell_type": "code",
   "execution_count": 32,
   "metadata": {},
   "outputs": [
    {
     "data": {
      "text/plain": [
       "0.7627679367830503"
      ]
     },
     "execution_count": 32,
     "metadata": {},
     "output_type": "execute_result"
    }
   ],
   "source": [
    "p2=binom.cdf(34,150,.2)-binom.cdf(22,150,.2)\n",
    "p2"
   ]
  },
  {
   "cell_type": "code",
   "execution_count": 33,
   "metadata": {},
   "outputs": [
    {
     "data": {
      "text/plain": [
       "0.7579435543060898"
      ]
     },
     "execution_count": 33,
     "metadata": {},
     "output_type": "execute_result"
    }
   ],
   "source": [
    "p2_approx=norm.cdf(34.5,media,stdev)-norm.cdf(22.5,media,stdev)\n",
    "p2_approx"
   ]
  },
  {
   "cell_type": "code",
   "execution_count": 34,
   "metadata": {},
   "outputs": [
    {
     "data": {
      "text/plain": [
       "0.0628932123194701"
      ]
     },
     "execution_count": 34,
     "metadata": {},
     "output_type": "execute_result"
    }
   ],
   "source": [
    "p3=1-norm.cdf(.25,.20,sqrt(.2*.8/150))\n",
    "p3"
   ]
  },
  {
   "cell_type": "code",
   "execution_count": 35,
   "metadata": {},
   "outputs": [
    {
     "data": {
      "text/plain": [
       "0.9587731666628363"
      ]
     },
     "execution_count": 35,
     "metadata": {},
     "output_type": "execute_result"
    }
   ],
   "source": [
    "norm.cdf(.35,.30,sqrt(.3*.7/350))-norm.cdf(.25,.30,sqrt(.3*.7/350))"
   ]
  },
  {
   "cell_type": "code",
   "execution_count": null,
   "metadata": {},
   "outputs": [],
   "source": []
  }
 ],
 "metadata": {
  "kernelspec": {
   "display_name": "Python 3",
   "language": "python",
   "name": "python3"
  },
  "language_info": {
   "codemirror_mode": {
    "name": "ipython",
    "version": 3
   },
   "file_extension": ".py",
   "mimetype": "text/x-python",
   "name": "python",
   "nbconvert_exporter": "python",
   "pygments_lexer": "ipython3",
   "version": "3.7.6"
  }
 },
 "nbformat": 4,
 "nbformat_minor": 2
}
