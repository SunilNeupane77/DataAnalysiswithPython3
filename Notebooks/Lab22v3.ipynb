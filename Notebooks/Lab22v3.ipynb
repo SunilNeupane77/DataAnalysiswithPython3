{
 "cells": [
  {
   "cell_type": "markdown",
   "metadata": {},
   "source": [
    "### ESMA 3016\n",
    "### Edgar Acuna\n",
    "### Lab22: Uso del modulo statsmodels para Inferencia.  Prueba z para  proporciones. "
   ]
  },
  {
   "cell_type": "code",
   "execution_count": 1,
   "metadata": {},
   "outputs": [],
   "source": [
    "import numpy as np\n",
    "import statsmodels.api as sm\n",
    "import statsmodels.stats.api as sms\n",
    "import statsmodels.formula.api as smf\n",
    "from statsmodels.stats.proportion import proportions_ztest\n",
    "import matplotlib.pyplot as plt\n",
    "%matplotlib inline"
   ]
  },
  {
   "cell_type": "markdown",
   "metadata": {},
   "source": [
    "### Intervalo de confianza para la media \n",
    "\n",
    "Ejemplo: Intervalo de confianza para la media poblacional del colesterol de todos\n",
    " los pacientes con problemas cardiacos asumiendo que su distribucion es  normal\n",
    "La varianza (o desviacion estandar) debe ser conocida. En este caso se asume que \n",
    "la desviacion estandar (sigma) es 13. Se usa la muestra de 20 pacientes"
   ]
  },
  {
   "cell_type": "code",
   "execution_count": 14,
   "metadata": {},
   "outputs": [
    {
     "data": {
      "text/plain": [
       "(221.0838759128287, 230.71612408717132)"
      ]
     },
     "execution_count": 14,
     "metadata": {},
     "output_type": "execute_result"
    }
   ],
   "source": [
    "colest=[217,223,225,245,238,216,217,226,202,233,235,242,219,221,234,199,236,248,218,224] \n",
    "sm.stats.zconfint(colest,alpha=.10)"
   ]
  },
  {
   "cell_type": "code",
   "execution_count": 15,
   "metadata": {},
   "outputs": [
    {
     "data": {
      "text/plain": [
       "(2.015030390280827, 0.021950732457882954)"
      ]
     },
     "execution_count": 15,
     "metadata": {},
     "output_type": "execute_result"
    }
   ],
   "source": [
    "#prueba de hipotesis\n",
    "sm.stats.ztest(colest, x2=None, value=220, alternative='larger', usevar='pooled', ddof=1.0)"
   ]
  },
  {
   "cell_type": "markdown",
   "metadata": {},
   "source": [
    "#### $H_o: \\mu=220$\n",
    "#### $H_a: \\mu>220$"
   ]
  },
  {
   "cell_type": "markdown",
   "metadata": {},
   "source": [
    "#### Caso 2: Poblacion Normal y varianza ($\\sigma^2$) desconocida,muestra pequena\n",
    "#### Intervalo de confianza para la media\n",
    "\n",
    "La media muestral $\\bar{x} es un estimador de la media poblacional $\\mu$\n",
    "\n",
    "Intervalo de confianza para $\\mu$ del $100(1-\\alpha)\\%$, $\\alpha$ es el nivel de significacion\n",
    "\n",
    "$\\bar{x}-t(\\alpha/2,n-1)\\frac{s}{\\sqrt{n}},\\bar{x}+t(\\alpha/2,n-1)\\frac{s}{\\sqrt{n}}$"
   ]
  },
  {
   "cell_type": "code",
   "execution_count": 16,
   "metadata": {},
   "outputs": [],
   "source": [
    "#Ejemplo 1: Hallar el intervalo de confianza del 95% para el promedio de todos los graduandos\n",
    "#basado en la siguiente muestra de 14 graduandos\n",
    "#Asumir que la poblacion es normal \n",
    "gpa=[3.15,2.80,2.56,3.17,3.73,2.77,3.18,3.12,3.33,2.99,2.71,2.83,3.45,3.55]"
   ]
  },
  {
   "cell_type": "code",
   "execution_count": 17,
   "metadata": {},
   "outputs": [
    {
     "data": {
      "text/plain": [
       "(2.898521565207428, 3.292907006221144)"
      ]
     },
     "execution_count": 17,
     "metadata": {},
     "output_type": "execute_result"
    }
   ],
   "source": [
    "sms.DescrStatsW(gpa).tconfint_mean()"
   ]
  },
  {
   "cell_type": "code",
   "execution_count": 18,
   "metadata": {},
   "outputs": [],
   "source": [
    "#Ejemplo 7.5. Los tiempos de sobrevivencia (en años) de 12 personas que se han sometido a un transplante de\n",
    "#corazón son los siguientes:\n",
    "surv=[3.1,.9,2.8,4.3,.6,1.4,5.8,9.9,6.3,10.4,0,11.5]"
   ]
  },
  {
   "cell_type": "code",
   "execution_count": 19,
   "metadata": {},
   "outputs": [
    {
     "data": {
      "text/plain": [
       "(1.122494220344997, 8.377505779655005)"
      ]
     },
     "execution_count": 19,
     "metadata": {},
     "output_type": "execute_result"
    }
   ],
   "source": [
    "#Hallar un intervalo de confianza del 99 por ciento para el promedio de vida\n",
    "#de todas las personas que se han sometido a un transplante de corazón.\n",
    "sms.DescrStatsW(surv).tconfint_mean(alpha=.01)"
   ]
  },
  {
   "cell_type": "markdown",
   "metadata": {},
   "source": [
    "#### Probar la hipotesis de que el tiempo de sobrevivencia promedio es mas de 4"
   ]
  },
  {
   "cell_type": "code",
   "execution_count": 26,
   "metadata": {},
   "outputs": [
    {
     "data": {
      "text/plain": [
       "(0.642136781140391, 0.26696901006689233, 11.0)"
      ]
     },
     "execution_count": 26,
     "metadata": {},
     "output_type": "execute_result"
    }
   ],
   "source": [
    "sms.DescrStatsW(surv).ttest_mean(4,\"larger\")   "
   ]
  },
  {
   "cell_type": "markdown",
   "metadata": {},
   "source": [
    "#### El valor de la prueba estadistica es  0.64\n",
    "#### El p-value es 0.2669\n",
    "#### Los grados de libertad de la prueba t son 11"
   ]
  },
  {
   "cell_type": "code",
   "execution_count": 27,
   "metadata": {},
   "outputs": [
    {
     "data": {
      "text/plain": [
       "(-0.7028700551758291, 0.4821367341350553)"
      ]
     },
     "execution_count": 27,
     "metadata": {},
     "output_type": "execute_result"
    }
   ],
   "source": [
    "#Ejemplo 7.7. En 1990 en un cierto país, se reportó que dos de cada 5 personas pensaban que\n",
    "#debería incrementarse el poder nuclear.  En una encuesta reciente hecha en\n",
    "#1996 a  1225 personas se encontró que 478 de ellos pensaban que se debería\n",
    "#aumentar el poder nuclear.  ¿Piensa Ud. que hay evidencia de que\n",
    "#la opinión de la gente en 1996 ha cambiado con respecto a 1990? Justificar su contestación.\n",
    "proportions_ztest(478,1225,.4)"
   ]
  },
  {
   "cell_type": "markdown",
   "metadata": {},
   "source": [
    "#### La prueba estadistica de Z es -0.702 y el pvalue es 0.4821. No se rechaza la hipotesis Nula"
   ]
  },
  {
   "cell_type": "code",
   "execution_count": 28,
   "metadata": {},
   "outputs": [],
   "source": [
    "#Ejemplo 7.8. El director de un hospital afirma que el 25 por ciento de los nacimientos que\n",
    "#ocurren allí son por cesárea.  Un médico que trabaja en dicho hospital piensa\n",
    "#que ese porcentaje es mayor.  Para probar su afirmación recolecta información\n",
    "#de los 25 nacimientos ocurridos durante una semana. \n",
    "partos=['cesarea','normal','cesarea','normal','normal','normal','normal','cesarea','normal','cesarea',\n",
    "        'normal','cesarea','normal','normal','normal','normal','normal','cesarea','normal','normal',\n",
    "        'cesarea','normal','normal','cesarea','normal']"
   ]
  },
  {
   "cell_type": "code",
   "execution_count": 29,
   "metadata": {},
   "outputs": [],
   "source": [
    "conteos=partos.count('cesarea')"
   ]
  },
  {
   "cell_type": "code",
   "execution_count": 30,
   "metadata": {},
   "outputs": [],
   "source": [
    "trials=len(partos)"
   ]
  },
  {
   "cell_type": "code",
   "execution_count": 31,
   "metadata": {},
   "outputs": [
    {
     "data": {
      "text/plain": [
       "(0.7503063099984763, 0.226535121566539)"
      ]
     },
     "execution_count": 31,
     "metadata": {},
     "output_type": "execute_result"
    }
   ],
   "source": [
    "proportions_ztest(conteos,trials,value=.25,alternative='larger')"
   ]
  },
  {
   "cell_type": "markdown",
   "metadata": {},
   "source": [
    "#### La prueba estadistica aproximada es 0.75 y el p-value es 0.226. No se rechaza la Hipotesis Nula"
   ]
  },
  {
   "cell_type": "code",
   "execution_count": null,
   "metadata": {},
   "outputs": [],
   "source": []
  },
  {
   "cell_type": "code",
   "execution_count": null,
   "metadata": {},
   "outputs": [],
   "source": []
  }
 ],
 "metadata": {
  "kernelspec": {
   "display_name": "Python 3",
   "language": "python",
   "name": "python3"
  },
  "language_info": {
   "codemirror_mode": {
    "name": "ipython",
    "version": 3
   },
   "file_extension": ".py",
   "mimetype": "text/x-python",
   "name": "python",
   "nbconvert_exporter": "python",
   "pygments_lexer": "ipython3",
   "version": "3.5.5"
  }
 },
 "nbformat": 4,
 "nbformat_minor": 2
}
