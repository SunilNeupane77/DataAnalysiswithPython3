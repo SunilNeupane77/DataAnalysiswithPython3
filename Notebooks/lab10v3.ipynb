{
 "cells": [
  {
   "cell_type": "markdown",
   "metadata": {},
   "source": [
    "## ESMA 3016\n",
    "### Calculo de Probabilidades usando simulacion\n",
    "### Edgar Acuna\n",
    "#### Febrero del 2019\n",
    "Uso de las librerias numpy, pandas y random"
   ]
  },
  {
   "cell_type": "code",
   "execution_count": 1,
   "metadata": {},
   "outputs": [],
   "source": [
    "import numpy as np\n",
    "import pandas as pd\n",
    "import random as rd"
   ]
  },
  {
   "cell_type": "markdown",
   "metadata": {},
   "source": [
    "Seleccionando al azar un numero entre 0 y 1"
   ]
  },
  {
   "cell_type": "code",
   "execution_count": 3,
   "metadata": {},
   "outputs": [
    {
     "data": {
      "text/plain": [
       "0.6284894600518391"
      ]
     },
     "execution_count": 3,
     "metadata": {},
     "output_type": "execute_result"
    }
   ],
   "source": [
    "rd.random()"
   ]
  },
  {
   "cell_type": "raw",
   "metadata": {},
   "source": [
    "Seleccionando al azar una muestra sin reemplazo  de tamano 10 entre los numeros del 0 a 99"
   ]
  },
  {
   "cell_type": "code",
   "execution_count": 9,
   "metadata": {},
   "outputs": [
    {
     "data": {
      "text/plain": [
       "[82, 49, 27, 53, 0, 65, 87, 96, 50, 9]"
      ]
     },
     "execution_count": 9,
     "metadata": {},
     "output_type": "execute_result"
    }
   ],
   "source": [
    "rd.sample(range(100),10)"
   ]
  },
  {
   "cell_type": "code",
   "execution_count": 26,
   "metadata": {},
   "outputs": [
    {
     "data": {
      "text/plain": [
       "[17, 12, 23, 4, 6]"
      ]
     },
     "execution_count": 26,
     "metadata": {},
     "output_type": "execute_result"
    }
   ],
   "source": [
    "population=[4,5,6,12,17,23,22,11,15]\n",
    "rd.sample(population,5)"
   ]
  },
  {
   "cell_type": "markdown",
   "metadata": {
    "collapsed": true
   },
   "source": [
    "Prob1. Juan y Luis toman un ascensor en el estacionamiento de\n",
    "un edificio que tiene 6 pisos. Si ellos se bajan al azar en alguno\n",
    " de los pisos (el del estacionamiento es piso CERO),.\n",
    "\n",
    "Estimar la probabilidad de que ellos se bajen en pisos distintos. \n",
    "\n",
    "La solucion exacta es 30/36=5/6=.8333"
   ]
  },
  {
   "cell_type": "code",
   "execution_count": 27,
   "metadata": {},
   "outputs": [
    {
     "data": {
      "text/plain": [
       "array([2, 4, 3, 1, 1, 3, 1, 1, 5, 1, 2, 3, 1, 6, 5, 1, 4, 1, 5, 6, 4, 3,\n",
       "       1, 2, 5, 6, 2, 3, 1, 4, 1, 3, 5, 5, 2, 6, 1, 5, 2, 5, 6, 6, 2, 3,\n",
       "       5, 6, 3, 1, 3, 5, 1, 6, 3, 3, 4, 5, 4, 4, 2, 2, 6, 4, 6, 2, 2, 3,\n",
       "       3, 6, 2, 3, 5, 3, 1, 5, 1, 2, 5, 2, 6, 1, 2, 5, 3, 3, 5, 4, 5, 1,\n",
       "       1, 6, 1, 5, 5, 2, 1, 5, 4, 1, 4, 2])"
      ]
     },
     "execution_count": 27,
     "metadata": {},
     "output_type": "execute_result"
    }
   ],
   "source": [
    "#Simulando 100 veces el piso en que se baja Juan\n",
    "juan=np.random.choice(range(1,7),100)\n",
    "juan"
   ]
  },
  {
   "cell_type": "code",
   "execution_count": 28,
   "metadata": {},
   "outputs": [
    {
     "data": {
      "text/plain": [
       "array([ 0, 22, 17, 17, 11, 20, 13], dtype=int64)"
      ]
     },
     "execution_count": 28,
     "metadata": {},
     "output_type": "execute_result"
    }
   ],
   "source": [
    "np.bincount(juan)"
   ]
  },
  {
   "cell_type": "code",
   "execution_count": 29,
   "metadata": {},
   "outputs": [],
   "source": [
    "#Simulando 100 veces el piso en que se baja Luis\n",
    "luis=np.random.choice(range(1,7),100)"
   ]
  },
  {
   "cell_type": "code",
   "execution_count": 30,
   "metadata": {},
   "outputs": [
    {
     "data": {
      "text/plain": [
       "80"
      ]
     },
     "execution_count": 30,
     "metadata": {},
     "output_type": "execute_result"
    }
   ],
   "source": [
    "#Encontrando la cantidad de veces que ellos se bajen en distintos pisos\n",
    "np.sum(juan!=luis)"
   ]
  },
  {
   "cell_type": "code",
   "execution_count": 31,
   "metadata": {},
   "outputs": [],
   "source": [
    "#Haciendo una funcion que estime la probabilidad del evento basado en k simulaciones\n",
    "def prob_est1(k):\n",
    "    juan=np.random.choice(range(1,7),k)\n",
    "    luis=np.random.choice(range(1,7),k)\n",
    "    return np.sum(juan!=luis)/float(k)"
   ]
  },
  {
   "cell_type": "code",
   "execution_count": 32,
   "metadata": {},
   "outputs": [
    {
     "data": {
      "text/plain": [
       "0.815"
      ]
     },
     "execution_count": 32,
     "metadata": {},
     "output_type": "execute_result"
    }
   ],
   "source": [
    "#Estimando la probabilidad, simulando 1000 experimentos\n",
    "prob_est1(1000)"
   ]
  },
  {
   "cell_type": "code",
   "execution_count": 33,
   "metadata": {},
   "outputs": [
    {
     "data": {
      "text/plain": [
       "0.8343"
      ]
     },
     "execution_count": 33,
     "metadata": {},
     "output_type": "execute_result"
    }
   ],
   "source": [
    "#Estimando la probabilidad, simulando 100000 experimentos\n",
    "prob_est1(100000)"
   ]
  },
  {
   "cell_type": "markdown",
   "metadata": {
    "collapsed": true
   },
   "source": [
    "Prob2. Se extraen tres bolas con REEMPLAZO de una caja que tiene 10 bolas numeradas del 1 al 10\n",
    "Cual es la probabilidad de que el mayor de los tres numeros extraidos sea 6.\n",
    "\n",
    "La contestacion exacta es 91/1000=.091."
   ]
  },
  {
   "cell_type": "code",
   "execution_count": 34,
   "metadata": {},
   "outputs": [],
   "source": [
    "#Eligiendo las tres bolas al azar 10000 veces\n",
    "b1=np.random.choice(range(1,11),10000)\n",
    "b2=np.random.choice(range(1,11),10000)\n",
    "b3=np.random.choice(range(1,11),10000)"
   ]
  },
  {
   "cell_type": "code",
   "execution_count": 37,
   "metadata": {},
   "outputs": [],
   "source": [
    "#Formando un data frame de los resultados\n",
    "data=[b1,b2,b3]\n",
    "df=pd.DataFrame(data,index=['b1','b2','b3'])\n",
    "#hallando el maximo de cada fila\n",
    "m=df.max(axis=0)"
   ]
  },
  {
   "cell_type": "code",
   "execution_count": 38,
   "metadata": {},
   "outputs": [
    {
     "data": {
      "text/plain": [
       "949"
      ]
     },
     "execution_count": 38,
     "metadata": {},
     "output_type": "execute_result"
    }
   ],
   "source": [
    "#Contando cuando de estos maximos son 6\n",
    "(m==6).sum()"
   ]
  },
  {
   "cell_type": "code",
   "execution_count": 39,
   "metadata": {},
   "outputs": [],
   "source": [
    "#Haciendo una funcion para estimar la probabilidad de que el mayo valor extraido sea\n",
    "#igual aun valor dado usando k simulaciones\n",
    "def prob_est2(valor,k):\n",
    "    \"\"\"\n",
    "    :param valor: Es el valor del mayor valor  ebtre los numero elegidos\n",
    "    :param k: Es el numero de simulaciones a usar.\n",
    "    \"\"\"\n",
    "    import numpy as np\n",
    "    import pandas as pd\n",
    "    b1=np.random.choice(range(1,11),k)\n",
    "    b2=np.random.choice(range(1,11),k)\n",
    "    b3=np.random.choice(range(1,11),k)\n",
    "    data=[b1,b2,b3]\n",
    "    df=pd.DataFrame(data,index=['b1','b2','b3'])\n",
    "    m=df.max(axis=0)\n",
    "    return (m==valor).sum()/float(k)"
   ]
  },
  {
   "cell_type": "code",
   "execution_count": 40,
   "metadata": {},
   "outputs": [
    {
     "data": {
      "text/plain": [
       "0.07"
      ]
     },
     "execution_count": 40,
     "metadata": {},
     "output_type": "execute_result"
    }
   ],
   "source": [
    "#estimando la probabilidad con 100 simulaciones\n",
    "prob_est2(6,100)"
   ]
  },
  {
   "cell_type": "code",
   "execution_count": 41,
   "metadata": {},
   "outputs": [
    {
     "data": {
      "text/plain": [
       "0.082"
      ]
     },
     "execution_count": 41,
     "metadata": {},
     "output_type": "execute_result"
    }
   ],
   "source": [
    "#estimando la probabilidad con 1,000 simulaciones\n",
    "prob_est2(6,1000)"
   ]
  },
  {
   "cell_type": "code",
   "execution_count": 42,
   "metadata": {
    "scrolled": true
   },
   "outputs": [
    {
     "data": {
      "text/plain": [
       "0.0958"
      ]
     },
     "execution_count": 42,
     "metadata": {},
     "output_type": "execute_result"
    }
   ],
   "source": [
    "#estimando la probabilidad con 10,000 simulaciones\n",
    "prob_est2(6,10000)"
   ]
  }
 ],
 "metadata": {
  "kernelspec": {
   "display_name": "Python 3",
   "language": "python",
   "name": "python3"
  },
  "language_info": {
   "codemirror_mode": {
    "name": "ipython",
    "version": 3
   },
   "file_extension": ".py",
   "mimetype": "text/x-python",
   "name": "python",
   "nbconvert_exporter": "python",
   "pygments_lexer": "ipython3",
   "version": "3.6.7"
  }
 },
 "nbformat": 4,
 "nbformat_minor": 2
}
