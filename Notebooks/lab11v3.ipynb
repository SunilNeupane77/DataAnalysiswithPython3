{
 "cells": [
  {
   "cell_type": "markdown",
   "metadata": {},
   "source": [
    "## ESMA 3016\n",
    "### Edgar Acuna\n",
    "### El problema de los cumpleanos y la probabilidad de corridas usando simulacion\n",
    "#### Febrero del 2019\n",
    "Uso de las librerias numpy, pandas,math y random"
   ]
  },
  {
   "cell_type": "code",
   "execution_count": 3,
   "metadata": {},
   "outputs": [],
   "source": [
    "import numpy as np\n",
    "import pandas as pd\n",
    "import random as rd\n",
    "from math import factorial "
   ]
  },
  {
   "cell_type": "code",
   "execution_count": 4,
   "metadata": {},
   "outputs": [
    {
     "data": {
      "text/plain": [
       "5040"
      ]
     },
     "execution_count": 4,
     "metadata": {},
     "output_type": "execute_result"
    }
   ],
   "source": [
    "#Calculando el factorial de 7\n",
    "factorial(7)"
   ]
  },
  {
   "cell_type": "code",
   "execution_count": 5,
   "metadata": {},
   "outputs": [
    {
     "data": {
      "text/plain": [
       "336.0"
      ]
     },
     "execution_count": 5,
     "metadata": {},
     "output_type": "execute_result"
    }
   ],
   "source": [
    "#Calculando el numero de permutaciones de 8 objetos ordenados de 3 en 3\n",
    "factorial(8)/factorial(5)"
   ]
  },
  {
   "cell_type": "code",
   "execution_count": 6,
   "metadata": {},
   "outputs": [
    {
     "data": {
      "text/plain": [
       "56.0"
      ]
     },
     "execution_count": 6,
     "metadata": {},
     "output_type": "execute_result"
    }
   ],
   "source": [
    "#Calculando el numero de combinaciones de 8 objetos tomados de 3 en 3\n",
    "factorial(8)/factorial(3)/factorial(5)"
   ]
  },
  {
   "cell_type": "markdown",
   "metadata": {
    "scrolled": true
   },
   "source": [
    "#### Problema de las cumpleanos. Cual es la probabilidad de que en un grupo de 25 personas por los menos dos de ellas cumplan anos el mismo dia.\n",
    "\n",
    "Calculando la probabilidad exacta\n",
    "Haciendolo por complemento La solucion exacta es $1-P(365,25)/365^{25}=.5686$.\n",
    "$p1=1-factorial(365)/(factorial(340)*365^{25})$ da Overflow\n",
    "\n",
    "Una mejor alternativa es usando productorios"
   ]
  },
  {
   "cell_type": "code",
   "execution_count": 7,
   "metadata": {},
   "outputs": [
    {
     "data": {
      "text/plain": [
       "0.5686997039694639"
      ]
     },
     "execution_count": 7,
     "metadata": {},
     "output_type": "execute_result"
    }
   ],
   "source": [
    "from numpy import prod\n",
    "lista=range(0,25)\n",
    "1-prod([1-(i/365) for i in lista])"
   ]
  },
  {
   "cell_type": "code",
   "execution_count": 10,
   "metadata": {},
   "outputs": [
    {
     "data": {
      "text/plain": [
       "array([288,  41,  37, 212, 320, 164, 236, 290,  22, 160,  34, 327, 227,\n",
       "        88,  14, 308,  26, 134, 343, 174, 157, 320, 196, 240, 223])"
      ]
     },
     "execution_count": 10,
     "metadata": {},
     "output_type": "execute_result"
    }
   ],
   "source": [
    "#simulando un resultado posibel de los 25 cumpleanos\n",
    "a=np.random.choice(range(1,366),25)\n",
    "a"
   ]
  },
  {
   "cell_type": "code",
   "execution_count": 11,
   "metadata": {},
   "outputs": [
    {
     "data": {
      "text/plain": [
       "array([ 14,  22,  26,  34,  37,  41,  88, 134, 157, 160, 164, 174, 196,\n",
       "       212, 223, 227, 236, 240, 288, 290, 308, 320, 327, 343])"
      ]
     },
     "execution_count": 11,
     "metadata": {},
     "output_type": "execute_result"
    }
   ],
   "source": [
    "#Hallando los dias que son distintos\n",
    "np.unique(a)"
   ]
  },
  {
   "cell_type": "markdown",
   "metadata": {},
   "source": [
    "Si arreglo unique(a) tiene longitud 25 entonces todos han cumplido anos en dias distintos"
   ]
  },
  {
   "cell_type": "code",
   "execution_count": 22,
   "metadata": {
    "scrolled": false
   },
   "outputs": [
    {
     "data": {
      "text/plain": [
       "0.5698"
      ]
     },
     "execution_count": 22,
     "metadata": {},
     "output_type": "execute_result"
    }
   ],
   "source": [
    "#Estimando la probabilidad haciendo  10000 simulaciones\n",
    "#a=np.random.choice(range(1,366),25)\n",
    "#b=25-len(np.unique(a))\n",
    "#40)print b\n",
    "# Se usa el caracter _ con for para indicar que el comando antes del for se repite 10000 veces\n",
    "bdays=[25-len(np.unique(np.random.choice(range(1,366),25))) for _ in range(10000)]\n",
    "a=np.nonzero(bdays)\n",
    "p1est=len(np.transpose(a))/10000\n",
    "p1est"
   ]
  },
  {
   "cell_type": "markdown",
   "metadata": {
    "collapsed": true
   },
   "source": [
    "#### Problema de las corridas.Cual es la probabilidad de que si estacionan 8 carros al azar en un estacionamiento donde hay 12 espacios, los 4 espacios vacios queden juntos?\n",
    "\n",
    "la contestacion exacta es fact(9)/P(12,8)=9!x4!/12!=.0181\n",
    "\n",
    "Consideremos como 1 si el espacio en el estacionamiento es ocupado\n",
    "y 0 si no es ocupado. Lo que queremos es  una secuencia como\n",
    "$110000111111$. La secuencia $10001111110$ no se es deseada\n",
    "Simulando 10000 maneras de estacionarse\n"
   ]
  },
  {
   "cell_type": "code",
   "execution_count": 34,
   "metadata": {},
   "outputs": [],
   "source": [
    "#Definiendo una secuencia de tamano 12 que contiene cuatro 0's y ocho 1's\n",
    "a=[0,0,0,0,1,1,1,1,1,1,1,1]"
   ]
  },
  {
   "cell_type": "code",
   "execution_count": 35,
   "metadata": {},
   "outputs": [
    {
     "data": {
      "text/plain": [
       "[0, 1, 1, 1, 0, 1, 0, 0, 1, 1, 1, 1]"
      ]
     },
     "execution_count": 35,
     "metadata": {},
     "output_type": "execute_result"
    }
   ],
   "source": [
    "# Haciendo un reordenamiento de los elementos de a\n",
    "np.random.shuffle(a)\n",
    "a"
   ]
  },
  {
   "cell_type": "code",
   "execution_count": 36,
   "metadata": {},
   "outputs": [],
   "source": [
    "#Haciendo una funcion para encontrar el inicio y el final de las corridas de ceros\n",
    "def zero_runs(a):\n",
    "    # Creando un arreglo que es 1 cuando el elemnto de a es 0 y que es 0 en caso contario\n",
    "    # y que anade un 0 en cada extremo del arregloa is 0.\n",
    "    iszero = np.concatenate(([0], np.equal(a, 0).view(np.int8), [0]))\n",
    "    #Hallando las diferencias consecutivas, en valor absoluto\n",
    "    absdiff = np.abs(np.diff(iszero))\n",
    "    # Hallando las corridas de ceros estableciendo donde  absdiff es 1.\n",
    "    ranges = np.where(absdiff == 1)[0].reshape(-1, 2)\n",
    "    return ranges"
   ]
  },
  {
   "cell_type": "code",
   "execution_count": 31,
   "metadata": {},
   "outputs": [
    {
     "name": "stdout",
     "output_type": "stream",
     "text": [
      "[[ 2  4]\n",
      " [ 6  7]\n",
      " [ 9 10]]\n"
     ]
    }
   ],
   "source": [
    "runs_a=zero_runs(a)\n",
    "print(runs_a)"
   ]
  },
  {
   "cell_type": "code",
   "execution_count": 37,
   "metadata": {},
   "outputs": [],
   "source": [
    "# haciendo una funcion que encuentre el mayor valor de la corrida en cada repeticion\n",
    "def max_run(a):\n",
    "    np.random.shuffle(a)\n",
    "    runs = zero_runs(a)\n",
    "    maxrun = np.max(runs[:,1]-runs[:,0])\n",
    "    return maxrun               "
   ]
  },
  {
   "cell_type": "code",
   "execution_count": 38,
   "metadata": {},
   "outputs": [
    {
     "data": {
      "text/plain": [
       "0.01751"
      ]
     },
     "execution_count": 38,
     "metadata": {},
     "output_type": "execute_result"
    }
   ],
   "source": [
    "# Estimando la probabilidad mediante el conteo de todos los resultados donde el valor maximo de la corrida es 4\n",
    "a=[0,0,1,1,1,1,1,1,0,1,0,1]\n",
    "b1=[max_run(a) for _ in range(100000)]\n",
    "b1.count(4)/float(100000)"
   ]
  },
  {
   "cell_type": "code",
   "execution_count": null,
   "metadata": {},
   "outputs": [],
   "source": []
  }
 ],
 "metadata": {
  "kernelspec": {
   "display_name": "Python 3",
   "language": "python",
   "name": "python3"
  },
  "language_info": {
   "codemirror_mode": {
    "name": "ipython",
    "version": 3
   },
   "file_extension": ".py",
   "mimetype": "text/x-python",
   "name": "python",
   "nbconvert_exporter": "python",
   "pygments_lexer": "ipython3",
   "version": "3.6.7"
  }
 },
 "nbformat": 4,
 "nbformat_minor": 2
}
