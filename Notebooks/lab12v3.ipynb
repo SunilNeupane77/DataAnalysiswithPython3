{
 "cells": [
  {
   "cell_type": "markdown",
   "metadata": {},
   "source": [
    "## ESMA 3016\n",
    "## Edgar Acuna\n",
    "### Septiembre 2020\n",
    "### Lab12: Distribucion binomial"
   ]
  },
  {
   "cell_type": "markdown",
   "metadata": {},
   "source": [
    "### $P[X=k]={n\\choose k} p^k(1-p)^{n-k}$,\n",
    "\n",
    "$k=0,1,2,...n$"
   ]
  },
  {
   "cell_type": "code",
   "execution_count": 16,
   "metadata": {},
   "outputs": [],
   "source": [
    "from scipy.stats import binom\n",
    "import numpy as np\n",
    "import matplotlib.pyplot as plt\n",
    "import pandas as pd\n",
    "%matplotlib inline"
   ]
  },
  {
   "cell_type": "code",
   "execution_count": 17,
   "metadata": {},
   "outputs": [
    {
     "data": {
      "text/plain": [
       "0.32800523437499995"
      ]
     },
     "execution_count": 17,
     "metadata": {},
     "output_type": "execute_result"
    }
   ],
   "source": [
    "#Calculo de la probabilidad binomial para n=6, p=.35 y x=2 exitos\n",
    "binom.pmf(2,6,.35)"
   ]
  },
  {
   "cell_type": "code",
   "execution_count": 18,
   "metadata": {},
   "outputs": [
    {
     "name": "stdout",
     "output_type": "stream",
     "text": [
      "          0\n",
      "0  0.075419\n",
      "1  0.243661\n",
      "2  0.328005\n",
      "3  0.235491\n",
      "4  0.095102\n",
      "5  0.020484\n",
      "6  0.001838\n"
     ]
    }
   ],
   "source": [
    "#Calculo de todas las probabilidades binomiales\n",
    "x=np.arange(0,7)\n",
    "a=pd.DataFrame(binom.pmf(x,6,.35))\n",
    "print(a)"
   ]
  },
  {
   "cell_type": "code",
   "execution_count": 19,
   "metadata": {},
   "outputs": [
    {
     "data": {
      "text/plain": [
       "1.0"
      ]
     },
     "execution_count": 19,
     "metadata": {},
     "output_type": "execute_result"
    }
   ],
   "source": [
    "#Verificando que la suma de todas las probabilidades da 1\n",
    "binom.pmf(x,6,.35).sum()"
   ]
  },
  {
   "cell_type": "code",
   "execution_count": 20,
   "metadata": {},
   "outputs": [
    {
     "data": {
      "text/plain": [
       "0.319079921875"
      ]
     },
     "execution_count": 20,
     "metadata": {},
     "output_type": "execute_result"
    }
   ],
   "source": [
    "#Calculando la probabilidad acumulada hasta x=1, con n=6 y p=.35 \n",
    "binom.cdf(1,6,.35)"
   ]
  },
  {
   "cell_type": "code",
   "execution_count": 21,
   "metadata": {},
   "outputs": [
    {
     "data": {
      "text/plain": [
       "array([0.07541889, 0.31907992, 0.64708516, 0.88257609, 0.9776782 ,\n",
       "       0.99816173, 1.        ])"
      ]
     },
     "execution_count": 21,
     "metadata": {},
     "output_type": "execute_result"
    }
   ],
   "source": [
    "#Calculando todas las probabilidades acumuladas \n",
    "binom.cdf(x,6,.35)"
   ]
  },
  {
   "cell_type": "code",
   "execution_count": 22,
   "metadata": {},
   "outputs": [
    {
     "data": {
      "text/plain": [
       "2.0"
      ]
     },
     "execution_count": 22,
     "metadata": {},
     "output_type": "execute_result"
    }
   ],
   "source": [
    "#Calculando el quantil del 64%\n",
    "binom.ppf(.64,6,.35)"
   ]
  },
  {
   "cell_type": "code",
   "execution_count": 26,
   "metadata": {},
   "outputs": [],
   "source": [
    "#Generando una muestra de 1000 valores de una binomial con n=6 y p=.35\n",
    "a=binom.rvs(6,.35,size=10000)"
   ]
  },
  {
   "cell_type": "code",
   "execution_count": 27,
   "metadata": {},
   "outputs": [
    {
     "data": {
      "text/plain": [
       "array([0.0728, 0.2406, 0.3276, 0.2429, 0.0944, 0.0197, 0.002 ])"
      ]
     },
     "execution_count": 27,
     "metadata": {},
     "output_type": "execute_result"
    }
   ],
   "source": [
    "#Hallando las frecuencias relativas de la muestra generada\n",
    "unique_elements, counts_elements = np.unique(a, return_counts=True)\n",
    "prob_sim=counts_elements/float(10000)\n",
    "prob_sim"
   ]
  },
  {
   "cell_type": "code",
   "execution_count": 28,
   "metadata": {},
   "outputs": [
    {
     "data": {
      "text/plain": [
       "<matplotlib.legend.Legend at 0x2f51c5a9d88>"
      ]
     },
     "execution_count": 28,
     "metadata": {},
     "output_type": "execute_result"
    },
    {
     "data": {
      "image/png": "[encoded data removed]",
      "text/plain": [
       "<Figure size 432x288 with 1 Axes>"
      ]
     },
     "metadata": {
      "needs_background": "light"
     },
     "output_type": "display_data"
    }
   ],
   "source": [
    "#Plot para comparar las probabilidades exactas de una binomial con las probabilidades simuladas\n",
    "fig, ax = plt.subplots(1, 1)\n",
    "ax.plot(x, binom.pmf(x, 6, .35), 'bo', ms=5, label='binom pmf')\n",
    "ax.vlines(x, 0, binom.pmf(x, 6, .35), colors='b', lw=3, alpha=0.5)\n",
    "ax.vlines(x, 0, prob_sim, colors='r', linestyles='-', lw=2,label='simulated pmf')\n",
    "ax.legend(loc='best', frameon=False)"
   ]
  },
  {
   "cell_type": "markdown",
   "metadata": {},
   "source": [
    "Ejemplo: Sea X: Número de preguntas bien contestadas por un estudiante que responde al azar un examen \n",
    "tipo selección múltiple que consiste de 10 preguntas, cada una con 4 alternativas de las cuales sólo una es correcta.\n",
    "calcular la probabilidad de que el estudiante: \n",
    "\n",
    "i)Tenga exactamente 3 preguntas buenas.\n",
    "\n",
    "ii)Tenga a lo mas 6 preguntas buenas.\n",
    "\n",
    "iii)Tenga por lo menos 3 buenas.\n",
    "\n",
    "iv)Tenga por lo menos 2 malas"
   ]
  },
  {
   "cell_type": "code",
   "execution_count": 11,
   "metadata": {},
   "outputs": [
    {
     "data": {
      "text/plain": [
       "0.2502822875976565"
      ]
     },
     "execution_count": 11,
     "metadata": {},
     "output_type": "execute_result"
    }
   ],
   "source": [
    "#soluciones\n",
    "#X es una binomial con n=10 y p=1/4=.25\n",
    "#i\n",
    "binom.pmf(3,10,.25)"
   ]
  },
  {
   "cell_type": "code",
   "execution_count": 12,
   "metadata": {},
   "outputs": [
    {
     "data": {
      "text/plain": [
       "0.9964942932128906"
      ]
     },
     "execution_count": 12,
     "metadata": {},
     "output_type": "execute_result"
    }
   ],
   "source": [
    "#ii)\n",
    "binom.cdf(6,10,.25)"
   ]
  },
  {
   "cell_type": "code",
   "execution_count": 13,
   "metadata": {},
   "outputs": [
    {
     "data": {
      "text/plain": [
       "0.4744071960449219"
      ]
     },
     "execution_count": 13,
     "metadata": {},
     "output_type": "execute_result"
    }
   ],
   "source": [
    "#iii)Por conplemento\n",
    "1-binom.cdf(2,10,.25)"
   ]
  },
  {
   "cell_type": "code",
   "execution_count": 14,
   "metadata": {},
   "outputs": [
    {
     "data": {
      "text/plain": [
       "0.9999704360961914"
      ]
     },
     "execution_count": 14,
     "metadata": {},
     "output_type": "execute_result"
    }
   ],
   "source": [
    "#iv)Por complememto, cambiando la p\n",
    "1-binom.cdf(1,10,.75)\n",
    "#Cambiando la pregunta a buenos\n",
    "binom.cdf(8,10,.25)"
   ]
  },
  {
   "cell_type": "code",
   "execution_count": 15,
   "metadata": {},
   "outputs": [
    {
     "data": {
      "text/plain": [
       "2.500000000000002"
      ]
     },
     "execution_count": 15,
     "metadata": {},
     "output_type": "execute_result"
    }
   ],
   "source": [
    "#Calculando la media de una binomial\n",
    "x=np.arange(0,11)\n",
    "mu=x*binom.pmf(x,10,.25)\n",
    "mu.sum()"
   ]
  }
 ],
 "metadata": {
  "kernelspec": {
   "display_name": "Python 3",
   "language": "python",
   "name": "python3"
  },
  "language_info": {
   "codemirror_mode": {
    "name": "ipython",
    "version": 3
   },
   "file_extension": ".py",
   "mimetype": "text/x-python",
   "name": "python",
   "nbconvert_exporter": "python",
   "pygments_lexer": "ipython3",
   "version": "3.7.6"
  }
 },
 "nbformat": 4,
 "nbformat_minor": 2
}
