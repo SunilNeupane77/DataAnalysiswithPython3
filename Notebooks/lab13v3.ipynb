{
 "cells": [
  {
   "cell_type": "markdown",
   "metadata": {
    "collapsed": true,
    "slideshow": {
     "slide_type": "slide"
    }
   },
   "source": [
    "## ESMA 3016\n",
    "## Edgar Acuna\n",
    "### Lab13: Distribuciones hipergeometrica, geometrica y binomial Negativa\n",
    "### Marzo 2019"
   ]
  },
  {
   "cell_type": "code",
   "execution_count": 22,
   "metadata": {
    "slideshow": {
     "slide_type": "slide"
    }
   },
   "outputs": [],
   "source": [
    "from scipy.stats import hypergeom,geom,nbinom\n",
    "from scipy import special\n",
    "import numpy as np\n",
    "import matplotlib.pyplot as plt\n",
    "%matplotlib inline"
   ]
  },
  {
   "cell_type": "markdown",
   "metadata": {
    "slideshow": {
     "slide_type": "slide"
    }
   },
   "source": [
    "### Distribucion Hipergeometrica\n",
    "\n",
    "### $$P[X=i]=\\frac {{m\\choose i}{n\\choose {k-i}}}{{m+n}\\choose k},$$\n",
    "\n",
    "#### para $i=max(0,k-n),.......min(k,m)$"
   ]
  },
  {
   "cell_type": "markdown",
   "metadata": {
    "slideshow": {
     "slide_type": "slide"
    }
   },
   "source": [
    "Ejemplo1: De un lote de 10 articulos de los cuales 6 son de buenos y 4 danados se extraen al azar y Sin Reposicion\n",
    "5 de ellos.\n",
    "\n",
    "a)Cual es la probabilidad de que hayan  exactamente 3 danados entre los extraidos?\n",
    "\n",
    "b)Cual es la probabilidad de que A LO Mas 2 sean 2 danados? \n",
    "\n",
    "c)Cual es la probabilidad de que haya al menos un danado entre los 5 extraidos?\n"
   ]
  },
  {
   "cell_type": "markdown",
   "metadata": {
    "slideshow": {
     "slide_type": "subslide"
    }
   },
   "source": [
    " Sol: Sea X: Número de articulos danados (exito) en la muestra de 5. X es una hipergeometrica com M=10 (tamano de la poblacion), \n",
    " n=4 (elementos del tipo I en la poblacion) y k=5 (tamano de la muestras)"
   ]
  },
  {
   "cell_type": "code",
   "execution_count": 23,
   "metadata": {
    "slideshow": {
     "slide_type": "subslide"
    }
   },
   "outputs": [
    {
     "data": {
      "text/plain": [
       "0.2380952380952378"
      ]
     },
     "execution_count": 23,
     "metadata": {},
     "output_type": "execute_result"
    }
   ],
   "source": [
    "# a)\n",
    "hypergeom.pmf(3,10,4,5)"
   ]
  },
  {
   "cell_type": "code",
   "execution_count": 24,
   "metadata": {
    "slideshow": {
     "slide_type": "subslide"
    }
   },
   "outputs": [
    {
     "data": {
      "text/plain": [
       "0.7380952380952377"
      ]
     },
     "execution_count": 24,
     "metadata": {},
     "output_type": "execute_result"
    }
   ],
   "source": [
    "#b\n",
    "hypergeom.cdf(2,10,4,5)"
   ]
  },
  {
   "cell_type": "code",
   "execution_count": 25,
   "metadata": {
    "slideshow": {
     "slide_type": "subslide"
    }
   },
   "outputs": [
    {
     "data": {
      "text/plain": [
       "0.9761904761904763"
      ]
     },
     "execution_count": 25,
     "metadata": {},
     "output_type": "execute_result"
    }
   ],
   "source": [
    "#c)\n",
    "1-hypergeom.cdf(0,10,4,5)"
   ]
  },
  {
   "cell_type": "code",
   "execution_count": 26,
   "metadata": {
    "slideshow": {
     "slide_type": "slide"
    }
   },
   "outputs": [],
   "source": [
    "#Generando una muestra de 1000 valores de una hypergeometrica con N=10, n=4 y k=5 \n",
    "a=hypergeom.rvs(10,4,5,size=1000)"
   ]
  },
  {
   "cell_type": "code",
   "execution_count": 27,
   "metadata": {
    "slideshow": {
     "slide_type": "slide"
    }
   },
   "outputs": [
    {
     "data": {
      "text/plain": [
       "array([0.024, 0.253, 0.461, 0.231, 0.031])"
      ]
     },
     "execution_count": 27,
     "metadata": {},
     "output_type": "execute_result"
    }
   ],
   "source": [
    "#Hallando las frecuencias relativas de la muestra generada\n",
    "unique_elements, counts_elements = np.unique(a, return_counts=True)\n",
    "prob_sim=counts_elements/float(1000)\n",
    "prob_sim"
   ]
  },
  {
   "cell_type": "code",
   "execution_count": 28,
   "metadata": {
    "slideshow": {
     "slide_type": "slide"
    }
   },
   "outputs": [
    {
     "data": {
      "text/plain": [
       "<matplotlib.legend.Legend at 0x1bc0ba4b978>"
      ]
     },
     "execution_count": 28,
     "metadata": {},
     "output_type": "execute_result"
    },
    {
     "data": {
      "image/png": "[encoded data removed]",
      "text/plain": [
       "<Figure size 432x288 with 1 Axes>"
      ]
     },
     "metadata": {
      "needs_background": "light"
     },
     "output_type": "display_data"
    }
   ],
   "source": [
    "#Plot para comparar las probabilidades exactas de una hypergeometrica con las probabilidades simuladas\n",
    "x=np.arange(0,5)\n",
    "fig, ax = plt.subplots(1, 1)\n",
    "ax.plot(x, hypergeom.pmf(x,10,4,5), 'bo', ms=5, label='hypergeom pmf')\n",
    "ax.vlines(x, 0, hypergeom.pmf(x, 10,4,5), colors='b', lw=3, alpha=0.5)\n",
    "ax.vlines(x, 0, prob_sim, colors='r', linestyles='-', lw=2,label='simulated pmf')\n",
    "ax.legend(loc='best', frameon=False)"
   ]
  },
  {
   "cell_type": "code",
   "execution_count": 29,
   "metadata": {
    "slideshow": {
     "slide_type": "slide"
    }
   },
   "outputs": [
    {
     "data": {
      "text/plain": [
       "1.9999999999999984"
      ]
     },
     "execution_count": 29,
     "metadata": {},
     "output_type": "execute_result"
    }
   ],
   "source": [
    "#Calculando la media de una hypergeometrica\n",
    "x=np.arange(0,5)\n",
    "mu=x*hypergeom.pmf(x,10,4,5)\n",
    "mu.sum()"
   ]
  },
  {
   "cell_type": "markdown",
   "metadata": {
    "slideshow": {
     "slide_type": "slide"
    }
   },
   "source": [
    "###  Distribucion Geometrica\n",
    "#### X; Numero de repeticiones hastq ue salga el primer Exito\n",
    "###  $$P[X=k]={(1-p)}^{k-1}p,$$\n",
    "#### para $k=1,2,3,......$"
   ]
  },
  {
   "cell_type": "markdown",
   "metadata": {
    "collapsed": true,
    "slideshow": {
     "slide_type": "slide"
    }
   },
   "source": [
    "Ejemplo 2: Distribucion Geometrica\n",
    "    \n",
    "Si las extracciones en el ejemplo anterior fueran con reemplazo\n",
    "\n",
    "a) Cual es la probabilidad de que el primer articulo danado salga en la tercera extraccion?\n",
    "\n",
    "b) Cual es la probabilidad de que el primer articulo danado salga a lo mas en  5 extracciones?\n",
    "\n",
    "c) Cual es la probabilidad de que el primer articulo danado salga despues de 4 extracciones?\n",
    "\n",
    "Solucion: Sea X: el numero de buenos extraidos hasta que salga el primer danado. X es una geometrica con p=.4"
   ]
  },
  {
   "cell_type": "code",
   "execution_count": 30,
   "metadata": {
    "slideshow": {
     "slide_type": "slide"
    }
   },
   "outputs": [
    {
     "name": "stdout",
     "output_type": "stream",
     "text": [
      "0.14400\n"
     ]
    }
   ],
   "source": [
    "#a\n",
    "p1=geom.pmf(3,.4)\n",
    "print(\"%.5f\" %  p1)"
   ]
  },
  {
   "cell_type": "code",
   "execution_count": 31,
   "metadata": {
    "slideshow": {
     "slide_type": "slide"
    }
   },
   "outputs": [
    {
     "data": {
      "text/plain": [
       "0.9222"
      ]
     },
     "execution_count": 31,
     "metadata": {},
     "output_type": "execute_result"
    }
   ],
   "source": [
    "#b\n",
    "p2=geom.cdf(5,.4)\n",
    "round(p2,4)"
   ]
  },
  {
   "cell_type": "code",
   "execution_count": 32,
   "metadata": {
    "slideshow": {
     "slide_type": "slide"
    }
   },
   "outputs": [
    {
     "name": "stdout",
     "output_type": "stream",
     "text": [
      "0.13\n"
     ]
    }
   ],
   "source": [
    "#c\n",
    "p3=1-geom.cdf(4,.4)\n",
    "print(float(\"%.3f\" % p3)) "
   ]
  },
  {
   "cell_type": "code",
   "execution_count": 33,
   "metadata": {
    "slideshow": {
     "slide_type": "slide"
    }
   },
   "outputs": [
    {
     "data": {
      "text/plain": [
       "array([0.409, 0.241, 0.147, 0.081, 0.046, 0.038, 0.017, 0.01 , 0.006,\n",
       "       0.001, 0.001, 0.002, 0.001])"
      ]
     },
     "execution_count": 33,
     "metadata": {},
     "output_type": "execute_result"
    }
   ],
   "source": [
    "#Generando una muestra de 1000 valores de una geometrica con p=.4 \n",
    "a=geom.rvs(.4,size=1000)\n",
    "#Hallando las frecuencias relativas de la muestra generada\n",
    "unique_elements, counts_elements = np.unique(a, return_counts=True)\n",
    "prob_sim=counts_elements/float(1000)\n",
    "x=np.arange(1,11)\n",
    "prob_sim"
   ]
  },
  {
   "cell_type": "code",
   "execution_count": 34,
   "metadata": {
    "slideshow": {
     "slide_type": "slide"
    }
   },
   "outputs": [
    {
     "data": {
      "text/plain": [
       "<matplotlib.legend.Legend at 0x1bc0ba9e828>"
      ]
     },
     "execution_count": 34,
     "metadata": {},
     "output_type": "execute_result"
    },
    {
     "data": {
      "image/png": "[encoded data removed]",
      "text/plain": [
       "<Figure size 432x288 with 1 Axes>"
      ]
     },
     "metadata": {
      "needs_background": "light"
     },
     "output_type": "display_data"
    }
   ],
   "source": [
    "#Comparacion de la probabilidad teorica con la frecuencia relativa de 1000 valores simulados del 1 al 10\n",
    "x=np.arange(1,11)\n",
    "fig, ax=plt.subplots(1,1)\n",
    "ax.plot(x, geom.pmf(x,.4), 'bo', ms=5, label='geom pmf')\n",
    "ax.vlines(x, 0, geom.pmf(x,4), colors='b',lw=3,alpha=0.5)\n",
    "ax.vlines(x, 0, prob_sim, colors='r', linestyles='-', lw=2,label='simulated pmf')\n",
    "ax.legend(loc='best', frameon=False)"
   ]
  },
  {
   "cell_type": "code",
   "execution_count": 35,
   "metadata": {
    "slideshow": {
     "slide_type": "slide"
    }
   },
   "outputs": [
    {
     "data": {
      "text/plain": [
       "2.4986898765589776"
      ]
     },
     "execution_count": 35,
     "metadata": {},
     "output_type": "execute_result"
    }
   ],
   "source": [
    "#valor esperado estimada de una geometrica (el valor exacto es 1/p=2.5)\n",
    "x=np.arange(1,20)\n",
    "mu=x*geom.pmf(x,.4)\n",
    "mu.sum()"
   ]
  },
  {
   "cell_type": "markdown",
   "metadata": {},
   "source": [
    "###  Distribucion Binomial Negativa\n",
    "#### X: numero de fracasos antes de que ocurra el exito por r-esima vez\n",
    "###  $$P[X=k]={{k+r-1}\\choose k}{(1-p)}^{k}p^r,$$\n",
    "#### para $k=0,1,2,3,......$"
   ]
  },
  {
   "cell_type": "markdown",
   "metadata": {
    "collapsed": true,
    "slideshow": {
     "slide_type": "slide"
    }
   },
   "source": [
    "Ejemplo 3: Distribucion Binomial Negativa (tambien llamada Pascal)\n",
    "\n",
    "Bajo las mismas condiciones del ejemplo 2\n",
    "\n",
    "a) Cual es la probabilidad de que salgan dos articulos buenos antes de salir el tercer articulo danado?\n",
    "\n",
    "b) Cual es la probabilidad de que salgan a lo mas  3 buenos antes de que salga el tercer articulo danado?\n",
    "\n",
    "c) Cual es la probabilidad de que el tercer articulo danado salga despues de que salgan 5 buenos?\n",
    "\n",
    "Solucion: Sea X: el numero de buenos extraidos hasta que salga el tercer danado. X es una binomial negativa con r=3 y p=.4"
   ]
  },
  {
   "cell_type": "code",
   "execution_count": 36,
   "metadata": {
    "slideshow": {
     "slide_type": "slide"
    }
   },
   "outputs": [
    {
     "data": {
      "text/plain": [
       "0.13824000000000003"
      ]
     },
     "execution_count": 36,
     "metadata": {},
     "output_type": "execute_result"
    }
   ],
   "source": [
    "#a\n",
    "nbinom.pmf(2,3,.4)"
   ]
  },
  {
   "cell_type": "code",
   "execution_count": 37,
   "metadata": {
    "slideshow": {
     "slide_type": "slide"
    }
   },
   "outputs": [
    {
     "data": {
      "text/plain": [
       "0.4556800000000001"
      ]
     },
     "execution_count": 37,
     "metadata": {},
     "output_type": "execute_result"
    }
   ],
   "source": [
    "#b\n",
    "nbinom.cdf(3,3,.4)"
   ]
  },
  {
   "cell_type": "code",
   "execution_count": 38,
   "metadata": {},
   "outputs": [
    {
     "data": {
      "text/plain": [
       "0.4556800000000001"
      ]
     },
     "execution_count": 38,
     "metadata": {},
     "output_type": "execute_result"
    }
   ],
   "source": [
    " nbinom.pmf(0,3,.4)+nbinom.pmf(1,3,.4)+nbinom.pmf(2,3,.4)+nbinom.pmf(3,3,.4)"
   ]
  },
  {
   "cell_type": "code",
   "execution_count": 39,
   "metadata": {
    "slideshow": {
     "slide_type": "slide"
    }
   },
   "outputs": [
    {
     "data": {
      "text/plain": [
       "0.3153945600000001"
      ]
     },
     "execution_count": 39,
     "metadata": {},
     "output_type": "execute_result"
    }
   ],
   "source": [
    "#c\n",
    "1-nbinom.cdf(5,3,.4)"
   ]
  },
  {
   "cell_type": "code",
   "execution_count": 40,
   "metadata": {
    "slideshow": {
     "slide_type": "slide"
    }
   },
   "outputs": [
    {
     "data": {
      "text/plain": [
       "array([0.061, 0.112, 0.133, 0.126, 0.106, 0.128, 0.094, 0.061, 0.055,\n",
       "       0.039, 0.021, 0.017, 0.016, 0.013, 0.005, 0.007, 0.001, 0.001,\n",
       "       0.002, 0.001, 0.001])"
      ]
     },
     "execution_count": 40,
     "metadata": {},
     "output_type": "execute_result"
    }
   ],
   "source": [
    "#Generando una muestra de 1000 valores de una binomial con p=.4 \n",
    "a=nbinom.rvs(3,.4,size=1000)\n",
    "#Hallando las frecuencias relativas de la muestra generada\n",
    "unique_elements, counts_elements = np.unique(a, return_counts=True)\n",
    "prob_sim=counts_elements/float(1000)\n",
    "prob_sim"
   ]
  },
  {
   "cell_type": "code",
   "execution_count": 41,
   "metadata": {
    "scrolled": false,
    "slideshow": {
     "slide_type": "slide"
    }
   },
   "outputs": [
    {
     "data": {
      "text/plain": [
       "<matplotlib.legend.Legend at 0x1bc0baeb940>"
      ]
     },
     "execution_count": 41,
     "metadata": {},
     "output_type": "execute_result"
    },
    {
     "data": {
      "image/png": "[encoded data removed]",
      "text/plain": [
       "<Figure size 432x288 with 1 Axes>"
      ]
     },
     "metadata": {
      "needs_background": "light"
     },
     "output_type": "display_data"
    }
   ],
   "source": [
    "#Comparacion de la probabilidad teorica con la frecuencia relativa de 1000 valores simulados del 0 al 10\n",
    "x=np.arange(0,11)\n",
    "fig, ax=plt.subplots(1,1)\n",
    "ax.plot(x, nbinom.pmf(x,3,.4), 'bo', ms=5, label='nbinom pmf')\n",
    "ax.vlines(x,0,nbinom.pmf(x,3,.4), colors='b',lw=3,alpha=0.5)\n",
    "ax.vlines(x, 0, prob_sim, colors='r', linestyles='-', lw=2,label='simulated pmf')\n",
    "ax.legend(loc='best', frameon=False)"
   ]
  },
  {
   "cell_type": "code",
   "execution_count": 42,
   "metadata": {
    "slideshow": {
     "slide_type": "slide"
    }
   },
   "outputs": [
    {
     "data": {
      "text/plain": [
       "4.5"
      ]
     },
     "execution_count": 42,
     "metadata": {},
     "output_type": "execute_result"
    }
   ],
   "source": [
    "#valor esperado estimado de la Binomial Negativa con 3 danados y p=.4 (valor exacto es r*q/p=3*.6/.4=4.5)\n",
    "x=np.arange(0,100)\n",
    "mu=x*nbinom.pmf(x,3,.4)\n",
    "mu.sum()"
   ]
  },
  {
   "cell_type": "code",
   "execution_count": null,
   "metadata": {},
   "outputs": [],
   "source": []
  }
 ],
 "metadata": {
  "celltoolbar": "Slideshow",
  "kernelspec": {
   "display_name": "Python 3",
   "language": "python",
   "name": "python3"
  },
  "language_info": {
   "codemirror_mode": {
    "name": "ipython",
    "version": 3
   },
   "file_extension": ".py",
   "mimetype": "text/x-python",
   "name": "python",
   "nbconvert_exporter": "python",
   "pygments_lexer": "ipython3",
   "version": "3.5.5"
  }
 },
 "nbformat": 4,
 "nbformat_minor": 2
}
