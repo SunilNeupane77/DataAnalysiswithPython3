{
 "cells": [
  {
   "cell_type": "markdown",
   "metadata": {},
   "source": [
    "## ESMA 3016\n",
    "## Edgar Acuna\n",
    "### Lab14: Distribucion Poisson \n",
    "#### Octubre 2020"
   ]
  },
  {
   "cell_type": "markdown",
   "metadata": {},
   "source": [
    "$$P[X=k]=\\frac{e^{-\\lambda}{\\lambda^k}}{k!},$$\n",
    "\n",
    "para k=0,1,....."
   ]
  },
  {
   "cell_type": "code",
   "execution_count": 3,
   "metadata": {},
   "outputs": [],
   "source": [
    "from scipy.stats import binom,poisson\n",
    "import numpy as np\n",
    "import matplotlib.pyplot as plt\n",
    "%matplotlib inline"
   ]
  },
  {
   "cell_type": "markdown",
   "metadata": {},
   "source": [
    "#### Ejemplo1: El numero de errores tipograficos en un libro tiene una distribucion Poisson con un promedio de  4 errores por pagina\n",
    "\n",
    "a) Cual es la probabilidad de que una pagina cualquiera del libro hayan 2 errores\n",
    "\n",
    "b) CUal es la probailidad de que no haya mas de 5 errores en una pagina de libro\n",
    "\n",
    "c) Si se encuentran mas de 6 errroes en una pagina del libro, esta pagina debe reescribirse totalmentecual es la probabilidad de que esto ocurra?\n",
    "\n",
    "Sol:"
   ]
  },
  {
   "cell_type": "code",
   "execution_count": 4,
   "metadata": {},
   "outputs": [
    {
     "data": {
      "text/plain": [
       "0.14652511110987343"
      ]
     },
     "execution_count": 4,
     "metadata": {},
     "output_type": "execute_result"
    }
   ],
   "source": [
    "poisson.pmf(2,4)"
   ]
  },
  {
   "cell_type": "code",
   "execution_count": 5,
   "metadata": {},
   "outputs": [
    {
     "data": {
      "text/plain": [
       "0.7851303870304052"
      ]
     },
     "execution_count": 5,
     "metadata": {},
     "output_type": "execute_result"
    }
   ],
   "source": [
    "#b\n",
    "poisson.cdf(5,4)"
   ]
  },
  {
   "cell_type": "code",
   "execution_count": 6,
   "metadata": {},
   "outputs": [
    {
     "data": {
      "text/plain": [
       "0.11067397840257365"
      ]
     },
     "execution_count": 6,
     "metadata": {},
     "output_type": "execute_result"
    }
   ],
   "source": [
    "#c\n",
    "1-poisson.cdf(6,4)"
   ]
  },
  {
   "cell_type": "code",
   "execution_count": 7,
   "metadata": {},
   "outputs": [],
   "source": [
    "#Generando una muestra de 1000 valores de una Poisson  con lambda=4 \n",
    "a=poisson.rvs(4,size=1000)"
   ]
  },
  {
   "cell_type": "code",
   "execution_count": 8,
   "metadata": {},
   "outputs": [
    {
     "data": {
      "text/plain": [
       "array([0.013, 0.086, 0.142, 0.217, 0.181, 0.154, 0.101, 0.063, 0.022,\n",
       "       0.016, 0.003, 0.002])"
      ]
     },
     "execution_count": 8,
     "metadata": {},
     "output_type": "execute_result"
    }
   ],
   "source": [
    "#Hallando las frecuencias relativas de la muestra generada\n",
    "unique_elements, counts_elements = np.unique(a, return_counts=True)\n",
    "prob_sim=counts_elements/float(1000)\n",
    "prob_sim"
   ]
  },
  {
   "cell_type": "code",
   "execution_count": 9,
   "metadata": {},
   "outputs": [
    {
     "data": {
      "text/plain": [
       "<matplotlib.legend.Legend at 0x2e00ae37148>"
      ]
     },
     "execution_count": 9,
     "metadata": {},
     "output_type": "execute_result"
    },
    {
     "data": {
      "image/png": "[encoded data removed]",
      "text/plain": [
       "<Figure size 432x288 with 1 Axes>"
      ]
     },
     "metadata": {
      "needs_background": "light"
     },
     "output_type": "display_data"
    }
   ],
   "source": [
    "#Plot para comparar las probabilidades exactas de una poisson con las probabilidades simuladas\n",
    "x=np.arange(0,14)\n",
    "fig, ax = plt.subplots(1, 1)\n",
    "ax.plot(x, poisson.pmf(x,4), 'bo', ms=5, label='poissom pmf')\n",
    "ax.vlines(x, 0, poisson.pmf(x,4), colors='b', lw=3, alpha=0.5)\n",
    "ax.vlines(x, 0, prob_sim, colors='r', linestyles='-', lw=2,label='simulated pmf')\n",
    "ax.legend(loc='best', frameon=False)"
   ]
  },
  {
   "cell_type": "markdown",
   "metadata": {},
   "source": [
    "Ejemplo2: Los clientes llegan a un restaurante a razon de 15 por hora. En una hora cualquiera\n",
    "\n",
    "a)Cual es la probabilidad de que lleguen exactamente 10 clientes\n",
    "\n",
    "b)Cual es la probabilidad de que lleguen no mas de 5 clientes?\n",
    "\n",
    "c)Cual es la probabilidad de que lleguen por lo menos 8 clientes?\n",
    "\n",
    "d)Cual es la probabilidad de que en las proximas 4 horas lleguen entre 40 y 70 clientes?\n",
    "\n",
    "Solucion"
   ]
  },
  {
   "cell_type": "code",
   "execution_count": 10,
   "metadata": {},
   "outputs": [
    {
     "data": {
      "text/plain": [
       "0.04861075082960534"
      ]
     },
     "execution_count": 10,
     "metadata": {},
     "output_type": "execute_result"
    }
   ],
   "source": [
    "#a\n",
    "poisson.pmf(10,15)"
   ]
  },
  {
   "cell_type": "code",
   "execution_count": 11,
   "metadata": {},
   "outputs": [
    {
     "data": {
      "text/plain": [
       "0.0027924293327009145"
      ]
     },
     "execution_count": 11,
     "metadata": {},
     "output_type": "execute_result"
    }
   ],
   "source": [
    "#b\n",
    "poisson.cdf(5,15)"
   ]
  },
  {
   "cell_type": "code",
   "execution_count": 12,
   "metadata": {},
   "outputs": [
    {
     "data": {
      "text/plain": [
       "0.9819978068521692"
      ]
     },
     "execution_count": 12,
     "metadata": {},
     "output_type": "execute_result"
    }
   ],
   "source": [
    "#c\n",
    "1-poisson.cdf(7,15)"
   ]
  },
  {
   "cell_type": "code",
   "execution_count": 13,
   "metadata": {},
   "outputs": [
    {
     "data": {
      "text/plain": [
       "0.9072651364302438"
      ]
     },
     "execution_count": 13,
     "metadata": {},
     "output_type": "execute_result"
    }
   ],
   "source": [
    "#d P(40<=X<=70) en 4 horas\n",
    "poisson.cdf(70,60)-poisson.cdf(39,60)"
   ]
  },
  {
   "cell_type": "markdown",
   "metadata": {},
   "source": [
    "### Prueba experimental de que una binomial con n grande y p pequeno se aproxima a una Poisson con $\\lambda=n*p$"
   ]
  },
  {
   "cell_type": "code",
   "execution_count": 14,
   "metadata": {},
   "outputs": [
    {
     "data": {
      "text/plain": [
       "<matplotlib.legend.Legend at 0x2e00af00f48>"
      ]
     },
     "execution_count": 14,
     "metadata": {},
     "output_type": "execute_result"
    },
    {
     "data": {
      "image/png": "[encoded data removed]",
      "text/plain": [
       "<Figure size 432x288 with 1 Axes>"
      ]
     },
     "metadata": {
      "needs_background": "light"
     },
     "output_type": "display_data"
    }
   ],
   "source": [
    "x=np.arange(50,100)\n",
    "binom.pmf(x,1000,.075)\n",
    "poisson.pmf(x,75)\n",
    "#Haciendo una comparacion grafica\n",
    "fig, ax = plt.subplots(1, 1)\n",
    "ax.plot(x, binom.pmf(x,1000,.075), 'bo', ms=5, label='binom pmf')\n",
    "ax.vlines(x, 0, binom.pmf(x,1000,.075), colors='b', lw=2, alpha=0.5)\n",
    "ax.vlines(x, 0, poisson.pmf(x,75), colors='g', linestyles='-', lw=2,label='Poisson pmf')\n",
    "ax.legend(loc='best', frameon=False)"
   ]
  },
  {
   "cell_type": "code",
   "execution_count": 15,
   "metadata": {},
   "outputs": [
    {
     "data": {
      "text/plain": [
       "<matplotlib.legend.Legend at 0x2e00af07208>"
      ]
     },
     "execution_count": 15,
     "metadata": {},
     "output_type": "execute_result"
    },
    {
     "data": {
      "image/png": "[encoded data removed]",
      "text/plain": [
       "<Figure size 432x288 with 1 Axes>"
      ]
     },
     "metadata": {
      "needs_background": "light"
     },
     "output_type": "display_data"
    }
   ],
   "source": [
    "#Mostrando graficamente que la aproximacion no es tan buena si p es grande\n",
    "x=np.arange(500,701)\n",
    "fig, ax = plt.subplots(1, 1)\n",
    "ax.plot(x, binom.pmf(x,1000,.6), 'bo', ms=2, label='binom pmf')\n",
    "ax.vlines(x, 0, binom.pmf(x,1000,.6), colors='b', lw=1, alpha=0.5)\n",
    "ax.vlines(x, 0, poisson.pmf(x,600), colors='g', linestyles='-', lw=1,label='Poisson pmf')\n",
    "ax.legend(loc='best', frameon=False)"
   ]
  },
  {
   "cell_type": "markdown",
   "metadata": {},
   "source": [
    "### Ejemplo de aplicacion de la aproximacion de la binomial a la Poisson"
   ]
  },
  {
   "cell_type": "code",
   "execution_count": 16,
   "metadata": {},
   "outputs": [
    {
     "data": {
      "text/plain": [
       "0.09850825486213888"
      ]
     },
     "execution_count": 16,
     "metadata": {},
     "output_type": "execute_result"
    }
   ],
   "source": [
    "#Valor exacto: Binomial con n=400 y p=1/365\n",
    "1-binom.cdf(2,400,1/365)"
   ]
  },
  {
   "cell_type": "code",
   "execution_count": 17,
   "metadata": {},
   "outputs": [
    {
     "data": {
      "text/plain": [
       "0.09875749444254511"
      ]
     },
     "execution_count": 17,
     "metadata": {},
     "output_type": "execute_result"
    }
   ],
   "source": [
    "#Valor aproximado por una Poisson con lambda=440/365\n",
    "1-poisson.cdf(2,400/365)"
   ]
  }
 ],
 "metadata": {
  "kernelspec": {
   "display_name": "Python 3",
   "language": "python",
   "name": "python3"
  },
  "language_info": {
   "codemirror_mode": {
    "name": "ipython",
    "version": 3
   },
   "file_extension": ".py",
   "mimetype": "text/x-python",
   "name": "python",
   "nbconvert_exporter": "python",
   "pygments_lexer": "ipython3",
   "version": "3.7.6"
  }
 },
 "nbformat": 4,
 "nbformat_minor": 2
}
