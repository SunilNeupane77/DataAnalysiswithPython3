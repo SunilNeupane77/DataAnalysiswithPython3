{
 "cells": [
  {
   "cell_type": "markdown",
   "metadata": {},
   "source": [
    "### ESMA 3016\n",
    "### Edgar Acuna\n",
    "### Lab17: Aproximacion Normal a la Binomial (Teorema de Moivre, 1733)\n",
    "\n",
    "### Octubre 2020"
   ]
  },
  {
   "cell_type": "code",
   "execution_count": 1,
   "metadata": {},
   "outputs": [],
   "source": [
    "from scipy.stats  import binom,norm\n",
    "import numpy as np\n",
    "import matplotlib.pyplot as plt\n",
    "from math import sqrt,factorial,pi\n",
    "%matplotlib inline"
   ]
  },
  {
   "cell_type": "markdown",
   "metadata": {},
   "source": [
    "Si X es binomial(n.p) entonces $Z=\\frac {X-np}{\\sqrt{npq}}$ is N(0,1) cuando n es grande\n",
    "Como X es discreta y Z es continua se aplica un factor de correccion por continuidad de .5 y despues se entandariza.\n",
    "Asi $P[X=k]\\sim P[k-.5<X<k+.5]\\sim P[\\frac{k-.5-np}{\\sqrt{npq}}<Z<\\frac{k+.5-np}{\\sqrt{npq}}]$\n",
    "\n",
    "Este es un caso particular del Teorema del Limite Central, que se vera mas adelante.\n",
    "\n",
    "### Ejemplo 1. Binomial con n=20 y p=.3 y k=1,  np=6 y npq=4.2"
   ]
  },
  {
   "cell_type": "code",
   "execution_count": 2,
   "metadata": {},
   "outputs": [
    {
     "data": {
      "text/plain": [
       "0.006839337111223886"
      ]
     },
     "execution_count": 2,
     "metadata": {},
     "output_type": "execute_result"
    }
   ],
   "source": [
    "p_exacta=binom.pmf(1,20,.3)\n",
    "p_exacta"
   ]
  },
  {
   "cell_type": "code",
   "execution_count": 3,
   "metadata": {},
   "outputs": [
    {
     "data": {
      "text/plain": [
       "0.010413673952426927"
      ]
     },
     "execution_count": 3,
     "metadata": {},
     "output_type": "execute_result"
    }
   ],
   "source": [
    "#Estandararizando\n",
    "p_aprox1=norm.cdf((1.5-6)/sqrt(4.2))-norm.cdf((.5-6)/sqrt(4.2))\n",
    "p_aprox1"
   ]
  },
  {
   "cell_type": "code",
   "execution_count": 4,
   "metadata": {},
   "outputs": [
    {
     "data": {
      "text/plain": [
       "0.010413673952426927"
      ]
     },
     "execution_count": 4,
     "metadata": {},
     "output_type": "execute_result"
    }
   ],
   "source": [
    "#Sin estandarizar\n",
    "p_aprox2=norm.cdf(1.5,6,sqrt(4.2))-norm.cdf(0.5,6,sqrt(4.2))\n",
    "p_aprox2"
   ]
  },
  {
   "cell_type": "markdown",
   "metadata": {},
   "source": [
    "### Ejemplo 2. con n=100 y p=.4 y k=45, np=40 y npq=24"
   ]
  },
  {
   "cell_type": "code",
   "execution_count": 5,
   "metadata": {},
   "outputs": [
    {
     "name": "stdout",
     "output_type": "stream",
     "text": [
      "0.04781118010335342 0.04837711536746547\n"
     ]
    }
   ],
   "source": [
    "p_exacta=binom.pmf(45,100,.4)\n",
    "p_aprox=norm.cdf(5.5/sqrt(24))-norm.cdf(4.5/sqrt(24))\n",
    "print(p_exacta, p_aprox)"
   ]
  },
  {
   "cell_type": "markdown",
   "metadata": {},
   "source": [
    "### Ejemplo 3. con n=100 y p=.4 y k=10, np=40 y npq=24"
   ]
  },
  {
   "cell_type": "code",
   "execution_count": 6,
   "metadata": {},
   "outputs": [
    {
     "name": "stdout",
     "output_type": "stream",
     "text": [
      "1.9611792049918015e-11 6.236008500329998e-10\n"
     ]
    }
   ],
   "source": [
    "p_exacta=binom.pmf(10,100,.4)\n",
    "p_aprox=norm.cdf(-29.5/sqrt(24))-norm.cdf(-30.5/sqrt(24))\n",
    "print(p_exacta, p_aprox)"
   ]
  },
  {
   "cell_type": "markdown",
   "metadata": {},
   "source": [
    "### Otras formulas:\n",
    "$$P[a\\leq X\\leq b]\\sim P[\\frac{ a-.5-np}{\\sqrt{npq}}<Z<\\frac{ b+.5-np}{\\sqrt{npq}}]=F[\\frac {b+.5-np}{\\sqrt{npq}}]-F[\\frac {a-.5-np}{\\sqrt{npq}}]$$\n",
    "\n",
    "### Ejemplo 4. con n=100 y p=.4, calcular P(25<=X<=35)"
   ]
  },
  {
   "cell_type": "code",
   "execution_count": 7,
   "metadata": {},
   "outputs": [
    {
     "name": "stdout",
     "output_type": "stream",
     "text": [
      "0.17890781740877962 0.17838494686199832\n"
     ]
    }
   ],
   "source": [
    "p_exacta=binom.cdf(35,100,.4)-binom.cdf(24,100,.4)\n",
    "p_aprox=norm.cdf(-4.5/sqrt(24))-norm.cdf(-15.5/sqrt(24))\n",
    "print(p_exacta, p_aprox)"
   ]
  },
  {
   "cell_type": "markdown",
   "metadata": {},
   "source": [
    "#### Trazando las probabilidades binomiales y la curva normal que aproxima las probabilidades (Teorema de Moivre)"
   ]
  },
  {
   "cell_type": "code",
   "execution_count": 8,
   "metadata": {},
   "outputs": [
    {
     "data": {
      "text/plain": [
       "<matplotlib.legend.Legend at 0x172331f3208>"
      ]
     },
     "execution_count": 8,
     "metadata": {},
     "output_type": "execute_result"
    },
    {
     "data": {
      "image/png": "[encoded data removed]",
      "text/plain": [
       "<Figure size 432x288 with 1 Axes>"
      ]
     },
     "metadata": {
      "needs_background": "light"
     },
     "output_type": "display_data"
    }
   ],
   "source": [
    "x=np.arange(0,100,1)\n",
    "fig, ax = plt.subplots(1, 1)\n",
    "ax.vlines(x, 0, binom.pmf(x,100,.4), colors='b', lw=2, alpha=0.5, label='Distribucion Binomial')\n",
    "ax.plot(x, norm.pdf(x,40,sqrt(24)), 'k-', lw=1, label='Densidad Gaussiana')\n",
    "ax.legend(loc='best', frameon=False)"
   ]
  },
  {
   "cell_type": "markdown",
   "metadata": {},
   "source": [
    "### Teorema de Moivre pero usando proporciones\n",
    "\n",
    "$\\hat{p}=\\frac{X}{n}$, proporcion de eventos en una muestra \n",
    "de tamano n, $\\hat{p}$ es un numero entre 0 y 1.\n",
    "\n",
    "$Z=\\frac{\\hat{p}-p}{\\sqrt{\\frac{pq}{n}}}$ es aproximadamnte N(0,1), la probabilidad p es conocida\n",
    "\n",
    "Formula: $Prob(\\hat{p}<po)=P(Z<\\frac{po-p}{\\sqrt{\\frac{pq}{n}}})$\n",
    "\n",
    "### Ejemplo 5. Cual es la probabilidad estimada de que en una muestra de tamano 100, la proporcion de  eventos sea menor de .6 si se sabe que en la probabilidad de ocurrencia p es .4"
   ]
  },
  {
   "cell_type": "code",
   "execution_count": 9,
   "metadata": {},
   "outputs": [
    {
     "name": "stdout",
     "output_type": "stream",
     "text": [
      "0.9999575336129427 0.999977721454698\n"
     ]
    }
   ],
   "source": [
    "p_aprox=norm.cdf(.6,.4,sqrt(.0024))\n",
    "#La probabiidad exacta es\n",
    "p_exacta=binom.cdf(59,100,.4)\n",
    "print(p_exacta, p_aprox)"
   ]
  },
  {
   "cell_type": "code",
   "execution_count": null,
   "metadata": {},
   "outputs": [],
   "source": []
  }
 ],
 "metadata": {
  "kernelspec": {
   "display_name": "Python 3",
   "language": "python",
   "name": "python3"
  },
  "language_info": {
   "codemirror_mode": {
    "name": "ipython",
    "version": 3
   },
   "file_extension": ".py",
   "mimetype": "text/x-python",
   "name": "python",
   "nbconvert_exporter": "python",
   "pygments_lexer": "ipython3",
   "version": "3.7.6"
  }
 },
 "nbformat": 4,
 "nbformat_minor": 2
}
