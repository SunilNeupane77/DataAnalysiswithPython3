{
 "cells": [
  {
   "cell_type": "markdown",
   "metadata": {},
   "source": [
    "### ESMA 3016\n",
    "### Lab 19: Boostrapping para estimar la distribucion de la media y mediana\n",
    "### Edgar Acuna\n",
    "#### Octubre  2020"
   ]
  },
  {
   "cell_type": "code",
   "execution_count": 1,
   "metadata": {},
   "outputs": [],
   "source": [
    "import numpy as np\n",
    "import random as rd\n",
    "from scipy.stats import t\n",
    "import matplotlib.pyplot as plt"
   ]
  },
  {
   "cell_type": "code",
   "execution_count": 2,
   "metadata": {},
   "outputs": [
    {
     "data": {
      "text/plain": [
       "[9, 23, 15, 28, 12, 33, 45, 17]"
      ]
     },
     "execution_count": 2,
     "metadata": {},
     "output_type": "execute_result"
    }
   ],
   "source": [
    "# Definiendo la poblacion \n",
    "x=[9,12,23,45,17,28,15,33]\n",
    "# muestra de tamaño 8 SIN reemplazo \n",
    "rd.sample(x,8)"
   ]
  },
  {
   "cell_type": "code",
   "execution_count": 3,
   "metadata": {},
   "outputs": [
    {
     "data": {
      "text/plain": [
       "array([12, 23,  9, 15, 17, 28, 33, 45])"
      ]
     },
     "execution_count": 3,
     "metadata": {},
     "output_type": "execute_result"
    }
   ],
   "source": [
    "#Otra manera: muestra de tamaño 8 SIN reemplazo\n",
    "np.random.choice(x,8,replace=False)"
   ]
  },
  {
   "cell_type": "markdown",
   "metadata": {},
   "source": [
    "### Muestra Bootstrap"
   ]
  },
  {
   "cell_type": "code",
   "execution_count": 4,
   "metadata": {},
   "outputs": [
    {
     "data": {
      "text/plain": [
       "array([28, 45, 17, 17,  9, 17,  9, 28])"
      ]
     },
     "execution_count": 4,
     "metadata": {},
     "output_type": "execute_result"
    }
   ],
   "source": [
    "#muestra de tamaño 8 CON reemplazo\n",
    "np.random.choice(x,8)"
   ]
  },
  {
   "cell_type": "code",
   "execution_count": 5,
   "metadata": {},
   "outputs": [
    {
     "name": "stdout",
     "output_type": "stream",
     "text": [
      "[250.75, 279.0, 276.75, 251.375, 247.0, 285.75, 286.0, 250.75, 268.125, 263.375, 267.625, 260.25, 266.125, 237.0, 260.0, 254.125, 263.625, 265.25, 271.75, 249.125, 260.375, 263.375, 260.625, 243.75, 274.625, 244.25, 273.625, 267.0, 270.25, 260.875, 262.125, 272.125, 249.125, 251.625, 278.25, 244.125, 267.25, 275.875, 241.5, 236.375, 253.0, 288.625, 246.875, 239.375, 270.625, 259.375, 247.625, 264.125, 259.375, 270.5, 260.75, 264.5, 235.5, 247.75, 286.75, 239.875, 271.5, 257.5, 243.25, 273.625, 257.0, 246.375, 254.625, 279.375, 267.0, 254.25, 242.5, 253.25, 258.625, 242.375, 274.25, 278.125, 258.375, 251.5, 257.125, 245.625, 262.375, 275.25, 272.375, 285.125, 268.625, 263.75, 255.125, 261.5, 265.0, 271.125, 282.5, 257.875, 248.25, 262.0, 243.0, 258.125, 265.875, 268.5, 265.25, 266.125, 252.25, 256.75, 269.0, 243.375]\n"
     ]
    }
   ],
   "source": [
    "#Obteniendo las medias de 100 muestras bootstrap de los datos coles\n",
    "coles=[233, 259, 215, 322, 289, 220, 276,299] \n",
    "b=[np.random.choice(coles,8).mean() for _ in range(100)] \n",
    "print(b)"
   ]
  },
  {
   "cell_type": "code",
   "execution_count": 6,
   "metadata": {},
   "outputs": [
    {
     "name": "stdout",
     "output_type": "stream",
     "text": [
      "260.70875\n"
     ]
    }
   ],
   "source": [
    "#calculando la media de las medias de las 100 muestras bootstrap\n",
    "print(np.mean(b))"
   ]
  },
  {
   "cell_type": "markdown",
   "metadata": {},
   "source": [
    "Teoricamente, se espera que  la media poblacional sea 265.155"
   ]
  },
  {
   "cell_type": "code",
   "execution_count": 7,
   "metadata": {},
   "outputs": [
    {
     "name": "stdout",
     "output_type": "stream",
     "text": [
      "12.689473772928427\n"
     ]
    }
   ],
   "source": [
    "#calculando la desviacion estandar de las medias de las 100 muestras bootstrap\n",
    "print(np.std(b,ddof=1))"
   ]
  },
  {
   "cell_type": "markdown",
   "metadata": {},
   "source": [
    "Teoricamente, se espera que la desviacion estandar de las medias sea igual a la desviacion estandar poblacional dividido por la raiz cuadrada de n=8."
   ]
  },
  {
   "cell_type": "code",
   "execution_count": 8,
   "metadata": {},
   "outputs": [
    {
     "data": {
      "text/plain": [
       "(array([ 5., 10., 11.,  9., 18., 17., 13.,  7.,  5.,  5.]),\n",
       " array([235.5   , 240.8125, 246.125 , 251.4375, 256.75  , 262.0625,\n",
       "        267.375 , 272.6875, 278.    , 283.3125, 288.625 ]),\n",
       " <a list of 10 Patch objects>)"
      ]
     },
     "execution_count": 8,
     "metadata": {},
     "output_type": "execute_result"
    },
    {
     "data": {
      "image/png": "[encoded data removed]",
      "text/plain": [
       "<Figure size 432x288 with 1 Axes>"
      ]
     },
     "metadata": {
      "needs_background": "light"
     },
     "output_type": "display_data"
    }
   ],
   "source": [
    "#Haciendo el histograma de las medias\n",
    "plt.hist(b)"
   ]
  },
  {
   "cell_type": "code",
   "execution_count": 9,
   "metadata": {},
   "outputs": [
    {
     "name": "stdout",
     "output_type": "stream",
     "text": [
      "[254.5, 267.5, 239.5, 226.5, 254.5, 267.5, 294.0, 254.5, 254.5, 287.5, 282.5, 246.0, 276.0, 267.5, 259.0, 267.5, 274.0, 226.5, 246.0, 274.0, 259.0, 282.5, 246.0, 267.5, 259.0, 246.0, 233.0, 274.0, 274.0, 267.5, 226.5, 289.0, 289.0, 289.0, 282.5, 246.0, 294.0, 276.0, 267.5, 282.5, 267.5, 220.0, 259.0, 282.5, 276.0, 299.0, 294.0, 267.5, 287.5, 276.0, 246.0, 233.0, 254.5, 259.0, 254.5, 294.0, 310.5, 239.5, 287.5, 282.5, 259.0, 294.0, 276.0, 274.0, 267.5, 261.0, 259.0, 259.0, 299.0, 276.0, 299.0, 267.5, 261.0, 282.5, 246.0, 274.0, 276.0, 289.0, 254.5, 259.0, 254.5, 299.0, 282.5, 259.0, 274.0, 254.5, 233.0, 267.5, 294.0, 246.0, 267.5, 294.0, 276.0, 254.5, 282.5, 294.0, 276.0, 282.5, 305.5, 254.5]\n"
     ]
    }
   ],
   "source": [
    "#calculando las medianas de las 100 muestras bootstrap \n",
    "b1=[np.median(np.random.choice(coles,8)) for _ in range(100)] \n",
    "print(b1)"
   ]
  },
  {
   "cell_type": "code",
   "execution_count": 10,
   "metadata": {},
   "outputs": [
    {
     "name": "stdout",
     "output_type": "stream",
     "text": [
      "268.44\n"
     ]
    }
   ],
   "source": [
    "#Calculando la media de las 100  medianas\n",
    "print(np.mean(b1))"
   ]
  },
  {
   "cell_type": "code",
   "execution_count": 11,
   "metadata": {},
   "outputs": [
    {
     "name": "stdout",
     "output_type": "stream",
     "text": [
      "19.55015306457944\n"
     ]
    }
   ],
   "source": [
    "#Calculando el error estandar de las 100 medianas\n",
    "print(np.std(b1,ddof=1))"
   ]
  },
  {
   "cell_type": "code",
   "execution_count": 12,
   "metadata": {},
   "outputs": [
    {
     "data": {
      "text/plain": [
       "(array([ 4.,  3., 10., 11., 12., 20., 19.,  7., 12.,  2.]),\n",
       " array([220.  , 229.05, 238.1 , 247.15, 256.2 , 265.25, 274.3 , 283.35,\n",
       "        292.4 , 301.45, 310.5 ]),\n",
       " <a list of 10 Patch objects>)"
      ]
     },
     "execution_count": 12,
     "metadata": {},
     "output_type": "execute_result"
    },
    {
     "data": {
      "image/png": "[encoded data removed]",
      "text/plain": [
       "<Figure size 432x288 with 1 Axes>"
      ]
     },
     "metadata": {
      "needs_background": "light"
     },
     "output_type": "display_data"
    }
   ],
   "source": [
    "plt.hist(b1)"
   ]
  },
  {
   "cell_type": "code",
   "execution_count": null,
   "metadata": {},
   "outputs": [],
   "source": []
  }
 ],
 "metadata": {
  "kernelspec": {
   "display_name": "Python 3",
   "language": "python",
   "name": "python3"
  },
  "language_info": {
   "codemirror_mode": {
    "name": "ipython",
    "version": 3
   },
   "file_extension": ".py",
   "mimetype": "text/x-python",
   "name": "python",
   "nbconvert_exporter": "python",
   "pygments_lexer": "ipython3",
   "version": "3.7.6"
  }
 },
 "nbformat": 4,
 "nbformat_minor": 2
}
