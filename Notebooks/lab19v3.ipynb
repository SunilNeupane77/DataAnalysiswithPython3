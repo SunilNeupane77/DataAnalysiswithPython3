{
 "cells": [
  {
   "cell_type": "markdown",
   "metadata": {},
   "source": [
    "### ESMA 3016\n",
    "### Lab 19: Boostrapping para estimar la distribucion de la media y mediana\n",
    "### Edgar Acuna\n",
    "#### Abril 2019"
   ]
  },
  {
   "cell_type": "code",
   "execution_count": 51,
   "metadata": {},
   "outputs": [],
   "source": [
    "import numpy as np\n",
    "import random as rd\n",
    "from scipy.stats import t\n",
    "import matplotlib.pyplot as plt"
   ]
  },
  {
   "cell_type": "code",
   "execution_count": 52,
   "metadata": {},
   "outputs": [
    {
     "data": {
      "text/plain": [
       "[15, 12, 28, 33, 45, 9, 23, 17]"
      ]
     },
     "execution_count": 52,
     "metadata": {},
     "output_type": "execute_result"
    }
   ],
   "source": [
    "# Definiendo la poblacion \n",
    "x=[9,12,23,45,17,28,15,33]\n",
    "# muestra de tamaño 8 SIN reemplazo \n",
    "rd.sample(x,8)"
   ]
  },
  {
   "cell_type": "code",
   "execution_count": 53,
   "metadata": {},
   "outputs": [
    {
     "data": {
      "text/plain": [
       "array([15, 28,  9, 17, 33, 12, 45, 23])"
      ]
     },
     "execution_count": 53,
     "metadata": {},
     "output_type": "execute_result"
    }
   ],
   "source": [
    "#Otra manera: muestra de tamaño 8 SIN reemplazo\n",
    "np.random.choice(x,8,replace=False)"
   ]
  },
  {
   "cell_type": "markdown",
   "metadata": {},
   "source": [
    "### Muestra Bootstrap"
   ]
  },
  {
   "cell_type": "code",
   "execution_count": 40,
   "metadata": {},
   "outputs": [
    {
     "data": {
      "text/plain": [
       "array([45, 12, 23, 17, 15, 23, 15,  9])"
      ]
     },
     "execution_count": 40,
     "metadata": {},
     "output_type": "execute_result"
    }
   ],
   "source": [
    "#muestra de tamaño 8 CON reemplazo\n",
    "np.random.choice(x,8)"
   ]
  },
  {
   "cell_type": "code",
   "execution_count": 42,
   "metadata": {},
   "outputs": [
    {
     "name": "stdout",
     "output_type": "stream",
     "text": [
      "[244.75, 289.5, 266.0, 252.0, 253.25, 254.25, 265.25, 243.625, 270.5, 277.125, 276.625, 271.5, 287.0, 262.875, 294.375, 269.875, 262.125, 250.75, 284.5, 255.875, 281.75, 265.125, 256.25, 268.375, 261.25, 252.75, 259.875, 264.125, 276.0, 284.5, 276.625, 279.0, 276.875, 272.5, 229.375, 260.125, 287.375, 261.375, 248.375, 276.5, 262.0, 259.75, 270.875, 271.375, 254.5, 256.25, 245.0, 267.0, 240.875, 281.0, 239.25, 280.375, 267.875, 252.375, 271.75, 267.625, 251.875, 266.875, 240.875, 263.125, 269.625, 255.625, 243.0, 258.0, 279.75, 252.0, 253.0, 298.125, 263.875, 243.625, 270.5, 263.5, 280.25, 274.5, 273.25, 263.875, 251.875, 249.0, 281.625, 249.375, 263.75, 262.0, 265.5, 288.125, 265.625, 269.25, 274.875, 296.875, 265.25, 254.875, 254.5, 257.5, 263.875, 258.5, 270.0, 275.125, 263.375, 284.125, 257.25, 270.25]\n"
     ]
    }
   ],
   "source": [
    "#Obteniendo las medias de 100 muestras bootstrap de los datos coles\n",
    "coles=[233, 259, 215, 322, 289, 220, 276,299] \n",
    "b=[np.random.choice(coles,8).mean() for _ in range(100)] \n",
    "print(b)"
   ]
  },
  {
   "cell_type": "code",
   "execution_count": 43,
   "metadata": {},
   "outputs": [
    {
     "name": "stdout",
     "output_type": "stream",
     "text": [
      "265.155\n"
     ]
    }
   ],
   "source": [
    "#calculando la media de las medias de las 100 muestras bootstrap\n",
    "print(np.mean(b))"
   ]
  },
  {
   "cell_type": "markdown",
   "metadata": {},
   "source": [
    "Teoricamente, se espera que  la media poblacional sea 265.155"
   ]
  },
  {
   "cell_type": "code",
   "execution_count": 44,
   "metadata": {},
   "outputs": [
    {
     "name": "stdout",
     "output_type": "stream",
     "text": [
      "13.556712154665098\n"
     ]
    }
   ],
   "source": [
    "#calculando la desviacion estandar de las medias de las 100 muestras bootstrap\n",
    "print(np.std(b,ddof=1))"
   ]
  },
  {
   "cell_type": "markdown",
   "metadata": {},
   "source": [
    "Teoricamente, se espera que la desviacion estandar de las medias sea igual a la desviacion estandar poblacional dividido por la raiz cuadrada de n=8."
   ]
  },
  {
   "cell_type": "code",
   "execution_count": 49,
   "metadata": {},
   "outputs": [
    {
     "data": {
      "text/plain": [
       "(array([ 1.,  4.,  7., 17., 16., 23., 15.,  8.,  6.,  3.]),\n",
       " array([229.375, 236.25 , 243.125, 250.   , 256.875, 263.75 , 270.625,\n",
       "        277.5  , 284.375, 291.25 , 298.125]),\n",
       " <a list of 10 Patch objects>)"
      ]
     },
     "execution_count": 49,
     "metadata": {},
     "output_type": "execute_result"
    },
    {
     "data": {
      "image/png": "[encoded data removed]",
      "text/plain": [
       "<Figure size 432x288 with 1 Axes>"
      ]
     },
     "metadata": {
      "needs_background": "light"
     },
     "output_type": "display_data"
    }
   ],
   "source": [
    "#Haciendo el histograma de las medias\n",
    "plt.hist(b)"
   ]
  },
  {
   "cell_type": "code",
   "execution_count": 46,
   "metadata": {},
   "outputs": [
    {
     "name": "stdout",
     "output_type": "stream",
     "text": [
      "[259.0, 254.5, 246.0, 276.0, 259.0, 276.0, 294.0, 254.5, 294.0, 267.5, 239.5, 259.0, 246.0, 274.0, 294.0, 276.0, 259.0, 259.0, 279.0, 259.0, 259.0, 254.5, 276.0, 289.0, 233.0, 259.0, 246.0, 239.5, 274.0, 239.5, 294.0, 233.0, 246.0, 233.0, 299.0, 233.0, 246.0, 267.5, 267.5, 259.0, 294.0, 287.5, 276.0, 294.0, 267.5, 299.0, 239.5, 274.0, 246.0, 282.5, 259.0, 261.0, 246.0, 239.5, 246.0, 274.0, 287.5, 220.0, 282.5, 282.5, 289.0, 276.0, 276.0, 267.5, 274.0, 294.0, 282.5, 276.0, 233.0, 259.0, 299.0, 282.5, 233.0, 289.0, 259.0, 267.5, 267.5, 233.0, 299.0, 282.5, 289.0, 259.0, 226.5, 294.0, 299.0, 282.5, 254.5, 289.0, 261.0, 226.5, 246.0, 276.0, 226.5, 226.5, 267.5, 259.0, 294.0, 267.5, 259.0, 267.5]\n"
     ]
    }
   ],
   "source": [
    "#calculando las medianas de las 100 muestras bootstrap \n",
    "b1=[np.median(np.random.choice(coles,8)) for _ in range(100)] \n",
    "print(b1)"
   ]
  },
  {
   "cell_type": "code",
   "execution_count": 50,
   "metadata": {},
   "outputs": [
    {
     "name": "stdout",
     "output_type": "stream",
     "text": [
      "265.4\n"
     ]
    }
   ],
   "source": [
    "#Calculando la media de las 100  medianas\n",
    "print(np.mean(b1))"
   ]
  },
  {
   "cell_type": "code",
   "execution_count": 48,
   "metadata": {},
   "outputs": [
    {
     "name": "stdout",
     "output_type": "stream",
     "text": [
      "21.023555812228793\n"
     ]
    }
   ],
   "source": [
    "#Calculando el error estandar de las 100 medianas\n",
    "print(np.std(b1,ddof=1))"
   ]
  },
  {
   "cell_type": "code",
   "execution_count": 36,
   "metadata": {},
   "outputs": [
    {
     "data": {
      "text/plain": [
       "(array([ 5.,  6.,  0., 17., 15.,  2., 15., 24., 11.,  5.]),\n",
       " array([220. , 227.9, 235.8, 243.7, 251.6, 259.5, 267.4, 275.3, 283.2,\n",
       "        291.1, 299. ]),\n",
       " <a list of 10 Patch objects>)"
      ]
     },
     "execution_count": 36,
     "metadata": {},
     "output_type": "execute_result"
    },
    {
     "data": {
      "image/png": "[encoded data removed]",
      "text/plain": [
       "<Figure size 432x288 with 1 Axes>"
      ]
     },
     "metadata": {
      "needs_background": "light"
     },
     "output_type": "display_data"
    }
   ],
   "source": [
    "plt.hist(b1)"
   ]
  },
  {
   "cell_type": "code",
   "execution_count": null,
   "metadata": {},
   "outputs": [],
   "source": []
  }
 ],
 "metadata": {
  "kernelspec": {
   "display_name": "Python 3",
   "language": "python",
   "name": "python3"
  },
  "language_info": {
   "codemirror_mode": {
    "name": "ipython",
    "version": 3
   },
   "file_extension": ".py",
   "mimetype": "text/x-python",
   "name": "python",
   "nbconvert_exporter": "python",
   "pygments_lexer": "ipython3",
   "version": "3.5.5"
  }
 },
 "nbformat": 4,
 "nbformat_minor": 2
}
