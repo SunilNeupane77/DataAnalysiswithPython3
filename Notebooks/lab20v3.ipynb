{
 "cells": [
  {
   "cell_type": "markdown",
   "metadata": {},
   "source": [
    "### ESMA 3016\n",
    "### Edgar Acuna\n",
    "### Lab20: Inferencia para la media de una poblacion Normal (varianza conocida)\n",
    "### Octubre 2020"
   ]
  },
  {
   "cell_type": "code",
   "execution_count": 1,
   "metadata": {},
   "outputs": [],
   "source": [
    "from scipy.stats  import norm,t\n",
    "import numpy as np\n",
    "import matplotlib.pyplot as plt\n",
    "from math import sqrt,factorial,pi\n",
    "%matplotlib inline"
   ]
  },
  {
   "cell_type": "code",
   "execution_count": 2,
   "metadata": {
    "scrolled": false
   },
   "outputs": [],
   "source": [
    "#Intervalo de confianza para la media\n",
    "#Ejemplo: Intervalo de confianza para la media poblacional del colesterol de todos\n",
    "# los pacientes con problemas cardiacos asumiendo que su distribucion es  normal\n",
    "#La varianza (o desviacion estandar) debe ser conocida. En este caso se asume que \n",
    "#la desviacion estandar (sigma) es 13. Se usa la muestra de 20 pacientes\n",
    "colest=[217,223,225,245,238,216,217,226,202,233,235,242,219,221,234,199,236,248,218,224] "
   ]
  },
  {
   "cell_type": "code",
   "execution_count": 3,
   "metadata": {},
   "outputs": [],
   "source": [
    "# Esta es una funcion que hace el intervalo de confianza\n",
    "def IC_media(data, sigma, confianza=0.95):\n",
    "    a = 1.0*np.array(data)\n",
    "    n = len(a)\n",
    "    m, se = np.mean(a), sigma/sqrt(n)\n",
    "    h = se * norm.ppf((1+confianza)/2)\n",
    "    print(\"El intervalo de confianza es:\", m-h, m+h)\n",
    "    return"
   ]
  },
  {
   "cell_type": "code",
   "execution_count": 4,
   "metadata": {},
   "outputs": [
    {
     "name": "stdout",
     "output_type": "stream",
     "text": [
      "El intervalo de confianza es: 221.11859412022926 230.68140587977075\n"
     ]
    }
   ],
   "source": [
    "IC_media(colest,13,.90)"
   ]
  },
  {
   "cell_type": "code",
   "execution_count": 5,
   "metadata": {},
   "outputs": [
    {
     "data": {
      "text/plain": [
       "(221.11859412022926, 230.68140587977075)"
      ]
     },
     "execution_count": 5,
     "metadata": {},
     "output_type": "execute_result"
    }
   ],
   "source": [
    "#Hallando el IC usando el comando norm.interval\n",
    "norm.interval(.90,loc=np.mean(colest),scale=13/sqrt(20))"
   ]
  },
  {
   "cell_type": "code",
   "execution_count": 8,
   "metadata": {},
   "outputs": [],
   "source": [
    "# Haciendo una funcion que halle p-value de la prueba estadistica de Z\n",
    "def ztest(data,mu_0,sigma,alternativa=\"no igual a\"):\n",
    "    #Esta funcion calcula el p-value de la prueba z\n",
    "    a = 1.0*np.array(data)\n",
    "    n = len(a)\n",
    "    m, se = np.mean(a), sigma/sqrt(n)\n",
    "    print (\"media\",m)\n",
    "    test=(m-mu_0)/se\n",
    "    if alternativa==\"mayor que\":\n",
    "        p_value=1-norm.cdf(test)\n",
    "    elif alternativa==\"menor que\":\n",
    "        p_value=norm.cdf(test)\n",
    "    else:\n",
    "        p_value=2*(1-norm.cdf(abs(test)))\n",
    "    print ( \"El p-value es:\", p_value)    \n",
    "    return"
   ]
  },
  {
   "cell_type": "markdown",
   "metadata": {},
   "source": [
    "### Probando la hipotesis nula $H_o: \\mu=220$ versus $H_a: \\mu>220$."
   ]
  },
  {
   "cell_type": "code",
   "execution_count": 9,
   "metadata": {},
   "outputs": [
    {
     "name": "stdout",
     "output_type": "stream",
     "text": [
      "media 225.9\n",
      "El p-value es: 0.021195469138496348\n"
     ]
    }
   ],
   "source": [
    "ztest(colest,220,13,alternativa=\"mayor que\")"
   ]
  },
  {
   "cell_type": "markdown",
   "metadata": {},
   "source": [
    "#### Conclusion: Como el P-value es menor que .05 se rechaza la hipotesis nula y se concluye que elcolesterol promedio de todas las personas con problemas cardiacos es mayor que 220 "
   ]
  },
  {
   "cell_type": "markdown",
   "metadata": {},
   "source": [
    "### Probando la hipotesis nula $H_o: \\mu=220$ versus $H_a: \\mu\\neq 220$."
   ]
  },
  {
   "cell_type": "code",
   "execution_count": 10,
   "metadata": {},
   "outputs": [
    {
     "name": "stdout",
     "output_type": "stream",
     "text": [
      "media 225.9\n",
      "El p-value es: 0.042390938276992696\n"
     ]
    }
   ],
   "source": [
    "ztest(colest,220,13)"
   ]
  },
  {
   "cell_type": "markdown",
   "metadata": {
    "collapsed": true
   },
   "source": [
    "#### Conclusion: Se rechaza la hipotesis nula"
   ]
  },
  {
   "cell_type": "code",
   "execution_count": null,
   "metadata": {},
   "outputs": [],
   "source": []
  }
 ],
 "metadata": {
  "kernelspec": {
   "display_name": "Python 3",
   "language": "python",
   "name": "python3"
  },
  "language_info": {
   "codemirror_mode": {
    "name": "ipython",
    "version": 3
   },
   "file_extension": ".py",
   "mimetype": "text/x-python",
   "name": "python",
   "nbconvert_exporter": "python",
   "pygments_lexer": "ipython3",
   "version": "3.7.6"
  }
 },
 "nbformat": 4,
 "nbformat_minor": 2
}
