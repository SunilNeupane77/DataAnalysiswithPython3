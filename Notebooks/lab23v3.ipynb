{
 "cells": [
  {
   "cell_type": "markdown",
   "metadata": {
    "slideshow": {
     "slide_type": "slide"
    }
   },
   "source": [
    "### ESMA 3016\n",
    "### Edgar Acuna\n",
    "### Lab23: Comparando la Varianza y la media de dos poblaciones (varianzas iguales)"
   ]
  },
  {
   "cell_type": "code",
   "execution_count": 1,
   "metadata": {
    "slideshow": {
     "slide_type": "slide"
    }
   },
   "outputs": [],
   "source": [
    "import numpy as np\n",
    "from math import sqrt\n",
    "import pandas as pd \n",
    "from scipy import stats\n",
    "from scipy.stats import f \n",
    "import statsmodels.api as sm\n",
    "import statsmodels.stats.api as sms\n",
    "import matplotlib.pyplot as plt\n",
    "%matplotlib inline"
   ]
  },
  {
   "cell_type": "code",
   "execution_count": 2,
   "metadata": {
    "slideshow": {
     "slide_type": "slide"
    }
   },
   "outputs": [],
   "source": [
    "#Comparacion de la varianza de las notas de varones y mujeres\n",
    "#Primera manera de entrar los datos \n",
    "notas=[50,75,80,68,95,84,78,87,56,61,75,89,80,70,83]\n",
    "genero=['f','f','f','f','f','f','f','f','m','m','m','m','m','m','m']\n",
    "#a=pd.DataFrame({'notas' : notas,'genero' : genero},columns=['notas', 'genero'])\n",
    "a=pd.DataFrame({'notas' : notas,'genero' : genero})"
   ]
  },
  {
   "cell_type": "code",
   "execution_count": 3,
   "metadata": {
    "slideshow": {
     "slide_type": "slide"
    }
   },
   "outputs": [
    {
     "data": {
      "text/html": [
       "<div>\n",
       "<style scoped>\n",
       "    .dataframe tbody tr th:only-of-type {\n",
       "        vertical-align: middle;\n",
       "    }\n",
       "\n",
       "    .dataframe tbody tr th {\n",
       "        vertical-align: top;\n",
       "    }\n",
       "\n",
       "    .dataframe thead th {\n",
       "        text-align: right;\n",
       "    }\n",
       "</style>\n",
       "<table border=\"1\" class=\"dataframe\">\n",
       "  <thead>\n",
       "    <tr style=\"text-align: right;\">\n",
       "      <th></th>\n",
       "      <th>genero</th>\n",
       "      <th>notas</th>\n",
       "    </tr>\n",
       "  </thead>\n",
       "  <tbody>\n",
       "    <tr>\n",
       "      <th>0</th>\n",
       "      <td>f</td>\n",
       "      <td>50</td>\n",
       "    </tr>\n",
       "    <tr>\n",
       "      <th>1</th>\n",
       "      <td>f</td>\n",
       "      <td>75</td>\n",
       "    </tr>\n",
       "    <tr>\n",
       "      <th>2</th>\n",
       "      <td>f</td>\n",
       "      <td>80</td>\n",
       "    </tr>\n",
       "    <tr>\n",
       "      <th>3</th>\n",
       "      <td>f</td>\n",
       "      <td>68</td>\n",
       "    </tr>\n",
       "    <tr>\n",
       "      <th>4</th>\n",
       "      <td>f</td>\n",
       "      <td>95</td>\n",
       "    </tr>\n",
       "    <tr>\n",
       "      <th>5</th>\n",
       "      <td>f</td>\n",
       "      <td>84</td>\n",
       "    </tr>\n",
       "    <tr>\n",
       "      <th>6</th>\n",
       "      <td>f</td>\n",
       "      <td>78</td>\n",
       "    </tr>\n",
       "    <tr>\n",
       "      <th>7</th>\n",
       "      <td>f</td>\n",
       "      <td>87</td>\n",
       "    </tr>\n",
       "    <tr>\n",
       "      <th>8</th>\n",
       "      <td>m</td>\n",
       "      <td>56</td>\n",
       "    </tr>\n",
       "    <tr>\n",
       "      <th>9</th>\n",
       "      <td>m</td>\n",
       "      <td>61</td>\n",
       "    </tr>\n",
       "    <tr>\n",
       "      <th>10</th>\n",
       "      <td>m</td>\n",
       "      <td>75</td>\n",
       "    </tr>\n",
       "    <tr>\n",
       "      <th>11</th>\n",
       "      <td>m</td>\n",
       "      <td>89</td>\n",
       "    </tr>\n",
       "    <tr>\n",
       "      <th>12</th>\n",
       "      <td>m</td>\n",
       "      <td>80</td>\n",
       "    </tr>\n",
       "    <tr>\n",
       "      <th>13</th>\n",
       "      <td>m</td>\n",
       "      <td>70</td>\n",
       "    </tr>\n",
       "    <tr>\n",
       "      <th>14</th>\n",
       "      <td>m</td>\n",
       "      <td>83</td>\n",
       "    </tr>\n",
       "  </tbody>\n",
       "</table>\n",
       "</div>"
      ],
      "text/plain": [
       "   genero  notas\n",
       "0       f     50\n",
       "1       f     75\n",
       "2       f     80\n",
       "3       f     68\n",
       "4       f     95\n",
       "5       f     84\n",
       "6       f     78\n",
       "7       f     87\n",
       "8       m     56\n",
       "9       m     61\n",
       "10      m     75\n",
       "11      m     89\n",
       "12      m     80\n",
       "13      m     70\n",
       "14      m     83"
      ]
     },
     "execution_count": 3,
     "metadata": {},
     "output_type": "execute_result"
    }
   ],
   "source": [
    "a"
   ]
  },
  {
   "cell_type": "code",
   "execution_count": 4,
   "metadata": {},
   "outputs": [
    {
     "ename": "SyntaxError",
     "evalue": "invalid syntax (<ipython-input-4-88ebbedeac15>, line 1)",
     "output_type": "error",
     "traceback": [
      "\u001b[1;36m  File \u001b[1;32m\"<ipython-input-4-88ebbedeac15>\"\u001b[1;36m, line \u001b[1;32m1\u001b[0m\n\u001b[1;33m    print type(a)\u001b[0m\n\u001b[1;37m             ^\u001b[0m\n\u001b[1;31mSyntaxError\u001b[0m\u001b[1;31m:\u001b[0m invalid syntax\n"
     ]
    }
   ],
   "source": [
    "print type(a)"
   ]
  },
  {
   "cell_type": "code",
   "execution_count": null,
   "metadata": {
    "slideshow": {
     "slide_type": "slide"
    }
   },
   "outputs": [],
   "source": [
    "a.boxplot(column='notas',by='genero')"
   ]
  },
  {
   "cell_type": "markdown",
   "metadata": {
    "slideshow": {
     "slide_type": "slide"
    }
   },
   "source": [
    "## Calculos con la distribucion F"
   ]
  },
  {
   "cell_type": "code",
   "execution_count": null,
   "metadata": {
    "slideshow": {
     "slide_type": "slide"
    }
   },
   "outputs": [],
   "source": [
    "# Calculo de la pdf de una F con 8 grados de libertad en el numerador y 10 gl en el denominador en el punto x=3\n",
    "f.pdf(3,8,10)"
   ]
  },
  {
   "cell_type": "code",
   "execution_count": null,
   "metadata": {},
   "outputs": [],
   "source": [
    "plt.figure(figsize=(8,8))\n",
    "x=np.arange(0,4.5,.1)\n",
    "plt.plot(x, f.pdf(x,8,10), 'k-', lw=1, label=' Curva F con 8 gl en  numerador y 10 gl en  denominador',color='r')\n",
    "plt.fill_between(x, y1= f.pdf(x,8,10),facecolor='red',alpha=0.35)\n",
    "plt.legend(loc='best', frameon=False)"
   ]
  },
  {
   "cell_type": "code",
   "execution_count": null,
   "metadata": {
    "slideshow": {
     "slide_type": "slide"
    }
   },
   "outputs": [],
   "source": [
    "# calculo de la probabilidad de una F(8,10) hasta x=3\n",
    "f.cdf(3,8,10)"
   ]
  },
  {
   "cell_type": "code",
   "execution_count": null,
   "metadata": {},
   "outputs": [],
   "source": [
    "plt.fill_between(x=np.arange(0,3,0.01), y1= f.pdf(np.arange(0,3,0.01),8,10),facecolor='red',alpha=0.35,label='Probabilidad')\n",
    "plt.fill_between(x=np.arange(3,4,0.01), y1= f.pdf(np.arange(3,4,0.01),8,10),facecolor='blue',alpha=0.35)\n",
    "plt.legend(loc='best', frameon=False)"
   ]
  },
  {
   "cell_type": "code",
   "execution_count": null,
   "metadata": {
    "slideshow": {
     "slide_type": "slide"
    }
   },
   "outputs": [],
   "source": [
    "#Calculo del percentil del 90% de  una F(8,10)\n",
    "f.ppf(.90,8,10)"
   ]
  },
  {
   "cell_type": "code",
   "execution_count": null,
   "metadata": {
    "slideshow": {
     "slide_type": "slide"
    }
   },
   "outputs": [],
   "source": [
    "#Simulando 10,000 valores de una F(8,10)\n",
    "fsim=f.rvs(8,10,size=10000)"
   ]
  },
  {
   "cell_type": "code",
   "execution_count": null,
   "metadata": {
    "slideshow": {
     "slide_type": "slide"
    }
   },
   "outputs": [],
   "source": [
    "#Estimando la media de una F con 8 gl en el numerador y 10 en el denominador \n",
    "np.mean(fsim)"
   ]
  },
  {
   "cell_type": "markdown",
   "metadata": {
    "slideshow": {
     "slide_type": "subslide"
    }
   },
   "source": [
    "#### El valor exacto de la media es 10/(10-2)= 1.25"
   ]
  },
  {
   "cell_type": "markdown",
   "metadata": {
    "slideshow": {
     "slide_type": "slide"
    }
   },
   "source": [
    "## Comparacion de la varianza de las notas de varones y mujeres"
   ]
  },
  {
   "cell_type": "code",
   "execution_count": null,
   "metadata": {
    "slideshow": {
     "slide_type": "slide"
    }
   },
   "outputs": [],
   "source": [
    "#Segunda manera de entrar los datos \n",
    "mujeres=[50,75,80,68,95,84,78,87]\n",
    "varones=[56,61,75,89,80,70,83]"
   ]
  },
  {
   "cell_type": "code",
   "execution_count": null,
   "metadata": {
    "slideshow": {
     "slide_type": "slide"
    }
   },
   "outputs": [],
   "source": [
    "#Haciendo una funcion que halle p-value de la prueba estadistica de F\n",
    "#para probar igualdad de varianza de dos grupos\n",
    "def Ftest(grupo1,grupo2):\n",
    "    #Esta funcion calcula el p-value de la prueba F\n",
    "    a1 = 1.0*np.array(grupo1)\n",
    "    n1 = len(a1)\n",
    "    a2 = 1.0*np.array(grupo2)\n",
    "    n2 = len(a2)\n",
    "    s1, s2 = np.std(a1,ddof=1), np.std(a2,ddof=1)\n",
    "    test=(s1/s2)**2\n",
    "    p_value=2*min(f.cdf(test,n1-1,n2-1),1-f.cdf(test,n1-1,n2-1))\n",
    "    print \"La prueba de F es:\",test,\"El p-value es:\", p_value    \n",
    "    return"
   ]
  },
  {
   "cell_type": "markdown",
   "metadata": {
    "slideshow": {
     "slide_type": "slide"
    }
   },
   "source": [
    "### Comparando las varianzas\n",
    "#### $H_o: \\sigma_1^2=\\sigma_2^2$  \n",
    "#### $H_a: \\sigma_1^2\\neq\\sigma_2^2$\n",
    "\n",
    "#### Prueba Estadistica:\n",
    "## $$F=\\frac{s{_1}^2}{s{_2}^2}$$"
   ]
  },
  {
   "cell_type": "code",
   "execution_count": null,
   "metadata": {
    "slideshow": {
     "slide_type": "slide"
    }
   },
   "outputs": [],
   "source": [
    "Ftest(mujeres,varones)"
   ]
  },
  {
   "cell_type": "markdown",
   "metadata": {
    "slideshow": {
     "slide_type": "subslide"
    }
   },
   "source": [
    "#### Conclusion: como el Pvalue es 0.75 mucho mayor que .05 No se rechaza la hipotesis Nula y se conluye \n",
    "#### que no hay suficente evidencia estadistica para concluir que las varianzas de las notas de las mujeres y varones sea\n",
    "#### distinta"
   ]
  },
  {
   "cell_type": "code",
   "execution_count": null,
   "metadata": {
    "slideshow": {
     "slide_type": "slide"
    }
   },
   "outputs": [],
   "source": [
    "#Extrayendo los dos grupos de un dataframe\n",
    "grupo1=a.query('genero==\"f\"')['notas']\n",
    "grupo2=a.query('genero==\"m\"')['notas']"
   ]
  },
  {
   "cell_type": "code",
   "execution_count": null,
   "metadata": {
    "scrolled": true,
    "slideshow": {
     "slide_type": "slide"
    }
   },
   "outputs": [],
   "source": [
    "#Prueba de F para igualdad de varianza si los datos viene de \n",
    "#la anterior manera\n",
    "Ftest(grupo1,grupo2)"
   ]
  },
  {
   "cell_type": "markdown",
   "metadata": {},
   "source": [
    "### Ejemplo para comparar los scores de hombres y mujeres en aprovechamiento matematico"
   ]
  },
  {
   "cell_type": "markdown",
   "metadata": {},
   "source": [
    "### Ejemplo para comparar los scores en aprovechamiento matematico de estudiante de escueal publica y privada"
   ]
  },
  {
   "cell_type": "code",
   "execution_count": null,
   "metadata": {
    "slideshow": {
     "slide_type": "slide"
    }
   },
   "outputs": [],
   "source": [
    "#leyendo los datos aprovech.csv de la internet\n",
    "aprovech=pd.read_csv(\"http://academic.uprm.edu/eacuna/aprovech.csv\",sep=\",\")"
   ]
  },
  {
   "cell_type": "code",
   "execution_count": null,
   "metadata": {
    "slideshow": {
     "slide_type": "slide"
    }
   },
   "outputs": [],
   "source": [
    "aprovech"
   ]
  },
  {
   "cell_type": "code",
   "execution_count": null,
   "metadata": {},
   "outputs": [],
   "source": [
    "print type(aprovech)"
   ]
  },
  {
   "cell_type": "code",
   "execution_count": null,
   "metadata": {
    "slideshow": {
     "slide_type": "slide"
    }
   },
   "outputs": [],
   "source": [
    "#Extrayendo los dos grupos\n",
    "grupo1=aprovech.query('Escuela==\"privada\"')['Aprovech']\n",
    "grupo2=aprovech.query('Escuela==\"publica\"')['Aprovech']"
   ]
  },
  {
   "cell_type": "code",
   "execution_count": null,
   "metadata": {
    "slideshow": {
     "slide_type": "skip"
    }
   },
   "outputs": [],
   "source": [
    "grupo1.var()"
   ]
  },
  {
   "cell_type": "code",
   "execution_count": null,
   "metadata": {
    "slideshow": {
     "slide_type": "skip"
    }
   },
   "outputs": [],
   "source": [
    "grupo2.var()"
   ]
  },
  {
   "cell_type": "code",
   "execution_count": null,
   "metadata": {
    "slideshow": {
     "slide_type": "skip"
    }
   },
   "outputs": [],
   "source": [
    "grupo1.mean()"
   ]
  },
  {
   "cell_type": "markdown",
   "metadata": {
    "slideshow": {
     "slide_type": "slide"
    }
   },
   "source": [
    "## Haciendo la prueba de igualdad de varianzas\n",
    "#### $H_o: \\sigma_1^2=\\sigma_2^2$  \n",
    "#### $H_a: \\sigma_1^2\\neq\\sigma_2^2$"
   ]
  },
  {
   "cell_type": "code",
   "execution_count": null,
   "metadata": {
    "slideshow": {
     "slide_type": "slide"
    }
   },
   "outputs": [],
   "source": [
    "Ftest(grupo1,grupo2)"
   ]
  },
  {
   "cell_type": "markdown",
   "metadata": {
    "slideshow": {
     "slide_type": "fragment"
    }
   },
   "source": [
    "#### Conclusion: como el p-value es .6009 mayor que .5 NO se rechaza la hipotesi nula y se\n",
    "#### concluye que NO hay sificiente estadistica para apoyar que las varianzas del aprovechamiento\n",
    "#### matematico de hombres y mujeres son distintas"
   ]
  },
  {
   "cell_type": "code",
   "execution_count": null,
   "metadata": {
    "slideshow": {
     "slide_type": "slide"
    }
   },
   "outputs": [],
   "source": [
    "#Comparando lso dos grupos usando boxplots\n",
    "aprovech.boxplot(column='Aprovech',by='Escuela')"
   ]
  },
  {
   "cell_type": "markdown",
   "metadata": {
    "slideshow": {
     "slide_type": "slide"
    }
   },
   "source": [
    "### Probando igualdad de dos medias asumiendo igual varianza\n",
    "#### $H_o: \\mu_1=\\mu_2$  \n",
    "#### $H_a: \\mu_1\\neq\\mu_2$"
   ]
  },
  {
   "cell_type": "code",
   "execution_count": null,
   "metadata": {
    "slideshow": {
     "slide_type": "fragment"
    }
   },
   "outputs": [],
   "source": [
    "stats.ttest_ind(grupo1, grupo2, equal_var = True)"
   ]
  },
  {
   "cell_type": "markdown",
   "metadata": {
    "slideshow": {
     "slide_type": "fragment"
    }
   },
   "source": [
    "#### El p-value de la prueba de T es .206 mayor que .05 No se rechaza la Hipotesis nula"
   ]
  },
  {
   "cell_type": "markdown",
   "metadata": {
    "slideshow": {
     "slide_type": "fragment"
    }
   },
   "source": [
    "### La funcion stats.ttest_ind solo hace prueba hipotesis de dos lados"
   ]
  },
  {
   "cell_type": "code",
   "execution_count": null,
   "metadata": {
    "slideshow": {
     "slide_type": "fragment"
    }
   },
   "outputs": [],
   "source": []
  }
 ],
 "metadata": {
  "celltoolbar": "Slideshow",
  "kernelspec": {
   "display_name": "Python 3",
   "language": "python",
   "name": "python3"
  },
  "language_info": {
   "codemirror_mode": {
    "name": "ipython",
    "version": 3
   },
   "file_extension": ".py",
   "mimetype": "text/x-python",
   "name": "python",
   "nbconvert_exporter": "python",
   "pygments_lexer": "ipython3",
   "version": "3.5.5"
  }
 },
 "nbformat": 4,
 "nbformat_minor": 2
}
