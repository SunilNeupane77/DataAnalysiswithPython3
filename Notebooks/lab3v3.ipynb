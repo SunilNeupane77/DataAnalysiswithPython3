{
 "cells": [
  {
   "cell_type": "markdown",
   "metadata": {},
   "source": [
    "# Esma 3016\n",
    "## Edgar Acuna\n",
    "### Agosto 2019\n",
    "\n",
    "### Lab 3: Organizacion y presentacion de datos cuantitativos continuos.\n",
    "\n",
    "#### Usaremos el modulo numpy, el modulo pandas, que se usa para hacer analisis estadistico basico y el modulo matplotlib que se usa para hacer la tabla de frecuencias y las graficas."
   ]
  },
  {
   "cell_type": "code",
   "execution_count": 1,
   "metadata": {},
   "outputs": [],
   "source": [
    "import numpy as np\n",
    "import pandas as pd"
   ]
  },
  {
   "cell_type": "code",
   "execution_count": 2,
   "metadata": {},
   "outputs": [],
   "source": [
    "import matplotlib.pyplot as plt\n",
    "%matplotlib inline"
   ]
  },
  {
   "cell_type": "code",
   "execution_count": 3,
   "metadata": {},
   "outputs": [
    {
     "data": {
      "text/html": [
       "<div>\n",
       "<style scoped>\n",
       "    .dataframe tbody tr th:only-of-type {\n",
       "        vertical-align: middle;\n",
       "    }\n",
       "\n",
       "    .dataframe tbody tr th {\n",
       "        vertical-align: top;\n",
       "    }\n",
       "\n",
       "    .dataframe thead th {\n",
       "        text-align: right;\n",
       "    }\n",
       "</style>\n",
       "<table border=\"1\" class=\"dataframe\">\n",
       "  <thead>\n",
       "    <tr style=\"text-align: right;\">\n",
       "      <th></th>\n",
       "      <th>edad</th>\n",
       "      <th>sexo</th>\n",
       "      <th>escuela</th>\n",
       "      <th>programa</th>\n",
       "      <th>creditos</th>\n",
       "      <th>gpa</th>\n",
       "      <th>familia</th>\n",
       "      <th>hestud</th>\n",
       "      <th>htv</th>\n",
       "    </tr>\n",
       "  </thead>\n",
       "  <tbody>\n",
       "    <tr>\n",
       "      <th>0</th>\n",
       "      <td>21</td>\n",
       "      <td>f</td>\n",
       "      <td>publ</td>\n",
       "      <td>biol</td>\n",
       "      <td>119</td>\n",
       "      <td>3.60</td>\n",
       "      <td>3</td>\n",
       "      <td>35</td>\n",
       "      <td>10</td>\n",
       "    </tr>\n",
       "    <tr>\n",
       "      <th>1</th>\n",
       "      <td>18</td>\n",
       "      <td>f</td>\n",
       "      <td>priv</td>\n",
       "      <td>mbio</td>\n",
       "      <td>15</td>\n",
       "      <td>3.60</td>\n",
       "      <td>3</td>\n",
       "      <td>30</td>\n",
       "      <td>10</td>\n",
       "    </tr>\n",
       "    <tr>\n",
       "      <th>2</th>\n",
       "      <td>19</td>\n",
       "      <td>f</td>\n",
       "      <td>priv</td>\n",
       "      <td>biot</td>\n",
       "      <td>73</td>\n",
       "      <td>3.61</td>\n",
       "      <td>5</td>\n",
       "      <td>5</td>\n",
       "      <td>7</td>\n",
       "    </tr>\n",
       "    <tr>\n",
       "      <th>3</th>\n",
       "      <td>20</td>\n",
       "      <td>f</td>\n",
       "      <td>priv</td>\n",
       "      <td>mbio</td>\n",
       "      <td>*</td>\n",
       "      <td>2.38</td>\n",
       "      <td>3</td>\n",
       "      <td>14</td>\n",
       "      <td>3</td>\n",
       "    </tr>\n",
       "    <tr>\n",
       "      <th>4</th>\n",
       "      <td>21</td>\n",
       "      <td>m</td>\n",
       "      <td>publ</td>\n",
       "      <td>pmed</td>\n",
       "      <td>114</td>\n",
       "      <td>3.15</td>\n",
       "      <td>2</td>\n",
       "      <td>25</td>\n",
       "      <td>25</td>\n",
       "    </tr>\n",
       "  </tbody>\n",
       "</table>\n",
       "</div>"
      ],
      "text/plain": [
       "   edad sexo escuela programa creditos   gpa  familia  hestud  htv\n",
       "0    21    f    publ     biol      119  3.60        3      35   10\n",
       "1    18    f    priv     mbio       15  3.60        3      30   10\n",
       "2    19    f    priv     biot       73  3.61        5       5    7\n",
       "3    20    f    priv     mbio        *  2.38        3      14    3\n",
       "4    21    m    publ     pmed      114  3.15        2      25   25"
      ]
     },
     "execution_count": 3,
     "metadata": {},
     "output_type": "execute_result"
    }
   ],
   "source": [
    "#Leyendo datos de la internet, las columnas tienen nombres\n",
    "datos=pd.read_csv(\"http://academic.uprm.edu/eacuna/clase97.txt\",sep=\" \")\n",
    "#Viendo las seis primera fila de la tabla de datos\n",
    "datos.head()"
   ]
  },
  {
   "cell_type": "code",
   "execution_count": 4,
   "metadata": {},
   "outputs": [
    {
     "data": {
      "text/plain": [
       "(array([2, 2, 1, 3, 1, 6, 2, 3, 7, 1], dtype=int64),\n",
       " array([2.15 , 2.321, 2.492, 2.663, 2.834, 3.005, 3.176, 3.347, 3.518,\n",
       "        3.689, 3.86 ]))"
      ]
     },
     "execution_count": 4,
     "metadata": {},
     "output_type": "execute_result"
    }
   ],
   "source": [
    "#Este en un primer intento de hacer la tabla de frecuencias\n",
    "#para datos agrupados usando numpy solamente\n",
    "#Este comando encuentra las frecuencias absolutas\n",
    "#y los puntos del corte en forma automatica usando numpy\n",
    "conteo, cortes=np.histogram(datos['gpa'])\n",
    "#Aqui se muestran las frecuencias absolutas de los intervalos y los puntos de cortes respectivos\n",
    "conteo, cortes"
   ]
  },
  {
   "cell_type": "markdown",
   "metadata": {},
   "source": [
    "#### Comentario: Demasiados intervalos,10, para tan solo 28 datos en lo que sigue vamos a construir una tabla de frecuencias con 5 intervalos"
   ]
  },
  {
   "cell_type": "code",
   "execution_count": 5,
   "metadata": {},
   "outputs": [
    {
     "data": {
      "text/plain": [
       "array([4, 4, 8, 5, 7], dtype=int64)"
      ]
     },
     "execution_count": 5,
     "metadata": {},
     "output_type": "execute_result"
    }
   ],
   "source": [
    "#Los puntos de cortes de los 5 intervalos son entrados manualmente\n",
    "#la amplitud que se ha usado es (Mayor-menor)/5=.34  redondeado a .35\n",
    "cortesf=[2.15,2.5,2.85,3.2,3.55,3.9]\n",
    "conteof, cortesf=np.histogram(datos['gpa'],bins=cortesf)\n",
    "#estas son las frecuencias absolutas\n",
    "conteof"
   ]
  },
  {
   "cell_type": "code",
   "execution_count": 6,
   "metadata": {},
   "outputs": [
    {
     "data": {
      "text/plain": [
       "array([2.15, 2.5 , 2.85, 3.2 , 3.55, 3.9 ])"
      ]
     },
     "execution_count": 6,
     "metadata": {},
     "output_type": "execute_result"
    }
   ],
   "source": [
    "#estos son los puntos de cortes\n",
    "cortesf"
   ]
  },
  {
   "cell_type": "code",
   "execution_count": 7,
   "metadata": {},
   "outputs": [
    {
     "data": {
      "text/html": [
       "<div>\n",
       "<style scoped>\n",
       "    .dataframe tbody tr th:only-of-type {\n",
       "        vertical-align: middle;\n",
       "    }\n",
       "\n",
       "    .dataframe tbody tr th {\n",
       "        vertical-align: top;\n",
       "    }\n",
       "\n",
       "    .dataframe thead th {\n",
       "        text-align: right;\n",
       "    }\n",
       "</style>\n",
       "<table border=\"1\" class=\"dataframe\">\n",
       "  <thead>\n",
       "    <tr style=\"text-align: right;\">\n",
       "      <th></th>\n",
       "      <th>gpa</th>\n",
       "    </tr>\n",
       "  </thead>\n",
       "  <tbody>\n",
       "    <tr>\n",
       "      <th>[2.15, 2.5)</th>\n",
       "      <td>4</td>\n",
       "    </tr>\n",
       "    <tr>\n",
       "      <th>[2.5, 2.85)</th>\n",
       "      <td>4</td>\n",
       "    </tr>\n",
       "    <tr>\n",
       "      <th>[2.85, 3.2)</th>\n",
       "      <td>8</td>\n",
       "    </tr>\n",
       "    <tr>\n",
       "      <th>[3.2, 3.55)</th>\n",
       "      <td>5</td>\n",
       "    </tr>\n",
       "    <tr>\n",
       "      <th>[3.55, 3.9)</th>\n",
       "      <td>7</td>\n",
       "    </tr>\n",
       "  </tbody>\n",
       "</table>\n",
       "</div>"
      ],
      "text/plain": [
       "             gpa\n",
       "[2.15, 2.5)    4\n",
       "[2.5, 2.85)    4\n",
       "[2.85, 3.2)    8\n",
       "[3.2, 3.55)    5\n",
       "[3.55, 3.9)    7"
      ]
     },
     "execution_count": 7,
     "metadata": {},
     "output_type": "execute_result"
    }
   ],
   "source": [
    "#Calculo de las frecuencias absolutas usando pandas\n",
    "a1=pd.cut(datos['gpa'],cortesf,right=False)\n",
    "t1=pd.value_counts(a1,sort=False)\n",
    "t1=pd.DataFrame(t1)\n",
    "t1"
   ]
  },
  {
   "cell_type": "code",
   "execution_count": 8,
   "metadata": {},
   "outputs": [
    {
     "data": {
      "text/plain": [
       "array([2.15 , 2.492, 2.834, 3.176, 3.518, 3.86 ])"
      ]
     },
     "execution_count": 8,
     "metadata": {},
     "output_type": "execute_result"
    }
   ],
   "source": [
    "#determinado automaticamente el ancho de cada uno de los 5  intervalos\n",
    "m=min(datos['gpa'])\n",
    "M=max(datos['gpa'])\n",
    "ancho=(M-m)/5\n",
    "gpa1=np.array(datos['gpa'])\n",
    "cortes1=np.linspace(m,M,num=6)\n",
    "cortes1"
   ]
  },
  {
   "cell_type": "code",
   "execution_count": 9,
   "metadata": {},
   "outputs": [
    {
     "data": {
      "text/html": [
       "<div>\n",
       "<style scoped>\n",
       "    .dataframe tbody tr th:only-of-type {\n",
       "        vertical-align: middle;\n",
       "    }\n",
       "\n",
       "    .dataframe tbody tr th {\n",
       "        vertical-align: top;\n",
       "    }\n",
       "\n",
       "    .dataframe thead th {\n",
       "        text-align: right;\n",
       "    }\n",
       "</style>\n",
       "<table border=\"1\" class=\"dataframe\">\n",
       "  <thead>\n",
       "    <tr style=\"text-align: right;\">\n",
       "      <th>col_0</th>\n",
       "      <th>counts</th>\n",
       "    </tr>\n",
       "    <tr>\n",
       "      <th>row_0</th>\n",
       "      <th></th>\n",
       "    </tr>\n",
       "  </thead>\n",
       "  <tbody>\n",
       "    <tr>\n",
       "      <th>(2.149, 2.492]</th>\n",
       "      <td>4</td>\n",
       "    </tr>\n",
       "    <tr>\n",
       "      <th>(2.492, 2.834]</th>\n",
       "      <td>4</td>\n",
       "    </tr>\n",
       "    <tr>\n",
       "      <th>(2.834, 3.176]</th>\n",
       "      <td>7</td>\n",
       "    </tr>\n",
       "    <tr>\n",
       "      <th>(3.176, 3.518]</th>\n",
       "      <td>5</td>\n",
       "    </tr>\n",
       "    <tr>\n",
       "      <th>(3.518, 3.86]</th>\n",
       "      <td>8</td>\n",
       "    </tr>\n",
       "  </tbody>\n",
       "</table>\n",
       "</div>"
      ],
      "text/plain": [
       "col_0           counts\n",
       "row_0                 \n",
       "(2.149, 2.492]       4\n",
       "(2.492, 2.834]       4\n",
       "(2.834, 3.176]       7\n",
       "(3.176, 3.518]       5\n",
       "(3.518, 3.86]        8"
      ]
     },
     "execution_count": 9,
     "metadata": {},
     "output_type": "execute_result"
    }
   ],
   "source": [
    "#construyendo la tabla de frecuencias usando la funcion crosstab de pandas\n",
    "a, b=pd.cut(gpa1,bins=cortes1,include_lowest=True, right=True, retbins=True)\n",
    "tablag=pd.crosstab(a,columns='counts')\n",
    "tablag"
   ]
  },
  {
   "cell_type": "code",
   "execution_count": 10,
   "metadata": {},
   "outputs": [
    {
     "data": {
      "text/html": [
       "<div>\n",
       "<style scoped>\n",
       "    .dataframe tbody tr th:only-of-type {\n",
       "        vertical-align: middle;\n",
       "    }\n",
       "\n",
       "    .dataframe tbody tr th {\n",
       "        vertical-align: top;\n",
       "    }\n",
       "\n",
       "    .dataframe thead th {\n",
       "        text-align: right;\n",
       "    }\n",
       "</style>\n",
       "<table border=\"1\" class=\"dataframe\">\n",
       "  <thead>\n",
       "    <tr style=\"text-align: right;\">\n",
       "      <th>col_0</th>\n",
       "      <th>counts</th>\n",
       "      <th>frec.relat.porc</th>\n",
       "      <th>frec.acum</th>\n",
       "      <th>frec.relat.porc.acum</th>\n",
       "    </tr>\n",
       "    <tr>\n",
       "      <th>row_0</th>\n",
       "      <th></th>\n",
       "      <th></th>\n",
       "      <th></th>\n",
       "      <th></th>\n",
       "    </tr>\n",
       "  </thead>\n",
       "  <tbody>\n",
       "    <tr>\n",
       "      <th>(2.149, 2.492]</th>\n",
       "      <td>4</td>\n",
       "      <td>14.286</td>\n",
       "      <td>4</td>\n",
       "      <td>14.286</td>\n",
       "    </tr>\n",
       "    <tr>\n",
       "      <th>(2.492, 2.834]</th>\n",
       "      <td>4</td>\n",
       "      <td>14.286</td>\n",
       "      <td>8</td>\n",
       "      <td>28.571</td>\n",
       "    </tr>\n",
       "    <tr>\n",
       "      <th>(2.834, 3.176]</th>\n",
       "      <td>7</td>\n",
       "      <td>25.000</td>\n",
       "      <td>15</td>\n",
       "      <td>53.571</td>\n",
       "    </tr>\n",
       "    <tr>\n",
       "      <th>(3.176, 3.518]</th>\n",
       "      <td>5</td>\n",
       "      <td>17.857</td>\n",
       "      <td>20</td>\n",
       "      <td>71.429</td>\n",
       "    </tr>\n",
       "    <tr>\n",
       "      <th>(3.518, 3.86]</th>\n",
       "      <td>8</td>\n",
       "      <td>28.571</td>\n",
       "      <td>28</td>\n",
       "      <td>100.000</td>\n",
       "    </tr>\n",
       "  </tbody>\n",
       "</table>\n",
       "</div>"
      ],
      "text/plain": [
       "col_0           counts  frec.relat.porc  frec.acum  frec.relat.porc.acum\n",
       "row_0                                                                   \n",
       "(2.149, 2.492]       4           14.286          4                14.286\n",
       "(2.492, 2.834]       4           14.286          8                28.571\n",
       "(2.834, 3.176]       7           25.000         15                53.571\n",
       "(3.176, 3.518]       5           17.857         20                71.429\n",
       "(3.518, 3.86]        8           28.571         28               100.000"
      ]
     },
     "execution_count": 10,
     "metadata": {},
     "output_type": "execute_result"
    }
   ],
   "source": [
    "# Hallando las frecuencias relativas porcentuales y las acumuladas\n",
    "tablag['frec.relat.porc']=tablag*100/tablag.sum()\n",
    "tablag['frec.acum']=tablag.counts.cumsum()\n",
    "tablag['frec.relat.porc.acum']=tablag['frec.acum']*100/tablag['counts'].sum()\n",
    "tablag.round(3)"
   ]
  },
  {
   "cell_type": "code",
   "execution_count": 11,
   "metadata": {},
   "outputs": [],
   "source": [
    "#Haciendo una funcion que haga la tabla completa de distribucion de frecuencias para datos agrupados\n",
    "def tablafreqag(datos,str,k):\n",
    "    \"\"\"\n",
    "    :param datos: Es el nombre de la base de datos\n",
    "    :param str: Es el nombre de la variable a usar de la base de datos.\n",
    "    :param k: Numero de intervalos\n",
    "    \"\"\"\n",
    "    import pandas as pd\n",
    "    m=min(datos[str])\n",
    "    M=max(datos[str])\n",
    "    ancho=(M-m)/k\n",
    "    var1=np.array(datos[str])\n",
    "    cortes1=np.linspace(m,M,num=k+1)\n",
    "    a, b=pd.cut(var1,bins=cortes1,include_lowest=True, right=True, retbins=True)\n",
    "    tablag=pd.crosstab(a,columns='counts')\n",
    "    tablag['frec.relat.porc']=tablag*100/tablag.sum()\n",
    "    tablag['frec.acum']=tablag.counts.cumsum()\n",
    "    tablag['frec.relat.porc.acum']=tablag['frec.acum']*100/tablag['counts'].sum()\n",
    "    tablag.round(3)\n",
    "    return tablag;"
   ]
  },
  {
   "cell_type": "code",
   "execution_count": 12,
   "metadata": {},
   "outputs": [
    {
     "data": {
      "text/html": [
       "<div>\n",
       "<style scoped>\n",
       "    .dataframe tbody tr th:only-of-type {\n",
       "        vertical-align: middle;\n",
       "    }\n",
       "\n",
       "    .dataframe tbody tr th {\n",
       "        vertical-align: top;\n",
       "    }\n",
       "\n",
       "    .dataframe thead th {\n",
       "        text-align: right;\n",
       "    }\n",
       "</style>\n",
       "<table border=\"1\" class=\"dataframe\">\n",
       "  <thead>\n",
       "    <tr style=\"text-align: right;\">\n",
       "      <th>col_0</th>\n",
       "      <th>counts</th>\n",
       "      <th>frec.relat.porc</th>\n",
       "      <th>frec.acum</th>\n",
       "      <th>frec.relat.porc.acum</th>\n",
       "    </tr>\n",
       "    <tr>\n",
       "      <th>row_0</th>\n",
       "      <th></th>\n",
       "      <th></th>\n",
       "      <th></th>\n",
       "      <th></th>\n",
       "    </tr>\n",
       "  </thead>\n",
       "  <tbody>\n",
       "    <tr>\n",
       "      <th>(2.149, 2.492]</th>\n",
       "      <td>4</td>\n",
       "      <td>14.285714</td>\n",
       "      <td>4</td>\n",
       "      <td>14.285714</td>\n",
       "    </tr>\n",
       "    <tr>\n",
       "      <th>(2.492, 2.834]</th>\n",
       "      <td>4</td>\n",
       "      <td>14.285714</td>\n",
       "      <td>8</td>\n",
       "      <td>28.571429</td>\n",
       "    </tr>\n",
       "    <tr>\n",
       "      <th>(2.834, 3.176]</th>\n",
       "      <td>7</td>\n",
       "      <td>25.000000</td>\n",
       "      <td>15</td>\n",
       "      <td>53.571429</td>\n",
       "    </tr>\n",
       "    <tr>\n",
       "      <th>(3.176, 3.518]</th>\n",
       "      <td>5</td>\n",
       "      <td>17.857143</td>\n",
       "      <td>20</td>\n",
       "      <td>71.428571</td>\n",
       "    </tr>\n",
       "    <tr>\n",
       "      <th>(3.518, 3.86]</th>\n",
       "      <td>8</td>\n",
       "      <td>28.571429</td>\n",
       "      <td>28</td>\n",
       "      <td>100.000000</td>\n",
       "    </tr>\n",
       "  </tbody>\n",
       "</table>\n",
       "</div>"
      ],
      "text/plain": [
       "col_0           counts  frec.relat.porc  frec.acum  frec.relat.porc.acum\n",
       "row_0                                                                   \n",
       "(2.149, 2.492]       4        14.285714          4             14.285714\n",
       "(2.492, 2.834]       4        14.285714          8             28.571429\n",
       "(2.834, 3.176]       7        25.000000         15             53.571429\n",
       "(3.176, 3.518]       5        17.857143         20             71.428571\n",
       "(3.518, 3.86]        8        28.571429         28            100.000000"
      ]
     },
     "execution_count": 12,
     "metadata": {},
     "output_type": "execute_result"
    }
   ],
   "source": [
    "tablafreqag(datos,'gpa',5)"
   ]
  },
  {
   "cell_type": "code",
   "execution_count": 13,
   "metadata": {},
   "outputs": [
    {
     "name": "stdout",
     "output_type": "stream",
     "text": [
      "Help on function hist in module matplotlib.pyplot:\n",
      "\n",
      "hist(x, bins=None, range=None, density=None, weights=None, cumulative=False, bottom=None, histtype='bar', align='mid', orientation='vertical', rwidth=None, log=False, color=None, label=None, stacked=False, normed=None, *, data=None, **kwargs)\n",
      "    Plot a histogram.\n",
      "    \n",
      "    Compute and draw the histogram of *x*.  The return value is a tuple\n",
      "    (*n*, *bins*, *patches*) or ([*n0*, *n1*, ...], *bins*, [*patches0*,\n",
      "    *patches1*,...]) if the input contains multiple data.  See the\n",
      "    documentation of the *weights* parameter to draw a histogram of\n",
      "    already-binned data.\n",
      "    \n",
      "    Multiple data can be provided via *x* as a list of datasets\n",
      "    of potentially different length ([*x0*, *x1*, ...]), or as\n",
      "    a 2-D ndarray in which each column is a dataset.  Note that\n",
      "    the ndarray form is transposed relative to the list form.\n",
      "    \n",
      "    Masked arrays are not supported at present.\n",
      "    \n",
      "    Parameters\n",
      "    ----------\n",
      "    x : (n,) array or sequence of (n,) arrays\n",
      "        Input values, this takes either a single array or a sequence of\n",
      "        arrays which are not required to be of the same length.\n",
      "    \n",
      "    bins : int or sequence or str, optional\n",
      "        If an integer is given, ``bins + 1`` bin edges are calculated and\n",
      "        returned, consistent with `numpy.histogram`.\n",
      "    \n",
      "        If `bins` is a sequence, gives bin edges, including left edge of\n",
      "        first bin and right edge of last bin.  In this case, `bins` is\n",
      "        returned unmodified.\n",
      "    \n",
      "        All but the last (righthand-most) bin is half-open.  In other\n",
      "        words, if `bins` is::\n",
      "    \n",
      "            [1, 2, 3, 4]\n",
      "    \n",
      "        then the first bin is ``[1, 2)`` (including 1, but excluding 2) and\n",
      "        the second ``[2, 3)``.  The last bin, however, is ``[3, 4]``, which\n",
      "        *includes* 4.\n",
      "    \n",
      "        Unequally spaced bins are supported if *bins* is a sequence.\n",
      "    \n",
      "        With Numpy 1.11 or newer, you can alternatively provide a string\n",
      "        describing a binning strategy, such as 'auto', 'sturges', 'fd',\n",
      "        'doane', 'scott', 'rice' or 'sqrt', see\n",
      "        `numpy.histogram`.\n",
      "    \n",
      "        The default is taken from :rc:`hist.bins`.\n",
      "    \n",
      "    range : tuple or None, optional\n",
      "        The lower and upper range of the bins. Lower and upper outliers\n",
      "        are ignored. If not provided, *range* is ``(x.min(), x.max())``.\n",
      "        Range has no effect if *bins* is a sequence.\n",
      "    \n",
      "        If *bins* is a sequence or *range* is specified, autoscaling\n",
      "        is based on the specified bin range instead of the\n",
      "        range of x.\n",
      "    \n",
      "        Default is ``None``\n",
      "    \n",
      "    density : bool, optional\n",
      "        If ``True``, the first element of the return tuple will\n",
      "        be the counts normalized to form a probability density, i.e.,\n",
      "        the area (or integral) under the histogram will sum to 1.\n",
      "        This is achieved by dividing the count by the number of\n",
      "        observations times the bin width and not dividing by the total\n",
      "        number of observations. If *stacked* is also ``True``, the sum of\n",
      "        the histograms is normalized to 1.\n",
      "    \n",
      "        Default is ``None`` for both *normed* and *density*. If either is\n",
      "        set, then that value will be used. If neither are set, then the\n",
      "        args will be treated as ``False``.\n",
      "    \n",
      "        If both *density* and *normed* are set an error is raised.\n",
      "    \n",
      "    weights : (n, ) array_like or None, optional\n",
      "        An array of weights, of the same shape as *x*.  Each value in *x*\n",
      "        only contributes its associated weight towards the bin count\n",
      "        (instead of 1).  If *normed* or *density* is ``True``,\n",
      "        the weights are normalized, so that the integral of the density\n",
      "        over the range remains 1.\n",
      "    \n",
      "        Default is ``None``.\n",
      "    \n",
      "        This parameter can be used to draw a histogram of data that has\n",
      "        already been binned, e.g. using `np.histogram` (by treating each\n",
      "        bin as a single point with a weight equal to its count) ::\n",
      "    \n",
      "            counts, bins = np.histogram(data)\n",
      "            plt.hist(bins[:-1], bins, weights=counts)\n",
      "    \n",
      "        (or you may alternatively use `~.bar()`).\n",
      "    \n",
      "    cumulative : bool, optional\n",
      "        If ``True``, then a histogram is computed where each bin gives the\n",
      "        counts in that bin plus all bins for smaller values. The last bin\n",
      "        gives the total number of datapoints. If *normed* or *density*\n",
      "        is also ``True`` then the histogram is normalized such that the\n",
      "        last bin equals 1. If *cumulative* evaluates to less than 0\n",
      "        (e.g., -1), the direction of accumulation is reversed.\n",
      "        In this case, if *normed* and/or *density* is also ``True``, then\n",
      "        the histogram is normalized such that the first bin equals 1.\n",
      "    \n",
      "        Default is ``False``\n",
      "    \n",
      "    bottom : array_like, scalar, or None\n",
      "        Location of the bottom baseline of each bin.  If a scalar,\n",
      "        the base line for each bin is shifted by the same amount.\n",
      "        If an array, each bin is shifted independently and the length\n",
      "        of bottom must match the number of bins.  If None, defaults to 0.\n",
      "    \n",
      "        Default is ``None``\n",
      "    \n",
      "    histtype : {'bar', 'barstacked', 'step',  'stepfilled'}, optional\n",
      "        The type of histogram to draw.\n",
      "    \n",
      "        - 'bar' is a traditional bar-type histogram.  If multiple data\n",
      "          are given the bars are arranged side by side.\n",
      "    \n",
      "        - 'barstacked' is a bar-type histogram where multiple\n",
      "          data are stacked on top of each other.\n",
      "    \n",
      "        - 'step' generates a lineplot that is by default\n",
      "          unfilled.\n",
      "    \n",
      "        - 'stepfilled' generates a lineplot that is by default\n",
      "          filled.\n",
      "    \n",
      "        Default is 'bar'\n",
      "    \n",
      "    align : {'left', 'mid', 'right'}, optional\n",
      "        Controls how the histogram is plotted.\n",
      "    \n",
      "            - 'left': bars are centered on the left bin edges.\n",
      "    \n",
      "            - 'mid': bars are centered between the bin edges.\n",
      "    \n",
      "            - 'right': bars are centered on the right bin edges.\n",
      "    \n",
      "        Default is 'mid'\n",
      "    \n",
      "    orientation : {'horizontal', 'vertical'}, optional\n",
      "        If 'horizontal', `~matplotlib.pyplot.barh` will be used for\n",
      "        bar-type histograms and the *bottom* kwarg will be the left edges.\n",
      "    \n",
      "    rwidth : scalar or None, optional\n",
      "        The relative width of the bars as a fraction of the bin width.  If\n",
      "        ``None``, automatically compute the width.\n",
      "    \n",
      "        Ignored if *histtype* is 'step' or 'stepfilled'.\n",
      "    \n",
      "        Default is ``None``\n",
      "    \n",
      "    log : bool, optional\n",
      "        If ``True``, the histogram axis will be set to a log scale. If\n",
      "        *log* is ``True`` and *x* is a 1D array, empty bins will be\n",
      "        filtered out and only the non-empty ``(n, bins, patches)``\n",
      "        will be returned.\n",
      "    \n",
      "        Default is ``False``\n",
      "    \n",
      "    color : color or array_like of colors or None, optional\n",
      "        Color spec or sequence of color specs, one per dataset.  Default\n",
      "        (``None``) uses the standard line color sequence.\n",
      "    \n",
      "        Default is ``None``\n",
      "    \n",
      "    label : str or None, optional\n",
      "        String, or sequence of strings to match multiple datasets.  Bar\n",
      "        charts yield multiple patches per dataset, but only the first gets\n",
      "        the label, so that the legend command will work as expected.\n",
      "    \n",
      "        default is ``None``\n",
      "    \n",
      "    stacked : bool, optional\n",
      "        If ``True``, multiple data are stacked on top of each other If\n",
      "        ``False`` multiple data are arranged side by side if histtype is\n",
      "        'bar' or on top of each other if histtype is 'step'\n",
      "    \n",
      "        Default is ``False``\n",
      "    \n",
      "    normed : bool, optional\n",
      "        Deprecated; use the density keyword argument instead.\n",
      "    \n",
      "    Returns\n",
      "    -------\n",
      "    n : array or list of arrays\n",
      "        The values of the histogram bins. See *density* and *weights* for a\n",
      "        description of the possible semantics.  If input *x* is an array,\n",
      "        then this is an array of length *nbins*. If input is a sequence of\n",
      "        arrays ``[data1, data2,..]``, then this is a list of arrays with\n",
      "        the values of the histograms for each of the arrays in the same\n",
      "        order.  The dtype of the array *n* (or of its element arrays) will\n",
      "        always be float even if no weighting or normalization is used.\n",
      "    \n",
      "    bins : array\n",
      "        The edges of the bins. Length nbins + 1 (nbins left edges and right\n",
      "        edge of last bin).  Always a single array even when multiple data\n",
      "        sets are passed in.\n",
      "    \n",
      "    patches : list or list of lists\n",
      "        Silent list of individual patches used to create the histogram\n",
      "        or list of such list if multiple input datasets.\n",
      "    \n",
      "    Other Parameters\n",
      "    ----------------\n",
      "    **kwargs : `~matplotlib.patches.Patch` properties\n",
      "    \n",
      "    See also\n",
      "    --------\n",
      "    hist2d : 2D histograms\n",
      "    \n",
      "    Notes\n",
      "    -----\n",
      "    \n",
      "    \n",
      "    .. note::\n",
      "        In addition to the above described arguments, this function can take a\n",
      "        **data** keyword argument. If such a **data** argument is given, the\n",
      "        following arguments are replaced by **data[<arg>]**:\n",
      "    \n",
      "        * All arguments with the following names: 'weights', 'x'.\n",
      "    \n",
      "        Objects passed as **data** must support item access (``data[<arg>]``) and\n",
      "        membership test (``<arg> in data``).\n",
      "\n"
     ]
    }
   ],
   "source": [
    "# Pidiendo ayuda acerca de la funcion hist\n",
    "help(plt.hist)"
   ]
  },
  {
   "cell_type": "code",
   "execution_count": 14,
   "metadata": {},
   "outputs": [
    {
     "data": {
      "text/plain": [
       "(array([4., 1., 4., 8., 5., 6.]),\n",
       " array([2.15 , 2.435, 2.72 , 3.005, 3.29 , 3.575, 3.86 ]),\n",
       " <a list of 6 Patch objects>)"
      ]
     },
     "execution_count": 14,
     "metadata": {},
     "output_type": "execute_result"
    },
    {
     "data": {
      "image/png": "[encoded data removed]",
      "text/plain": [
       "<Figure size 432x288 with 1 Axes>"
      ]
     },
     "metadata": {
      "needs_background": "light"
     },
     "output_type": "display_data"
    }
   ],
   "source": [
    "plt.hist(datos['gpa'],bins=6)"
   ]
  },
  {
   "cell_type": "code",
   "execution_count": 15,
   "metadata": {},
   "outputs": [
    {
     "data": {
      "image/png": "[encoded data removed]",
      "text/plain": [
       "<Figure size 432x288 with 1 Axes>"
      ]
     },
     "metadata": {
      "needs_background": "light"
     },
     "output_type": "display_data"
    }
   ],
   "source": [
    "plt.hist(datos['gpa'],bins=cortesf)\n",
    "plt.title('Histograma de GPA ')\n",
    "xl=cortesf\n",
    "yl=conteof\n",
    "for a,b in zip(xl,yl):\n",
    "    plt.text(a+.17,b,str(b)) "
   ]
  },
  {
   "cell_type": "markdown",
   "metadata": {},
   "source": [
    "El histograma tiene menor cantidad de datos en el lado izquierdo que en el lado derecho entonces es ASIMETRICO a la izquierda. La muestra no es buena para sacar conclsuiones"
   ]
  },
  {
   "cell_type": "code",
   "execution_count": 16,
   "metadata": {},
   "outputs": [
    {
     "data": {
      "image/png": "[encoded data removed]",
      "text/plain": [
       "<Figure size 432x288 with 1 Axes>"
      ]
     },
     "metadata": {},
     "output_type": "display_data"
    }
   ],
   "source": [
    "plt.style.use('ggplot')\n",
    "with plt.style.context('ggplot'):\n",
    "    # plot command goes here\n",
    "    plt.hist(datos['gpa'],bins=5)\n",
    "    plt.show()"
   ]
  },
  {
   "cell_type": "code",
   "execution_count": null,
   "metadata": {},
   "outputs": [],
   "source": []
  },
  {
   "cell_type": "code",
   "execution_count": null,
   "metadata": {},
   "outputs": [],
   "source": []
  }
 ],
 "metadata": {
  "kernelspec": {
   "display_name": "Python 3",
   "language": "python",
   "name": "python3"
  },
  "language_info": {
   "codemirror_mode": {
    "name": "ipython",
    "version": 3
   },
   "file_extension": ".py",
   "mimetype": "text/x-python",
   "name": "python",
   "nbconvert_exporter": "python",
   "pygments_lexer": "ipython3",
   "version": "3.7.3"
  }
 },
 "nbformat": 4,
 "nbformat_minor": 2
}
