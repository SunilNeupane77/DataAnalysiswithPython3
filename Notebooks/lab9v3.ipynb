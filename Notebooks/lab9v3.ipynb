{
 "cells": [
  {
   "cell_type": "markdown",
   "metadata": {},
   "source": [
    "## ESMA 3016\n",
    "## Lab9: Regresion y Correlacion Lineal\n",
    "### Edgar Acuna\n",
    "#### Febrero 2019"
   ]
  },
  {
   "cell_type": "code",
   "execution_count": 30,
   "metadata": {},
   "outputs": [],
   "source": [
    "import pandas as pd\n",
    "import numpy as np\n",
    "import matplotlib.pyplot as plt\n",
    "from scipy import stats\n",
    "import statsmodels.formula.api as sm\n",
    "%matplotlib inline"
   ]
  },
  {
   "cell_type": "code",
   "execution_count": 31,
   "metadata": {},
   "outputs": [],
   "source": [
    "ventas=[9,12,16,19,23,27,34,37,40,45]\n",
    "years=[3,4,6,7,8,12,15,20,22,26]"
   ]
  },
  {
   "cell_type": "code",
   "execution_count": 32,
   "metadata": {},
   "outputs": [
    {
     "data": {
      "text/plain": [
       "<matplotlib.collections.PathCollection at 0x1b0511c94a8>"
      ]
     },
     "execution_count": 32,
     "metadata": {},
     "output_type": "execute_result"
    },
    {
     "data": {
      "image/png": "[encoded data removed]",
      "text/plain": [
       "<Figure size 432x288 with 1 Axes>"
      ]
     },
     "metadata": {},
     "output_type": "display_data"
    }
   ],
   "source": [
    "#Haciendo el scatterplot\n",
    "plt.scatter(years,ventas)"
   ]
  },
  {
   "cell_type": "code",
   "execution_count": 33,
   "metadata": {},
   "outputs": [
    {
     "data": {
      "text/plain": [
       "0.9835928893659417"
      ]
     },
     "execution_count": 33,
     "metadata": {},
     "output_type": "execute_result"
    }
   ],
   "source": [
    "#Hallando la correlacion\n",
    "np.corrcoef(years,ventas)[0][1]"
   ]
  },
  {
   "cell_type": "code",
   "execution_count": 34,
   "metadata": {},
   "outputs": [
    {
     "data": {
      "text/html": [
       "<div>\n",
       "<style scoped>\n",
       "    .dataframe tbody tr th:only-of-type {\n",
       "        vertical-align: middle;\n",
       "    }\n",
       "\n",
       "    .dataframe tbody tr th {\n",
       "        vertical-align: top;\n",
       "    }\n",
       "\n",
       "    .dataframe thead th {\n",
       "        text-align: right;\n",
       "    }\n",
       "</style>\n",
       "<table border=\"1\" class=\"dataframe\">\n",
       "  <thead>\n",
       "    <tr style=\"text-align: right;\">\n",
       "      <th></th>\n",
       "      <th>x1</th>\n",
       "      <th>y1</th>\n",
       "      <th>x2</th>\n",
       "      <th>y2</th>\n",
       "      <th>x3</th>\n",
       "      <th>y3</th>\n",
       "      <th>x4</th>\n",
       "      <th>y4</th>\n",
       "    </tr>\n",
       "  </thead>\n",
       "  <tbody>\n",
       "    <tr>\n",
       "      <th>0</th>\n",
       "      <td>4</td>\n",
       "      <td>8</td>\n",
       "      <td>4</td>\n",
       "      <td>48</td>\n",
       "      <td>4</td>\n",
       "      <td>38</td>\n",
       "      <td>4</td>\n",
       "      <td>48</td>\n",
       "    </tr>\n",
       "    <tr>\n",
       "      <th>1</th>\n",
       "      <td>5</td>\n",
       "      <td>12</td>\n",
       "      <td>5</td>\n",
       "      <td>43</td>\n",
       "      <td>5</td>\n",
       "      <td>25</td>\n",
       "      <td>5</td>\n",
       "      <td>32</td>\n",
       "    </tr>\n",
       "    <tr>\n",
       "      <th>2</th>\n",
       "      <td>8</td>\n",
       "      <td>15</td>\n",
       "      <td>7</td>\n",
       "      <td>37</td>\n",
       "      <td>8</td>\n",
       "      <td>35</td>\n",
       "      <td>8</td>\n",
       "      <td>25</td>\n",
       "    </tr>\n",
       "    <tr>\n",
       "      <th>3</th>\n",
       "      <td>16</td>\n",
       "      <td>27</td>\n",
       "      <td>12</td>\n",
       "      <td>28</td>\n",
       "      <td>12</td>\n",
       "      <td>29</td>\n",
       "      <td>12</td>\n",
       "      <td>17</td>\n",
       "    </tr>\n",
       "    <tr>\n",
       "      <th>4</th>\n",
       "      <td>17</td>\n",
       "      <td>33</td>\n",
       "      <td>14</td>\n",
       "      <td>21</td>\n",
       "      <td>17</td>\n",
       "      <td>33</td>\n",
       "      <td>15</td>\n",
       "      <td>23</td>\n",
       "    </tr>\n",
       "  </tbody>\n",
       "</table>\n",
       "</div>"
      ],
      "text/plain": [
       "   x1  y1  x2  y2  x3  y3  x4  y4\n",
       "0   4   8   4  48   4  38   4  48\n",
       "1   5  12   5  43   5  25   5  32\n",
       "2   8  15   7  37   8  35   8  25\n",
       "3  16  27  12  28  12  29  12  17\n",
       "4  17  33  14  21  17  33  15  23"
      ]
     },
     "execution_count": 34,
     "metadata": {},
     "output_type": "execute_result"
    }
   ],
   "source": [
    "#Leyendo el archivo de datos corrs directamente desde la internet\n",
    "cor1=pd.read_table(\"http://academic.uprm.edu/eacuna/corrs.dat\",sep=\"\\s+\")\n",
    "cor1.head()"
   ]
  },
  {
   "cell_type": "code",
   "execution_count": 35,
   "metadata": {},
   "outputs": [
    {
     "name": "stdout",
     "output_type": "stream",
     "text": [
      "El coeficiente de correlacion entre X1 y Y1 es= 0.988212065059534\n",
      "El coeficiente de correlacion entre X2 y Y2 es= -0.992433402715553\n",
      "El coeficiente de correlacion entre X3 y Y3 es= 0.1918258949595663\n",
      "el coeficiente de correlacion entre X4 y Y4 es= 0.11212638967994151\n"
     ]
    }
   ],
   "source": [
    "#Hallando las correlaciones usando pandas\n",
    "co1=cor1.corr()['x1']['y1']\n",
    "print(\"El coeficiente de correlacion entre X1 y Y1 es=\", co1)\n",
    "co2=cor1.corr()['x2']['y2']\n",
    "print(\"El coeficiente de correlacion entre X2 y Y2 es=\",co2)\n",
    "co3=cor1.corr()[\"x3\"][\"y3\"]\n",
    "print(\"El coeficiente de correlacion entre X3 y Y3 es=\",co3)\n",
    "co4=cor1.corr()[\"x4\"][\"y4\"]\n",
    "print(\"el coeficiente de correlacion entre X4 y Y4 es=\", co4)"
   ]
  },
  {
   "cell_type": "code",
   "execution_count": 36,
   "metadata": {},
   "outputs": [
    {
     "data": {
      "image/png": "[encoded data removed]",
      "text/plain": [
       "<Figure size 720x720 with 4 Axes>"
      ]
     },
     "metadata": {},
     "output_type": "display_data"
    }
   ],
   "source": [
    "#Ploteando los scatter plots\n",
    "fig = plt.figure(figsize=(10,10))\n",
    "\n",
    "ax1 = fig.add_subplot(221)\n",
    "ax1.scatter(cor1['x1'],cor1['y1'])\n",
    "\n",
    "ax2 = fig.add_subplot(222)\n",
    "ax2.scatter(cor1['x2'],cor1['y2'])\n",
    "ax3 = fig.add_subplot(223)\n",
    "ax3.scatter(cor1['x3'],cor1['y3'])\n",
    "\n",
    "ax4 = fig.add_subplot(224)\n",
    "ax4.scatter(cor1['x4'],cor1['y4'])\n",
    "\n",
    "plt.show()"
   ]
  },
  {
   "cell_type": "code",
   "execution_count": 37,
   "metadata": {},
   "outputs": [
    {
     "data": {
      "text/html": [
       "<div>\n",
       "<style scoped>\n",
       "    .dataframe tbody tr th:only-of-type {\n",
       "        vertical-align: middle;\n",
       "    }\n",
       "\n",
       "    .dataframe tbody tr th {\n",
       "        vertical-align: top;\n",
       "    }\n",
       "\n",
       "    .dataframe thead th {\n",
       "        text-align: right;\n",
       "    }\n",
       "</style>\n",
       "<table border=\"1\" class=\"dataframe\">\n",
       "  <thead>\n",
       "    <tr style=\"text-align: right;\">\n",
       "      <th></th>\n",
       "      <th>x1</th>\n",
       "      <th>y1</th>\n",
       "      <th>x2</th>\n",
       "      <th>y2</th>\n",
       "      <th>x3</th>\n",
       "      <th>y3</th>\n",
       "      <th>x4</th>\n",
       "      <th>y4</th>\n",
       "    </tr>\n",
       "  </thead>\n",
       "  <tbody>\n",
       "    <tr>\n",
       "      <th>0</th>\n",
       "      <td>4</td>\n",
       "      <td>8</td>\n",
       "      <td>4</td>\n",
       "      <td>18</td>\n",
       "      <td>4</td>\n",
       "      <td>8</td>\n",
       "      <td>4</td>\n",
       "      <td>8</td>\n",
       "    </tr>\n",
       "    <tr>\n",
       "      <th>1</th>\n",
       "      <td>5</td>\n",
       "      <td>13</td>\n",
       "      <td>5</td>\n",
       "      <td>13</td>\n",
       "      <td>5</td>\n",
       "      <td>12</td>\n",
       "      <td>5</td>\n",
       "      <td>12</td>\n",
       "    </tr>\n",
       "    <tr>\n",
       "      <th>2</th>\n",
       "      <td>7</td>\n",
       "      <td>22</td>\n",
       "      <td>7</td>\n",
       "      <td>12</td>\n",
       "      <td>8</td>\n",
       "      <td>15</td>\n",
       "      <td>8</td>\n",
       "      <td>95</td>\n",
       "    </tr>\n",
       "    <tr>\n",
       "      <th>3</th>\n",
       "      <td>9</td>\n",
       "      <td>28</td>\n",
       "      <td>9</td>\n",
       "      <td>8</td>\n",
       "      <td>12</td>\n",
       "      <td>20</td>\n",
       "      <td>12</td>\n",
       "      <td>12</td>\n",
       "    </tr>\n",
       "    <tr>\n",
       "      <th>4</th>\n",
       "      <td>12</td>\n",
       "      <td>32</td>\n",
       "      <td>12</td>\n",
       "      <td>18</td>\n",
       "      <td>56</td>\n",
       "      <td>27</td>\n",
       "      <td>16</td>\n",
       "      <td>27</td>\n",
       "    </tr>\n",
       "  </tbody>\n",
       "</table>\n",
       "</div>"
      ],
      "text/plain": [
       "   x1  y1  x2  y2  x3  y3  x4  y4\n",
       "0   4   8   4  18   4   8   4   8\n",
       "1   5  13   5  13   5  12   5  12\n",
       "2   7  22   7  12   8  15   8  95\n",
       "3   9  28   9   8  12  20  12  12\n",
       "4  12  32  12  18  56  27  16  27"
      ]
     },
     "execution_count": 37,
     "metadata": {},
     "output_type": "execute_result"
    }
   ],
   "source": [
    "#Leyendo el archvo de datos corrout\n",
    "cor2=pd.read_table(\"http://academic.uprm.edu/eacuna/corrout.dat\",sep=\"\\s+\")\n",
    "cor2.head()"
   ]
  },
  {
   "cell_type": "code",
   "execution_count": 38,
   "metadata": {},
   "outputs": [
    {
     "name": "stdout",
     "output_type": "stream",
     "text": [
      "El coeficiente de correlacion entre X1 y Y1 es= 0.9842719593039495\n",
      "El coeficiente de correlacion entre X2 y Y2 es= 0.9953336045451944\n",
      "El coeficiente de correlacion entre X3 y Y3 es= 0.43620586632446895\n",
      "el coeficiente de correlacion entre X4 y Y4 es= 0.26423706225157234\n"
     ]
    }
   ],
   "source": [
    "#Hallando las correlaciones usando pandas\n",
    "co1=cor2.corr()['x1']['y1']\n",
    "print(\"El coeficiente de correlacion entre X1 y Y1 es=\", co1)\n",
    "co2=cor2.corr()['x2']['y2']\n",
    "print(\"El coeficiente de correlacion entre X2 y Y2 es=\",co2)\n",
    "co3=cor2.corr()[\"x3\"][\"y3\"]\n",
    "print(\"El coeficiente de correlacion entre X3 y Y3 es=\",co3)\n",
    "co4=cor2.corr()[\"x4\"][\"y4\"]\n",
    "print(\"el coeficiente de correlacion entre X4 y Y4 es=\", co4)"
   ]
  },
  {
   "cell_type": "code",
   "execution_count": 39,
   "metadata": {},
   "outputs": [
    {
     "data": {
      "image/png": "[encoded data removed]",
      "text/plain": [
       "<Figure size 720x720 with 4 Axes>"
      ]
     },
     "metadata": {},
     "output_type": "display_data"
    }
   ],
   "source": [
    "#Ploteando los scatter plots\n",
    "fig = plt.figure(figsize=(10,10))\n",
    "\n",
    "ax1 = fig.add_subplot(221)\n",
    "ax1.scatter(cor2['x1'],cor2['y1'])\n",
    "\n",
    "ax2 = fig.add_subplot(222)\n",
    "ax2.scatter(cor2['x2'],cor2['y2'])\n",
    "ax3 = fig.add_subplot(223)\n",
    "ax3.scatter(cor2['x3'],cor2['y3'])\n",
    "\n",
    "ax4 = fig.add_subplot(224)\n",
    "ax4.scatter(cor2['x4'],cor2['y4'])\n",
    "\n",
    "plt.show()"
   ]
  },
  {
   "cell_type": "code",
   "execution_count": 40,
   "metadata": {},
   "outputs": [
    {
     "name": "stdout",
     "output_type": "stream",
     "text": [
      "El slope es: 1.5072021691238777 El intercepto es: 7.661413319776308\n"
     ]
    }
   ],
   "source": [
    " #Hallando los coeficentes de la linea de regresion\n",
    "b, a=np.poly1d(np.polyfit(years, ventas, 1))\n",
    "print(\"El slope es:\", b, \"El intercepto es:\", a)"
   ]
  },
  {
   "cell_type": "code",
   "execution_count": 41,
   "metadata": {},
   "outputs": [
    {
     "data": {
      "image/png": "[encoded data removed]",
      "text/plain": [
       "<Figure size 432x288 with 1 Axes>"
      ]
     },
     "metadata": {},
     "output_type": "display_data"
    }
   ],
   "source": [
    "#Trazando la linea de regresion sobre el plot de puntos\n",
    "x=years\n",
    "y=ventas\n",
    "plt.scatter(x,y)\n",
    "plt.plot(x, np.poly1d(np.polyfit(x, y, 1))(x),color='red')\n",
    "\n",
    "plt.show()"
   ]
  },
  {
   "cell_type": "code",
   "execution_count": 42,
   "metadata": {},
   "outputs": [
    {
     "data": {
      "text/html": [
       "<div>\n",
       "<style scoped>\n",
       "    .dataframe tbody tr th:only-of-type {\n",
       "        vertical-align: middle;\n",
       "    }\n",
       "\n",
       "    .dataframe tbody tr th {\n",
       "        vertical-align: top;\n",
       "    }\n",
       "\n",
       "    .dataframe thead th {\n",
       "        text-align: right;\n",
       "    }\n",
       "</style>\n",
       "<table border=\"1\" class=\"dataframe\">\n",
       "  <thead>\n",
       "    <tr style=\"text-align: right;\">\n",
       "      <th></th>\n",
       "      <th>years</th>\n",
       "      <th>ventas</th>\n",
       "    </tr>\n",
       "  </thead>\n",
       "  <tbody>\n",
       "    <tr>\n",
       "      <th>0</th>\n",
       "      <td>3</td>\n",
       "      <td>9</td>\n",
       "    </tr>\n",
       "    <tr>\n",
       "      <th>1</th>\n",
       "      <td>4</td>\n",
       "      <td>12</td>\n",
       "    </tr>\n",
       "    <tr>\n",
       "      <th>2</th>\n",
       "      <td>6</td>\n",
       "      <td>16</td>\n",
       "    </tr>\n",
       "    <tr>\n",
       "      <th>3</th>\n",
       "      <td>7</td>\n",
       "      <td>19</td>\n",
       "    </tr>\n",
       "    <tr>\n",
       "      <th>4</th>\n",
       "      <td>8</td>\n",
       "      <td>23</td>\n",
       "    </tr>\n",
       "    <tr>\n",
       "      <th>5</th>\n",
       "      <td>12</td>\n",
       "      <td>27</td>\n",
       "    </tr>\n",
       "    <tr>\n",
       "      <th>6</th>\n",
       "      <td>15</td>\n",
       "      <td>34</td>\n",
       "    </tr>\n",
       "    <tr>\n",
       "      <th>7</th>\n",
       "      <td>20</td>\n",
       "      <td>37</td>\n",
       "    </tr>\n",
       "    <tr>\n",
       "      <th>8</th>\n",
       "      <td>22</td>\n",
       "      <td>40</td>\n",
       "    </tr>\n",
       "    <tr>\n",
       "      <th>9</th>\n",
       "      <td>26</td>\n",
       "      <td>45</td>\n",
       "    </tr>\n",
       "  </tbody>\n",
       "</table>\n",
       "</div>"
      ],
      "text/plain": [
       "   years  ventas\n",
       "0      3       9\n",
       "1      4      12\n",
       "2      6      16\n",
       "3      7      19\n",
       "4      8      23\n",
       "5     12      27\n",
       "6     15      34\n",
       "7     20      37\n",
       "8     22      40\n",
       "9     26      45"
      ]
     },
     "execution_count": 42,
     "metadata": {},
     "output_type": "execute_result"
    }
   ],
   "source": [
    "#Preprando el dataframe para usar pandas\n",
    "data=[years,ventas]\n",
    "data=np.transpose(data)\n",
    "df=pd.DataFrame(data,columns=['years','ventas'])\n",
    "df"
   ]
  },
  {
   "cell_type": "code",
   "execution_count": 43,
   "metadata": {},
   "outputs": [
    {
     "data": {
      "text/plain": [
       "0.9835928893659418"
      ]
     },
     "execution_count": 43,
     "metadata": {},
     "output_type": "execute_result"
    }
   ],
   "source": [
    "#usando pandas para hallar la correlacion\n",
    "df.corr()[\"years\"][\"ventas\"]"
   ]
  },
  {
   "cell_type": "code",
   "execution_count": 44,
   "metadata": {},
   "outputs": [
    {
     "data": {
      "text/plain": [
       "(0.9835928893659419, 3.108350979394446e-07)"
      ]
     },
     "execution_count": 44,
     "metadata": {},
     "output_type": "execute_result"
    }
   ],
   "source": [
    "#usando stats de scipy muestra la correlacion y su p-value\n",
    "stats.pearsonr(years,ventas)"
   ]
  },
  {
   "cell_type": "code",
   "execution_count": 45,
   "metadata": {},
   "outputs": [
    {
     "name": "stdout",
     "output_type": "stream",
     "text": [
      "Intercept    7.661413\n",
      "years        1.507202\n",
      "dtype: float64\n"
     ]
    }
   ],
   "source": [
    "import statsmodels.formula.api as sm\n",
    "result = sm.ols(formula=\"ventas ~ years\", data=df).fit()\n",
    "print(result.params)"
   ]
  },
  {
   "cell_type": "code",
   "execution_count": 46,
   "metadata": {},
   "outputs": [
    {
     "data": {
      "text/plain": [
       "0.3480352973395258"
      ]
     },
     "execution_count": 46,
     "metadata": {},
     "output_type": "execute_result"
    }
   ],
   "source": [
    "df=pd.read_table(\"http://academic.uprm.edu/eacuna/eje1reg.txt\",delim_whitespace=True)\n",
    "df.corr()[\"CEEB\"][\"GPA\"]"
   ]
  },
  {
   "cell_type": "code",
   "execution_count": 47,
   "metadata": {},
   "outputs": [
    {
     "name": "stdout",
     "output_type": "stream",
     "text": [
      "Intercept    2.209878\n",
      "CEEB         0.001087\n",
      "dtype: float64\n"
     ]
    }
   ],
   "source": [
    "result = sm.ols(formula=\"GPA ~ CEEB\", data=df).fit()\n",
    "print(result.params)"
   ]
  },
  {
   "cell_type": "code",
   "execution_count": 48,
   "metadata": {},
   "outputs": [
    {
     "data": {
      "image/png": "[encoded data removed]",
      "text/plain": [
       "<Figure size 432x288 with 1 Axes>"
      ]
     },
     "metadata": {},
     "output_type": "display_data"
    }
   ],
   "source": [
    "x=df['CEEB']\n",
    "y=df['GPA']\n",
    "plt.scatter(x,y)\n",
    "plt.plot(x, np.poly1d(np.polyfit(x, y, 1))(x),color='red')\n",
    "\n",
    "plt.show()"
   ]
  },
  {
   "cell_type": "code",
   "execution_count": 49,
   "metadata": {},
   "outputs": [
    {
     "name": "stdout",
     "output_type": "stream",
     "text": [
      "0.12112856819421214\n"
     ]
    }
   ],
   "source": [
    "#Hallando el coeficiente de determinacion r2\n",
    "r2 = sm.ols(formula=\"GPA ~ CEEB\", data=df).fit().rsquared\n",
    "print (r2)"
   ]
  },
  {
   "cell_type": "markdown",
   "metadata": {},
   "source": [
    "Comentario:El coeficiente de determinacionr2 es del 12% muy bajo. las prediciones basadas en el modelo no son confiables"
   ]
  },
  {
   "cell_type": "code",
   "execution_count": 50,
   "metadata": {},
   "outputs": [
    {
     "name": "stdout",
     "output_type": "stream",
     "text": [
      "0    2.862192\n",
      "1    3.079629\n",
      "dtype: float64\n"
     ]
    }
   ],
   "source": [
    "#Prediciendo el GPA de dos estudiantes uno que saco 490 y otro 790 en mate del CEEB\n",
    "pred=result.predict(pd.DataFrame({'CEEB': [600,800]}))\n",
    "print (pred)"
   ]
  },
  {
   "cell_type": "code",
   "execution_count": null,
   "metadata": {},
   "outputs": [],
   "source": []
  }
 ],
 "metadata": {
  "kernelspec": {
   "display_name": "Python 3",
   "language": "python",
   "name": "python3"
  },
  "language_info": {
   "codemirror_mode": {
    "name": "ipython",
    "version": 3
   },
   "file_extension": ".py",
   "mimetype": "text/x-python",
   "name": "python",
   "nbconvert_exporter": "python",
   "pygments_lexer": "ipython3",
   "version": "3.6.7"
  }
 },
 "nbformat": 4,
 "nbformat_minor": 2
}
